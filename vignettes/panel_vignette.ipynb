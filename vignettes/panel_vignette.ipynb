{
 "cells": [
  {
   "cell_type": "code",
   "execution_count": 1,
   "id": "f463b019",
   "metadata": {
    "execution": {
     "iopub.execute_input": "2024-02-05T13:20:34.225583Z",
     "iopub.status.busy": "2024-02-05T13:20:34.225583Z",
     "iopub.status.idle": "2024-02-05T13:20:38.638340Z",
     "shell.execute_reply": "2024-02-05T13:20:38.638340Z"
    },
    "papermill": {
     "duration": 4.415802,
     "end_time": "2024-02-05T13:20:38.638340",
     "exception": false,
     "start_time": "2024-02-05T13:20:34.222538",
     "status": "completed"
    },
    "tags": []
   },
   "outputs": [],
   "source": [
    "import FACSPy as fp"
   ]
  },
  {
   "cell_type": "code",
   "execution_count": 2,
   "id": "77963500",
   "metadata": {
    "execution": {
     "iopub.execute_input": "2024-02-05T13:20:38.644290Z",
     "iopub.status.busy": "2024-02-05T13:20:38.644290Z",
     "iopub.status.idle": "2024-02-05T13:20:38.672471Z",
     "shell.execute_reply": "2024-02-05T13:20:38.671248Z"
    },
    "papermill": {
     "duration": 0.034131,
     "end_time": "2024-02-05T13:20:38.672471",
     "exception": false,
     "start_time": "2024-02-05T13:20:38.638340",
     "status": "completed"
    },
    "tags": []
   },
   "outputs": [
    {
     "data": {
      "text/html": [
       "<div>\n",
       "<style scoped>\n",
       "    .dataframe tbody tr th:only-of-type {\n",
       "        vertical-align: middle;\n",
       "    }\n",
       "\n",
       "    .dataframe tbody tr th {\n",
       "        vertical-align: top;\n",
       "    }\n",
       "\n",
       "    .dataframe thead th {\n",
       "        text-align: right;\n",
       "    }\n",
       "</style>\n",
       "<table border=\"1\" class=\"dataframe\">\n",
       "  <thead>\n",
       "    <tr style=\"text-align: right;\">\n",
       "      <th></th>\n",
       "      <th>fcs_colname</th>\n",
       "      <th>antigens</th>\n",
       "    </tr>\n",
       "  </thead>\n",
       "  <tbody>\n",
       "    <tr>\n",
       "      <th>0</th>\n",
       "      <td>FJComp-BUV395-A</td>\n",
       "      <td>CD38</td>\n",
       "    </tr>\n",
       "    <tr>\n",
       "      <th>1</th>\n",
       "      <td>FJComp-BUV496-A</td>\n",
       "      <td>NKG2C_(CD159c)</td>\n",
       "    </tr>\n",
       "    <tr>\n",
       "      <th>2</th>\n",
       "      <td>FJComp-BUV563-A</td>\n",
       "      <td>CD3</td>\n",
       "    </tr>\n",
       "    <tr>\n",
       "      <th>3</th>\n",
       "      <td>FJComp-BUV615-A</td>\n",
       "      <td>CD16</td>\n",
       "    </tr>\n",
       "    <tr>\n",
       "      <th>4</th>\n",
       "      <td>FJComp-BUV661-A</td>\n",
       "      <td>CD161</td>\n",
       "    </tr>\n",
       "  </tbody>\n",
       "</table>\n",
       "</div>"
      ],
      "text/plain": [
       "       fcs_colname        antigens\n",
       "0  FJComp-BUV395-A            CD38\n",
       "1  FJComp-BUV496-A  NKG2C_(CD159c)\n",
       "2  FJComp-BUV563-A             CD3\n",
       "3  FJComp-BUV615-A            CD16\n",
       "4  FJComp-BUV661-A           CD161"
      ]
     },
     "execution_count": 2,
     "metadata": {},
     "output_type": "execute_result"
    }
   ],
   "source": [
    "### the panel stores all the channel information that the user supplied\n",
    "import pandas as pd\n",
    "panel_file = pd.read_csv(\"../Tutorials/spectral_dataset/panel.txt\", sep = \"\\t\")\n",
    "panel_file.head()"
   ]
  },
  {
   "cell_type": "code",
   "execution_count": 3,
   "id": "d05e7024",
   "metadata": {
    "execution": {
     "iopub.execute_input": "2024-02-05T13:20:38.672471Z",
     "iopub.status.busy": "2024-02-05T13:20:38.672471Z",
     "iopub.status.idle": "2024-02-05T13:20:38.687643Z",
     "shell.execute_reply": "2024-02-05T13:20:38.686984Z"
    },
    "papermill": {
     "duration": 0.015172,
     "end_time": "2024-02-05T13:20:38.687643",
     "exception": false,
     "start_time": "2024-02-05T13:20:38.672471",
     "status": "completed"
    },
    "tags": []
   },
   "outputs": [
    {
     "data": {
      "text/plain": [
       "Panel(28 channels, loaded as provided dataframe)"
      ]
     },
     "execution_count": 3,
     "metadata": {},
     "output_type": "execute_result"
    }
   ],
   "source": [
    "### we create a panel from this table\n",
    "panel = fp.dt.Panel(panel = panel_file)\n",
    "panel"
   ]
  },
  {
   "cell_type": "code",
   "execution_count": 4,
   "id": "a8e2d531",
   "metadata": {
    "execution": {
     "iopub.execute_input": "2024-02-05T13:20:38.693782Z",
     "iopub.status.busy": "2024-02-05T13:20:38.692790Z",
     "iopub.status.idle": "2024-02-05T13:20:38.702738Z",
     "shell.execute_reply": "2024-02-05T13:20:38.702738Z"
    },
    "papermill": {
     "duration": 0.016098,
     "end_time": "2024-02-05T13:20:38.703741",
     "exception": false,
     "start_time": "2024-02-05T13:20:38.687643",
     "status": "completed"
    },
    "tags": []
   },
   "outputs": [
    {
     "data": {
      "text/html": [
       "<div>\n",
       "<style scoped>\n",
       "    .dataframe tbody tr th:only-of-type {\n",
       "        vertical-align: middle;\n",
       "    }\n",
       "\n",
       "    .dataframe tbody tr th {\n",
       "        vertical-align: top;\n",
       "    }\n",
       "\n",
       "    .dataframe thead th {\n",
       "        text-align: right;\n",
       "    }\n",
       "</style>\n",
       "<table border=\"1\" class=\"dataframe\">\n",
       "  <thead>\n",
       "    <tr style=\"text-align: right;\">\n",
       "      <th></th>\n",
       "      <th>fcs_colname</th>\n",
       "      <th>antigens</th>\n",
       "    </tr>\n",
       "  </thead>\n",
       "  <tbody>\n",
       "    <tr>\n",
       "      <th>0</th>\n",
       "      <td>BUV395-A</td>\n",
       "      <td>CD38</td>\n",
       "    </tr>\n",
       "    <tr>\n",
       "      <th>1</th>\n",
       "      <td>BUV496-A</td>\n",
       "      <td>NKG2C_(CD159c)</td>\n",
       "    </tr>\n",
       "    <tr>\n",
       "      <th>2</th>\n",
       "      <td>BUV563-A</td>\n",
       "      <td>CD3</td>\n",
       "    </tr>\n",
       "    <tr>\n",
       "      <th>3</th>\n",
       "      <td>BUV615-A</td>\n",
       "      <td>CD16</td>\n",
       "    </tr>\n",
       "    <tr>\n",
       "      <th>4</th>\n",
       "      <td>BUV661-A</td>\n",
       "      <td>CD161</td>\n",
       "    </tr>\n",
       "  </tbody>\n",
       "</table>\n",
       "</div>"
      ],
      "text/plain": [
       "  fcs_colname        antigens\n",
       "0    BUV395-A            CD38\n",
       "1    BUV496-A  NKG2C_(CD159c)\n",
       "2    BUV563-A             CD3\n",
       "3    BUV615-A            CD16\n",
       "4    BUV661-A           CD161"
      ]
     },
     "execution_count": 4,
     "metadata": {},
     "output_type": "execute_result"
    }
   ],
   "source": [
    "### note that the prefixes from the original table have been removed\n",
    "panel.to_df().head()"
   ]
  },
  {
   "cell_type": "code",
   "execution_count": 5,
   "id": "c6c76d50",
   "metadata": {
    "execution": {
     "iopub.execute_input": "2024-02-05T13:20:38.709233Z",
     "iopub.status.busy": "2024-02-05T13:20:38.709233Z",
     "iopub.status.idle": "2024-02-05T13:20:38.718103Z",
     "shell.execute_reply": "2024-02-05T13:20:38.718103Z"
    },
    "papermill": {
     "duration": 0.012865,
     "end_time": "2024-02-05T13:20:38.719103",
     "exception": false,
     "start_time": "2024-02-05T13:20:38.706238",
     "status": "completed"
    },
    "tags": []
   },
   "outputs": [],
   "source": [
    "### not providing fcs_colname or antigens will result in an error\n",
    "### uncomment the next line to provoke the error\n",
    "\n",
    "# panel = fp.dt.Panel(panel = panel_file.rename(columns = {\"fcs_colname\": \"channel\"}))"
   ]
  },
  {
   "cell_type": "code",
   "execution_count": 6,
   "id": "f2e5012d",
   "metadata": {
    "execution": {
     "iopub.execute_input": "2024-02-05T13:20:38.723103Z",
     "iopub.status.busy": "2024-02-05T13:20:38.723103Z",
     "iopub.status.idle": "2024-02-05T13:20:38.734208Z",
     "shell.execute_reply": "2024-02-05T13:20:38.734208Z"
    },
    "papermill": {
     "duration": 0.014107,
     "end_time": "2024-02-05T13:20:38.735211",
     "exception": false,
     "start_time": "2024-02-05T13:20:38.721104",
     "status": "completed"
    },
    "tags": []
   },
   "outputs": [],
   "source": [
    "### The Panel can also be read directly from the hard drive:\n",
    "panel = fp.dt.Panel(\"../Tutorials/spectral_dataset/panel.txt\")"
   ]
  },
  {
   "cell_type": "code",
   "execution_count": 7,
   "id": "ffbd9723",
   "metadata": {
    "execution": {
     "iopub.execute_input": "2024-02-05T13:20:38.741216Z",
     "iopub.status.busy": "2024-02-05T13:20:38.740176Z",
     "iopub.status.idle": "2024-02-05T13:20:38.750154Z",
     "shell.execute_reply": "2024-02-05T13:20:38.750154Z"
    },
    "papermill": {
     "duration": 0.012808,
     "end_time": "2024-02-05T13:20:38.751108",
     "exception": false,
     "start_time": "2024-02-05T13:20:38.738300",
     "status": "completed"
    },
    "tags": []
   },
   "outputs": [
    {
     "data": {
      "text/plain": [
       "Panel(28 channels, loaded as provided file)"
      ]
     },
     "execution_count": 7,
     "metadata": {},
     "output_type": "execute_result"
    }
   ],
   "source": [
    "### we created a Panel object\n",
    "panel"
   ]
  },
  {
   "cell_type": "code",
   "execution_count": 8,
   "id": "9d77528e",
   "metadata": {
    "execution": {
     "iopub.execute_input": "2024-02-05T13:20:38.756165Z",
     "iopub.status.busy": "2024-02-05T13:20:38.756165Z",
     "iopub.status.idle": "2024-02-05T13:20:38.765262Z",
     "shell.execute_reply": "2024-02-05T13:20:38.765262Z"
    },
    "papermill": {
     "duration": 0.012056,
     "end_time": "2024-02-05T13:20:38.766164",
     "exception": false,
     "start_time": "2024-02-05T13:20:38.754108",
     "status": "completed"
    },
    "tags": []
   },
   "outputs": [
    {
     "data": {
      "text/html": [
       "<div>\n",
       "<style scoped>\n",
       "    .dataframe tbody tr th:only-of-type {\n",
       "        vertical-align: middle;\n",
       "    }\n",
       "\n",
       "    .dataframe tbody tr th {\n",
       "        vertical-align: top;\n",
       "    }\n",
       "\n",
       "    .dataframe thead th {\n",
       "        text-align: right;\n",
       "    }\n",
       "</style>\n",
       "<table border=\"1\" class=\"dataframe\">\n",
       "  <thead>\n",
       "    <tr style=\"text-align: right;\">\n",
       "      <th></th>\n",
       "      <th>fcs_colname</th>\n",
       "      <th>antigens</th>\n",
       "    </tr>\n",
       "  </thead>\n",
       "  <tbody>\n",
       "    <tr>\n",
       "      <th>0</th>\n",
       "      <td>BUV395-A</td>\n",
       "      <td>CD38</td>\n",
       "    </tr>\n",
       "    <tr>\n",
       "      <th>1</th>\n",
       "      <td>BUV496-A</td>\n",
       "      <td>NKG2C_(CD159c)</td>\n",
       "    </tr>\n",
       "    <tr>\n",
       "      <th>2</th>\n",
       "      <td>BUV563-A</td>\n",
       "      <td>CD3</td>\n",
       "    </tr>\n",
       "    <tr>\n",
       "      <th>3</th>\n",
       "      <td>BUV615-A</td>\n",
       "      <td>CD16</td>\n",
       "    </tr>\n",
       "    <tr>\n",
       "      <th>4</th>\n",
       "      <td>BUV661-A</td>\n",
       "      <td>CD161</td>\n",
       "    </tr>\n",
       "  </tbody>\n",
       "</table>\n",
       "</div>"
      ],
      "text/plain": [
       "  fcs_colname        antigens\n",
       "0    BUV395-A            CD38\n",
       "1    BUV496-A  NKG2C_(CD159c)\n",
       "2    BUV563-A             CD3\n",
       "3    BUV615-A            CD16\n",
       "4    BUV661-A           CD161"
      ]
     },
     "execution_count": 8,
     "metadata": {},
     "output_type": "execute_result"
    }
   ],
   "source": [
    "### the underlying data are stored as a pandas dataframe and are accessed by the .dataframe attribute or the .to_df() method\n",
    "df = panel.dataframe\n",
    "df.head()"
   ]
  },
  {
   "cell_type": "code",
   "execution_count": 9,
   "id": "39423f5d",
   "metadata": {
    "execution": {
     "iopub.execute_input": "2024-02-05T13:20:38.770746Z",
     "iopub.status.busy": "2024-02-05T13:20:38.770746Z",
     "iopub.status.idle": "2024-02-05T13:20:38.780698Z",
     "shell.execute_reply": "2024-02-05T13:20:38.780698Z"
    },
    "papermill": {
     "duration": 0.01358,
     "end_time": "2024-02-05T13:20:38.781752",
     "exception": false,
     "start_time": "2024-02-05T13:20:38.768172",
     "status": "completed"
    },
    "tags": []
   },
   "outputs": [
    {
     "data": {
      "text/html": [
       "<div>\n",
       "<style scoped>\n",
       "    .dataframe tbody tr th:only-of-type {\n",
       "        vertical-align: middle;\n",
       "    }\n",
       "\n",
       "    .dataframe tbody tr th {\n",
       "        vertical-align: top;\n",
       "    }\n",
       "\n",
       "    .dataframe thead th {\n",
       "        text-align: right;\n",
       "    }\n",
       "</style>\n",
       "<table border=\"1\" class=\"dataframe\">\n",
       "  <thead>\n",
       "    <tr style=\"text-align: right;\">\n",
       "      <th></th>\n",
       "      <th>fcs_colname</th>\n",
       "      <th>antigens</th>\n",
       "    </tr>\n",
       "  </thead>\n",
       "  <tbody>\n",
       "    <tr>\n",
       "      <th>0</th>\n",
       "      <td>BUV395-A</td>\n",
       "      <td>CD38</td>\n",
       "    </tr>\n",
       "    <tr>\n",
       "      <th>1</th>\n",
       "      <td>BUV496-A</td>\n",
       "      <td>NKG2C_(CD159c)</td>\n",
       "    </tr>\n",
       "    <tr>\n",
       "      <th>2</th>\n",
       "      <td>BUV563-A</td>\n",
       "      <td>CD3</td>\n",
       "    </tr>\n",
       "    <tr>\n",
       "      <th>3</th>\n",
       "      <td>BUV615-A</td>\n",
       "      <td>CD16</td>\n",
       "    </tr>\n",
       "    <tr>\n",
       "      <th>4</th>\n",
       "      <td>BUV661-A</td>\n",
       "      <td>CD161</td>\n",
       "    </tr>\n",
       "  </tbody>\n",
       "</table>\n",
       "</div>"
      ],
      "text/plain": [
       "  fcs_colname        antigens\n",
       "0    BUV395-A            CD38\n",
       "1    BUV496-A  NKG2C_(CD159c)\n",
       "2    BUV563-A             CD3\n",
       "3    BUV615-A            CD16\n",
       "4    BUV661-A           CD161"
      ]
     },
     "execution_count": 9,
     "metadata": {},
     "output_type": "execute_result"
    }
   ],
   "source": [
    "df = panel.to_df()\n",
    "df.head()"
   ]
  },
  {
   "cell_type": "code",
   "execution_count": 10,
   "id": "01ed1ab9",
   "metadata": {
    "execution": {
     "iopub.execute_input": "2024-02-05T13:20:38.787690Z",
     "iopub.status.busy": "2024-02-05T13:20:38.786690Z",
     "iopub.status.idle": "2024-02-05T13:20:38.796110Z",
     "shell.execute_reply": "2024-02-05T13:20:38.796110Z"
    },
    "papermill": {
     "duration": 0.014342,
     "end_time": "2024-02-05T13:20:38.798116",
     "exception": false,
     "start_time": "2024-02-05T13:20:38.783774",
     "status": "completed"
    },
    "tags": []
   },
   "outputs": [],
   "source": [
    "### panel can be written to the hard drive\n",
    "panel.write(\"../Tutorials/spectral_dataset/vignette_panel.csv\")"
   ]
  }
 ],
 "metadata": {
  "kernelspec": {
   "display_name": "Python 3 (ipykernel)",
   "language": "python",
   "name": "python3"
  },
  "language_info": {
   "codemirror_mode": {
    "name": "ipython",
    "version": 3
   },
   "file_extension": ".py",
   "mimetype": "text/x-python",
   "name": "python",
   "nbconvert_exporter": "python",
   "pygments_lexer": "ipython3",
   "version": "3.10.13"
  },
  "papermill": {
   "default_parameters": {},
   "duration": 6.428247,
   "end_time": "2024-02-05T13:20:39.347380",
   "environment_variables": {},
   "exception": null,
   "input_path": "C:\\Users\\tarik\\Python\\FACSPy\\vignettes\\panel_vignette.ipynb",
   "output_path": "C:\\Users\\tarik\\Python\\FACSPy\\vignettes\\panel_vignette.ipynb",
   "parameters": {},
   "start_time": "2024-02-05T13:20:32.919133",
   "version": "2.5.0"
  }
 },
 "nbformat": 4,
 "nbformat_minor": 5
}