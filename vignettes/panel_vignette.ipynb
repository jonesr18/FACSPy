{
 "cells": [
  {
   "cell_type": "code",
   "execution_count": 1,
   "id": "f463b019",
   "metadata": {
    "execution": {
     "iopub.execute_input": "2023-12-02T22:24:31.415187Z",
     "iopub.status.busy": "2023-12-02T22:24:31.415187Z",
     "iopub.status.idle": "2023-12-02T22:24:36.612203Z",
     "shell.execute_reply": "2023-12-02T22:24:36.612203Z"
    },
    "papermill": {
     "duration": 5.197016,
     "end_time": "2023-12-02T22:24:36.612203",
     "exception": false,
     "start_time": "2023-12-02T22:24:31.415187",
     "status": "completed"
    },
    "tags": []
   },
   "outputs": [],
   "source": [
    "import FACSPy as fp"
   ]
  },
  {
   "cell_type": "code",
   "execution_count": 2,
   "id": "77963500",
   "metadata": {
    "execution": {
     "iopub.execute_input": "2023-12-02T22:24:36.612203Z",
     "iopub.status.busy": "2023-12-02T22:24:36.612203Z",
     "iopub.status.idle": "2023-12-02T22:24:36.643828Z",
     "shell.execute_reply": "2023-12-02T22:24:36.643828Z"
    },
    "papermill": {
     "duration": 0.032732,
     "end_time": "2023-12-02T22:24:36.644935",
     "exception": false,
     "start_time": "2023-12-02T22:24:36.612203",
     "status": "completed"
    },
    "tags": []
   },
   "outputs": [
    {
     "data": {
      "text/html": [
       "<div>\n",
       "<style scoped>\n",
       "    .dataframe tbody tr th:only-of-type {\n",
       "        vertical-align: middle;\n",
       "    }\n",
       "\n",
       "    .dataframe tbody tr th {\n",
       "        vertical-align: top;\n",
       "    }\n",
       "\n",
       "    .dataframe thead th {\n",
       "        text-align: right;\n",
       "    }\n",
       "</style>\n",
       "<table border=\"1\" class=\"dataframe\">\n",
       "  <thead>\n",
       "    <tr style=\"text-align: right;\">\n",
       "      <th></th>\n",
       "      <th>fcs_colname</th>\n",
       "      <th>antigens</th>\n",
       "    </tr>\n",
       "  </thead>\n",
       "  <tbody>\n",
       "    <tr>\n",
       "      <th>0</th>\n",
       "      <td>FJComp-BUV395-A</td>\n",
       "      <td>CD38</td>\n",
       "    </tr>\n",
       "    <tr>\n",
       "      <th>1</th>\n",
       "      <td>FJComp-BUV496-A</td>\n",
       "      <td>NKG2C_(CD159c)</td>\n",
       "    </tr>\n",
       "    <tr>\n",
       "      <th>2</th>\n",
       "      <td>FJComp-BUV563-A</td>\n",
       "      <td>CD3</td>\n",
       "    </tr>\n",
       "    <tr>\n",
       "      <th>3</th>\n",
       "      <td>FJComp-BUV615-A</td>\n",
       "      <td>CD16</td>\n",
       "    </tr>\n",
       "    <tr>\n",
       "      <th>4</th>\n",
       "      <td>FJComp-BUV661-A</td>\n",
       "      <td>CD161</td>\n",
       "    </tr>\n",
       "  </tbody>\n",
       "</table>\n",
       "</div>"
      ],
      "text/plain": [
       "       fcs_colname        antigens\n",
       "0  FJComp-BUV395-A            CD38\n",
       "1  FJComp-BUV496-A  NKG2C_(CD159c)\n",
       "2  FJComp-BUV563-A             CD3\n",
       "3  FJComp-BUV615-A            CD16\n",
       "4  FJComp-BUV661-A           CD161"
      ]
     },
     "execution_count": 2,
     "metadata": {},
     "output_type": "execute_result"
    }
   ],
   "source": [
    "### the panel stores all the channel information that the user supplied\n",
    "import pandas as pd\n",
    "panel_file = pd.read_csv(\"../Tutorials/spectral_dataset/panel.txt\", sep = \"\\t\")\n",
    "panel_file.head()"
   ]
  },
  {
   "cell_type": "code",
   "execution_count": 3,
   "id": "d05e7024",
   "metadata": {
    "execution": {
     "iopub.execute_input": "2023-12-02T22:24:36.644935Z",
     "iopub.status.busy": "2023-12-02T22:24:36.644935Z",
     "iopub.status.idle": "2023-12-02T22:24:36.660529Z",
     "shell.execute_reply": "2023-12-02T22:24:36.659941Z"
    },
    "papermill": {
     "duration": 0.016437,
     "end_time": "2023-12-02T22:24:36.661372",
     "exception": false,
     "start_time": "2023-12-02T22:24:36.644935",
     "status": "completed"
    },
    "tags": []
   },
   "outputs": [
    {
     "data": {
      "text/plain": [
       "Panel(28 channels, loaded as provided dataframe)"
      ]
     },
     "execution_count": 3,
     "metadata": {},
     "output_type": "execute_result"
    }
   ],
   "source": [
    "### we create a panel from this table\n",
    "panel = fp.dt.Panel(panel = panel_file)\n",
    "panel"
   ]
  },
  {
   "cell_type": "code",
   "execution_count": 4,
   "id": "a8e2d531",
   "metadata": {
    "execution": {
     "iopub.execute_input": "2023-12-02T22:24:36.665151Z",
     "iopub.status.busy": "2023-12-02T22:24:36.665151Z",
     "iopub.status.idle": "2023-12-02T22:24:36.676007Z",
     "shell.execute_reply": "2023-12-02T22:24:36.676007Z"
    },
    "papermill": {
     "duration": 0.015865,
     "end_time": "2023-12-02T22:24:36.677790",
     "exception": false,
     "start_time": "2023-12-02T22:24:36.661925",
     "status": "completed"
    },
    "tags": []
   },
   "outputs": [
    {
     "data": {
      "text/html": [
       "<div>\n",
       "<style scoped>\n",
       "    .dataframe tbody tr th:only-of-type {\n",
       "        vertical-align: middle;\n",
       "    }\n",
       "\n",
       "    .dataframe tbody tr th {\n",
       "        vertical-align: top;\n",
       "    }\n",
       "\n",
       "    .dataframe thead th {\n",
       "        text-align: right;\n",
       "    }\n",
       "</style>\n",
       "<table border=\"1\" class=\"dataframe\">\n",
       "  <thead>\n",
       "    <tr style=\"text-align: right;\">\n",
       "      <th></th>\n",
       "      <th>fcs_colname</th>\n",
       "      <th>antigens</th>\n",
       "    </tr>\n",
       "  </thead>\n",
       "  <tbody>\n",
       "    <tr>\n",
       "      <th>0</th>\n",
       "      <td>BUV395-A</td>\n",
       "      <td>CD38</td>\n",
       "    </tr>\n",
       "    <tr>\n",
       "      <th>1</th>\n",
       "      <td>BUV496-A</td>\n",
       "      <td>NKG2C_(CD159c)</td>\n",
       "    </tr>\n",
       "    <tr>\n",
       "      <th>2</th>\n",
       "      <td>BUV563-A</td>\n",
       "      <td>CD3</td>\n",
       "    </tr>\n",
       "    <tr>\n",
       "      <th>3</th>\n",
       "      <td>BUV615-A</td>\n",
       "      <td>CD16</td>\n",
       "    </tr>\n",
       "    <tr>\n",
       "      <th>4</th>\n",
       "      <td>BUV661-A</td>\n",
       "      <td>CD161</td>\n",
       "    </tr>\n",
       "  </tbody>\n",
       "</table>\n",
       "</div>"
      ],
      "text/plain": [
       "  fcs_colname        antigens\n",
       "0    BUV395-A            CD38\n",
       "1    BUV496-A  NKG2C_(CD159c)\n",
       "2    BUV563-A             CD3\n",
       "3    BUV615-A            CD16\n",
       "4    BUV661-A           CD161"
      ]
     },
     "execution_count": 4,
     "metadata": {},
     "output_type": "execute_result"
    }
   ],
   "source": [
    "### note that the prefixes from the original table have been removed\n",
    "panel.to_df().head()"
   ]
  },
  {
   "cell_type": "code",
   "execution_count": 5,
   "id": "c6c76d50",
   "metadata": {
    "execution": {
     "iopub.execute_input": "2023-12-02T22:24:36.677790Z",
     "iopub.status.busy": "2023-12-02T22:24:36.677790Z",
     "iopub.status.idle": "2023-12-02T22:24:36.691923Z",
     "shell.execute_reply": "2023-12-02T22:24:36.691923Z"
    },
    "papermill": {
     "duration": 0.014133,
     "end_time": "2023-12-02T22:24:36.691923",
     "exception": false,
     "start_time": "2023-12-02T22:24:36.677790",
     "status": "completed"
    },
    "tags": []
   },
   "outputs": [],
   "source": [
    "### not providing fcs_colname or antigens will result in an error\n",
    "### uncomment the next line to provoke the error\n",
    "\n",
    "# panel = fp.dt.Panel(panel = panel_file.rename(columns = {\"fcs_colname\": \"channel\"}))"
   ]
  },
  {
   "cell_type": "code",
   "execution_count": 6,
   "id": "f2e5012d",
   "metadata": {
    "execution": {
     "iopub.execute_input": "2023-12-02T22:24:36.697616Z",
     "iopub.status.busy": "2023-12-02T22:24:36.697616Z",
     "iopub.status.idle": "2023-12-02T22:24:36.707620Z",
     "shell.execute_reply": "2023-12-02T22:24:36.707620Z"
    },
    "papermill": {
     "duration": 0.017165,
     "end_time": "2023-12-02T22:24:36.709088",
     "exception": false,
     "start_time": "2023-12-02T22:24:36.691923",
     "status": "completed"
    },
    "tags": []
   },
   "outputs": [],
   "source": [
    "### The Panel can also be read directly from the hard drive:\n",
    "panel = fp.dt.Panel(\"../Tutorials/spectral_dataset/panel.txt\")"
   ]
  },
  {
   "cell_type": "code",
   "execution_count": 7,
   "id": "ffbd9723",
   "metadata": {
    "execution": {
     "iopub.execute_input": "2023-12-02T22:24:36.709088Z",
     "iopub.status.busy": "2023-12-02T22:24:36.709088Z",
     "iopub.status.idle": "2023-12-02T22:24:36.723381Z",
     "shell.execute_reply": "2023-12-02T22:24:36.723381Z"
    },
    "papermill": {
     "duration": 0.016123,
     "end_time": "2023-12-02T22:24:36.725211",
     "exception": false,
     "start_time": "2023-12-02T22:24:36.709088",
     "status": "completed"
    },
    "tags": []
   },
   "outputs": [
    {
     "data": {
      "text/plain": [
       "Panel(28 channels, loaded as provided file)"
      ]
     },
     "execution_count": 7,
     "metadata": {},
     "output_type": "execute_result"
    }
   ],
   "source": [
    "### we created a Panel object\n",
    "panel"
   ]
  },
  {
   "cell_type": "code",
   "execution_count": 8,
   "id": "9d77528e",
   "metadata": {
    "execution": {
     "iopub.execute_input": "2023-12-02T22:24:36.729721Z",
     "iopub.status.busy": "2023-12-02T22:24:36.726401Z",
     "iopub.status.idle": "2023-12-02T22:24:36.739314Z",
     "shell.execute_reply": "2023-12-02T22:24:36.739314Z"
    },
    "papermill": {
     "duration": 0.012913,
     "end_time": "2023-12-02T22:24:36.739314",
     "exception": false,
     "start_time": "2023-12-02T22:24:36.726401",
     "status": "completed"
    },
    "tags": []
   },
   "outputs": [
    {
     "data": {
      "text/html": [
       "<div>\n",
       "<style scoped>\n",
       "    .dataframe tbody tr th:only-of-type {\n",
       "        vertical-align: middle;\n",
       "    }\n",
       "\n",
       "    .dataframe tbody tr th {\n",
       "        vertical-align: top;\n",
       "    }\n",
       "\n",
       "    .dataframe thead th {\n",
       "        text-align: right;\n",
       "    }\n",
       "</style>\n",
       "<table border=\"1\" class=\"dataframe\">\n",
       "  <thead>\n",
       "    <tr style=\"text-align: right;\">\n",
       "      <th></th>\n",
       "      <th>fcs_colname</th>\n",
       "      <th>antigens</th>\n",
       "    </tr>\n",
       "  </thead>\n",
       "  <tbody>\n",
       "    <tr>\n",
       "      <th>0</th>\n",
       "      <td>BUV395-A</td>\n",
       "      <td>CD38</td>\n",
       "    </tr>\n",
       "    <tr>\n",
       "      <th>1</th>\n",
       "      <td>BUV496-A</td>\n",
       "      <td>NKG2C_(CD159c)</td>\n",
       "    </tr>\n",
       "    <tr>\n",
       "      <th>2</th>\n",
       "      <td>BUV563-A</td>\n",
       "      <td>CD3</td>\n",
       "    </tr>\n",
       "    <tr>\n",
       "      <th>3</th>\n",
       "      <td>BUV615-A</td>\n",
       "      <td>CD16</td>\n",
       "    </tr>\n",
       "    <tr>\n",
       "      <th>4</th>\n",
       "      <td>BUV661-A</td>\n",
       "      <td>CD161</td>\n",
       "    </tr>\n",
       "  </tbody>\n",
       "</table>\n",
       "</div>"
      ],
      "text/plain": [
       "  fcs_colname        antigens\n",
       "0    BUV395-A            CD38\n",
       "1    BUV496-A  NKG2C_(CD159c)\n",
       "2    BUV563-A             CD3\n",
       "3    BUV615-A            CD16\n",
       "4    BUV661-A           CD161"
      ]
     },
     "execution_count": 8,
     "metadata": {},
     "output_type": "execute_result"
    }
   ],
   "source": [
    "### the underlying data are stored as a pandas dataframe and are accessed by the .dataframe attribute or the .to_df() method\n",
    "df = panel.dataframe\n",
    "df.head()"
   ]
  },
  {
   "cell_type": "code",
   "execution_count": 9,
   "id": "39423f5d",
   "metadata": {
    "execution": {
     "iopub.execute_input": "2023-12-02T22:24:36.744823Z",
     "iopub.status.busy": "2023-12-02T22:24:36.744823Z",
     "iopub.status.idle": "2023-12-02T22:24:36.755419Z",
     "shell.execute_reply": "2023-12-02T22:24:36.755419Z"
    },
    "papermill": {
     "duration": 0.016105,
     "end_time": "2023-12-02T22:24:36.755419",
     "exception": false,
     "start_time": "2023-12-02T22:24:36.739314",
     "status": "completed"
    },
    "tags": []
   },
   "outputs": [
    {
     "data": {
      "text/html": [
       "<div>\n",
       "<style scoped>\n",
       "    .dataframe tbody tr th:only-of-type {\n",
       "        vertical-align: middle;\n",
       "    }\n",
       "\n",
       "    .dataframe tbody tr th {\n",
       "        vertical-align: top;\n",
       "    }\n",
       "\n",
       "    .dataframe thead th {\n",
       "        text-align: right;\n",
       "    }\n",
       "</style>\n",
       "<table border=\"1\" class=\"dataframe\">\n",
       "  <thead>\n",
       "    <tr style=\"text-align: right;\">\n",
       "      <th></th>\n",
       "      <th>fcs_colname</th>\n",
       "      <th>antigens</th>\n",
       "    </tr>\n",
       "  </thead>\n",
       "  <tbody>\n",
       "    <tr>\n",
       "      <th>0</th>\n",
       "      <td>BUV395-A</td>\n",
       "      <td>CD38</td>\n",
       "    </tr>\n",
       "    <tr>\n",
       "      <th>1</th>\n",
       "      <td>BUV496-A</td>\n",
       "      <td>NKG2C_(CD159c)</td>\n",
       "    </tr>\n",
       "    <tr>\n",
       "      <th>2</th>\n",
       "      <td>BUV563-A</td>\n",
       "      <td>CD3</td>\n",
       "    </tr>\n",
       "    <tr>\n",
       "      <th>3</th>\n",
       "      <td>BUV615-A</td>\n",
       "      <td>CD16</td>\n",
       "    </tr>\n",
       "    <tr>\n",
       "      <th>4</th>\n",
       "      <td>BUV661-A</td>\n",
       "      <td>CD161</td>\n",
       "    </tr>\n",
       "  </tbody>\n",
       "</table>\n",
       "</div>"
      ],
      "text/plain": [
       "  fcs_colname        antigens\n",
       "0    BUV395-A            CD38\n",
       "1    BUV496-A  NKG2C_(CD159c)\n",
       "2    BUV563-A             CD3\n",
       "3    BUV615-A            CD16\n",
       "4    BUV661-A           CD161"
      ]
     },
     "execution_count": 9,
     "metadata": {},
     "output_type": "execute_result"
    }
   ],
   "source": [
    "df = panel.to_df()\n",
    "df.head()"
   ]
  },
  {
   "cell_type": "code",
   "execution_count": 10,
   "id": "01ed1ab9",
   "metadata": {
    "execution": {
     "iopub.execute_input": "2023-12-02T22:24:36.755419Z",
     "iopub.status.busy": "2023-12-02T22:24:36.755419Z",
     "iopub.status.idle": "2023-12-02T22:24:36.771143Z",
     "shell.execute_reply": "2023-12-02T22:24:36.771143Z"
    },
    "papermill": {
     "duration": 0.016897,
     "end_time": "2023-12-02T22:24:36.772316",
     "exception": false,
     "start_time": "2023-12-02T22:24:36.755419",
     "status": "completed"
    },
    "tags": []
   },
   "outputs": [],
   "source": [
    "### panel can be written to the hard drive\n",
    "panel.write(\"../Tutorials/spectral_dataset/vignette_panel.csv\")"
   ]
  }
 ],
 "metadata": {
  "kernelspec": {
   "display_name": "Python 3 (ipykernel)",
   "language": "python",
   "name": "python3"
  },
  "language_info": {
   "codemirror_mode": {
    "name": "ipython",
    "version": 3
   },
   "file_extension": ".py",
   "mimetype": "text/x-python",
   "name": "python",
   "nbconvert_exporter": "python",
   "pygments_lexer": "ipython3",
   "version": "3.10.13"
  },
  "papermill": {
   "default_parameters": {},
   "duration": 7.095071,
   "end_time": "2023-12-02T22:24:37.233570",
   "environment_variables": {},
   "exception": null,
   "input_path": "C:\\Users\\tarik\\Python\\FACSPy\\vignettes\\panel_vignette.ipynb",
   "output_path": "C:\\Users\\tarik\\Python\\FACSPy\\vignettes\\panel_vignette.ipynb",
   "parameters": {},
   "start_time": "2023-12-02T22:24:30.138499",
   "version": "2.5.0"
  }
 },
 "nbformat": 4,
 "nbformat_minor": 5
}