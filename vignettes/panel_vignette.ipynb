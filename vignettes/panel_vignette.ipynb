{
 "cells": [
  {
   "cell_type": "markdown",
   "id": "172dd020",
   "metadata": {
    "execution": {
     "iopub.execute_input": "2024-02-05T13:20:34.225583Z",
     "iopub.status.busy": "2024-02-05T13:20:34.225583Z",
     "iopub.status.idle": "2024-02-05T13:20:38.638340Z",
     "shell.execute_reply": "2024-02-05T13:20:38.638340Z"
    },
    "papermill": {
     "duration": 4.415802,
     "end_time": "2024-02-05T13:20:38.638340",
     "exception": false,
     "start_time": "2024-02-05T13:20:34.222538",
     "status": "completed"
    },
    "tags": []
   },
   "source": [
    "# The Panel object\n",
    "\n",
    "The panel has to be provided as a table.\n",
    "\n",
    "There are two obligatory columns: 'fcs_colname' and 'antigens'. \n",
    "\n",
    "'fcs_colname' corresponds to the channel names as written in the .fcs file (e.g. BV421-A).\n",
    "'antigens' contains a list of the markers used (e.g. CD3).\n",
    "\n",
    "Here, we read in an example panel as a normal dataframe via the `pandas` library:"
   ]
  },
  {
   "cell_type": "code",
   "execution_count": 1,
   "id": "77963500",
   "metadata": {
    "execution": {
     "iopub.execute_input": "2024-02-05T13:20:38.644290Z",
     "iopub.status.busy": "2024-02-05T13:20:38.644290Z",
     "iopub.status.idle": "2024-02-05T13:20:38.672471Z",
     "shell.execute_reply": "2024-02-05T13:20:38.671248Z"
    },
    "papermill": {
     "duration": 0.034131,
     "end_time": "2024-02-05T13:20:38.672471",
     "exception": false,
     "start_time": "2024-02-05T13:20:38.638340",
     "status": "completed"
    },
    "tags": []
   },
   "outputs": [
    {
     "data": {
      "text/html": [
       "<div>\n",
       "<style scoped>\n",
       "    .dataframe tbody tr th:only-of-type {\n",
       "        vertical-align: middle;\n",
       "    }\n",
       "\n",
       "    .dataframe tbody tr th {\n",
       "        vertical-align: top;\n",
       "    }\n",
       "\n",
       "    .dataframe thead th {\n",
       "        text-align: right;\n",
       "    }\n",
       "</style>\n",
       "<table border=\"1\" class=\"dataframe\">\n",
       "  <thead>\n",
       "    <tr style=\"text-align: right;\">\n",
       "      <th></th>\n",
       "      <th>fcs_colname</th>\n",
       "      <th>antigens</th>\n",
       "    </tr>\n",
       "  </thead>\n",
       "  <tbody>\n",
       "    <tr>\n",
       "      <th>0</th>\n",
       "      <td>FJComp-BUV395-A</td>\n",
       "      <td>CD38</td>\n",
       "    </tr>\n",
       "    <tr>\n",
       "      <th>1</th>\n",
       "      <td>FJComp-BUV496-A</td>\n",
       "      <td>NKG2C_(CD159c)</td>\n",
       "    </tr>\n",
       "    <tr>\n",
       "      <th>2</th>\n",
       "      <td>FJComp-BUV563-A</td>\n",
       "      <td>CD3</td>\n",
       "    </tr>\n",
       "    <tr>\n",
       "      <th>3</th>\n",
       "      <td>FJComp-BUV615-A</td>\n",
       "      <td>CD16</td>\n",
       "    </tr>\n",
       "    <tr>\n",
       "      <th>4</th>\n",
       "      <td>FJComp-BUV661-A</td>\n",
       "      <td>CD161</td>\n",
       "    </tr>\n",
       "  </tbody>\n",
       "</table>\n",
       "</div>"
      ],
      "text/plain": [
       "       fcs_colname        antigens\n",
       "0  FJComp-BUV395-A            CD38\n",
       "1  FJComp-BUV496-A  NKG2C_(CD159c)\n",
       "2  FJComp-BUV563-A             CD3\n",
       "3  FJComp-BUV615-A            CD16\n",
       "4  FJComp-BUV661-A           CD161"
      ]
     },
     "execution_count": 1,
     "metadata": {},
     "output_type": "execute_result"
    }
   ],
   "source": [
    "import pandas as pd\n",
    "panel_file = pd.read_csv(\"../Tutorials/spectral_dataset/panel.txt\", sep = \"\\t\")\n",
    "panel_file.head()"
   ]
  },
  {
   "cell_type": "markdown",
   "id": "f940ddcf",
   "metadata": {},
   "source": [
    "## Create panel from a pandas dataframe\n",
    "\n",
    "In order to create a FACSPy-readable Panel object, we use the `fp.dt.Panel` class where 'fp' is the alias for FACSPy and 'dt' stands for dataset.\n",
    "\n",
    "In this scenario, we use the panel table that we read via the pandas library from above. We pass the table via\n",
    "the `panel` parameter. \n",
    "\n",
    "A `Panel` object is created with 28 channels."
   ]
  },
  {
   "cell_type": "code",
   "execution_count": 2,
   "id": "5b15da2c",
   "metadata": {},
   "outputs": [],
   "source": [
    "import FACSPy as fp"
   ]
  },
  {
   "cell_type": "code",
   "execution_count": 3,
   "id": "d05e7024",
   "metadata": {
    "execution": {
     "iopub.execute_input": "2024-02-05T13:20:38.672471Z",
     "iopub.status.busy": "2024-02-05T13:20:38.672471Z",
     "iopub.status.idle": "2024-02-05T13:20:38.687643Z",
     "shell.execute_reply": "2024-02-05T13:20:38.686984Z"
    },
    "papermill": {
     "duration": 0.015172,
     "end_time": "2024-02-05T13:20:38.687643",
     "exception": false,
     "start_time": "2024-02-05T13:20:38.672471",
     "status": "completed"
    },
    "tags": []
   },
   "outputs": [
    {
     "data": {
      "text/plain": [
       "Panel(28 channels, loaded as provided dataframe)"
      ]
     },
     "execution_count": 3,
     "metadata": {},
     "output_type": "execute_result"
    }
   ],
   "source": [
    "panel = fp.dt.Panel(panel = panel_file)\n",
    "panel"
   ]
  },
  {
   "cell_type": "markdown",
   "id": "d3181737",
   "metadata": {},
   "source": [
    "Note that the prefixes ('FJComp') from the original table have been removed:"
   ]
  },
  {
   "cell_type": "code",
   "execution_count": 4,
   "id": "a8e2d531",
   "metadata": {
    "execution": {
     "iopub.execute_input": "2024-02-05T13:20:38.693782Z",
     "iopub.status.busy": "2024-02-05T13:20:38.692790Z",
     "iopub.status.idle": "2024-02-05T13:20:38.702738Z",
     "shell.execute_reply": "2024-02-05T13:20:38.702738Z"
    },
    "papermill": {
     "duration": 0.016098,
     "end_time": "2024-02-05T13:20:38.703741",
     "exception": false,
     "start_time": "2024-02-05T13:20:38.687643",
     "status": "completed"
    },
    "tags": []
   },
   "outputs": [
    {
     "data": {
      "text/html": [
       "<div>\n",
       "<style scoped>\n",
       "    .dataframe tbody tr th:only-of-type {\n",
       "        vertical-align: middle;\n",
       "    }\n",
       "\n",
       "    .dataframe tbody tr th {\n",
       "        vertical-align: top;\n",
       "    }\n",
       "\n",
       "    .dataframe thead th {\n",
       "        text-align: right;\n",
       "    }\n",
       "</style>\n",
       "<table border=\"1\" class=\"dataframe\">\n",
       "  <thead>\n",
       "    <tr style=\"text-align: right;\">\n",
       "      <th></th>\n",
       "      <th>fcs_colname</th>\n",
       "      <th>antigens</th>\n",
       "    </tr>\n",
       "  </thead>\n",
       "  <tbody>\n",
       "    <tr>\n",
       "      <th>0</th>\n",
       "      <td>BUV395-A</td>\n",
       "      <td>CD38</td>\n",
       "    </tr>\n",
       "    <tr>\n",
       "      <th>1</th>\n",
       "      <td>BUV496-A</td>\n",
       "      <td>NKG2C_(CD159c)</td>\n",
       "    </tr>\n",
       "    <tr>\n",
       "      <th>2</th>\n",
       "      <td>BUV563-A</td>\n",
       "      <td>CD3</td>\n",
       "    </tr>\n",
       "    <tr>\n",
       "      <th>3</th>\n",
       "      <td>BUV615-A</td>\n",
       "      <td>CD16</td>\n",
       "    </tr>\n",
       "    <tr>\n",
       "      <th>4</th>\n",
       "      <td>BUV661-A</td>\n",
       "      <td>CD161</td>\n",
       "    </tr>\n",
       "  </tbody>\n",
       "</table>\n",
       "</div>"
      ],
      "text/plain": [
       "  fcs_colname        antigens\n",
       "0    BUV395-A            CD38\n",
       "1    BUV496-A  NKG2C_(CD159c)\n",
       "2    BUV563-A             CD3\n",
       "3    BUV615-A            CD16\n",
       "4    BUV661-A           CD161"
      ]
     },
     "execution_count": 4,
     "metadata": {},
     "output_type": "execute_result"
    }
   ],
   "source": [
    "panel.to_df().head()"
   ]
  },
  {
   "cell_type": "markdown",
   "id": "9a73c1df",
   "metadata": {},
   "source": [
    "## Create panel from a .csv file\n",
    "\n",
    "\n",
    "We can also read the panel table directly from the hard drive. In order to do that, we pass the path to the `fp.dt.Panel` class. Any file format that can be accessed by `pd.read_csv()` can be used."
   ]
  },
  {
   "cell_type": "code",
   "execution_count": 5,
   "id": "f2e5012d",
   "metadata": {
    "execution": {
     "iopub.execute_input": "2024-02-05T13:20:38.723103Z",
     "iopub.status.busy": "2024-02-05T13:20:38.723103Z",
     "iopub.status.idle": "2024-02-05T13:20:38.734208Z",
     "shell.execute_reply": "2024-02-05T13:20:38.734208Z"
    },
    "papermill": {
     "duration": 0.014107,
     "end_time": "2024-02-05T13:20:38.735211",
     "exception": false,
     "start_time": "2024-02-05T13:20:38.721104",
     "status": "completed"
    },
    "tags": []
   },
   "outputs": [
    {
     "data": {
      "text/plain": [
       "Panel(28 channels, loaded as provided file)"
      ]
     },
     "execution_count": 5,
     "metadata": {},
     "output_type": "execute_result"
    }
   ],
   "source": [
    "panel = fp.dt.Panel(\"../Tutorials/spectral_dataset/panel.txt\")\n",
    "panel"
   ]
  },
  {
   "cell_type": "markdown",
   "id": "0007e6fa",
   "metadata": {},
   "source": [
    "## Access the panel table\n",
    "\n",
    "The underlying table is stored in the `.dataframe` attribute and can be accessed and modified.\n",
    "\n",
    "Use the method `.to_df()` to return the underlying table or directly access the table via `.dataframe` as shown here."
   ]
  },
  {
   "cell_type": "code",
   "execution_count": 6,
   "id": "9d77528e",
   "metadata": {
    "execution": {
     "iopub.execute_input": "2024-02-05T13:20:38.756165Z",
     "iopub.status.busy": "2024-02-05T13:20:38.756165Z",
     "iopub.status.idle": "2024-02-05T13:20:38.765262Z",
     "shell.execute_reply": "2024-02-05T13:20:38.765262Z"
    },
    "papermill": {
     "duration": 0.012056,
     "end_time": "2024-02-05T13:20:38.766164",
     "exception": false,
     "start_time": "2024-02-05T13:20:38.754108",
     "status": "completed"
    },
    "tags": []
   },
   "outputs": [
    {
     "data": {
      "text/html": [
       "<div>\n",
       "<style scoped>\n",
       "    .dataframe tbody tr th:only-of-type {\n",
       "        vertical-align: middle;\n",
       "    }\n",
       "\n",
       "    .dataframe tbody tr th {\n",
       "        vertical-align: top;\n",
       "    }\n",
       "\n",
       "    .dataframe thead th {\n",
       "        text-align: right;\n",
       "    }\n",
       "</style>\n",
       "<table border=\"1\" class=\"dataframe\">\n",
       "  <thead>\n",
       "    <tr style=\"text-align: right;\">\n",
       "      <th></th>\n",
       "      <th>fcs_colname</th>\n",
       "      <th>antigens</th>\n",
       "    </tr>\n",
       "  </thead>\n",
       "  <tbody>\n",
       "    <tr>\n",
       "      <th>0</th>\n",
       "      <td>BUV395-A</td>\n",
       "      <td>CD38</td>\n",
       "    </tr>\n",
       "    <tr>\n",
       "      <th>1</th>\n",
       "      <td>BUV496-A</td>\n",
       "      <td>NKG2C_(CD159c)</td>\n",
       "    </tr>\n",
       "    <tr>\n",
       "      <th>2</th>\n",
       "      <td>BUV563-A</td>\n",
       "      <td>CD3</td>\n",
       "    </tr>\n",
       "    <tr>\n",
       "      <th>3</th>\n",
       "      <td>BUV615-A</td>\n",
       "      <td>CD16</td>\n",
       "    </tr>\n",
       "    <tr>\n",
       "      <th>4</th>\n",
       "      <td>BUV661-A</td>\n",
       "      <td>CD161</td>\n",
       "    </tr>\n",
       "  </tbody>\n",
       "</table>\n",
       "</div>"
      ],
      "text/plain": [
       "  fcs_colname        antigens\n",
       "0    BUV395-A            CD38\n",
       "1    BUV496-A  NKG2C_(CD159c)\n",
       "2    BUV563-A             CD3\n",
       "3    BUV615-A            CD16\n",
       "4    BUV661-A           CD161"
      ]
     },
     "execution_count": 6,
     "metadata": {},
     "output_type": "execute_result"
    }
   ],
   "source": [
    "df = panel.dataframe\n",
    "df.head()"
   ]
  },
  {
   "cell_type": "code",
   "execution_count": 7,
   "id": "39423f5d",
   "metadata": {
    "execution": {
     "iopub.execute_input": "2024-02-05T13:20:38.770746Z",
     "iopub.status.busy": "2024-02-05T13:20:38.770746Z",
     "iopub.status.idle": "2024-02-05T13:20:38.780698Z",
     "shell.execute_reply": "2024-02-05T13:20:38.780698Z"
    },
    "papermill": {
     "duration": 0.01358,
     "end_time": "2024-02-05T13:20:38.781752",
     "exception": false,
     "start_time": "2024-02-05T13:20:38.768172",
     "status": "completed"
    },
    "tags": []
   },
   "outputs": [
    {
     "data": {
      "text/html": [
       "<div>\n",
       "<style scoped>\n",
       "    .dataframe tbody tr th:only-of-type {\n",
       "        vertical-align: middle;\n",
       "    }\n",
       "\n",
       "    .dataframe tbody tr th {\n",
       "        vertical-align: top;\n",
       "    }\n",
       "\n",
       "    .dataframe thead th {\n",
       "        text-align: right;\n",
       "    }\n",
       "</style>\n",
       "<table border=\"1\" class=\"dataframe\">\n",
       "  <thead>\n",
       "    <tr style=\"text-align: right;\">\n",
       "      <th></th>\n",
       "      <th>fcs_colname</th>\n",
       "      <th>antigens</th>\n",
       "    </tr>\n",
       "  </thead>\n",
       "  <tbody>\n",
       "    <tr>\n",
       "      <th>0</th>\n",
       "      <td>BUV395-A</td>\n",
       "      <td>CD38</td>\n",
       "    </tr>\n",
       "    <tr>\n",
       "      <th>1</th>\n",
       "      <td>BUV496-A</td>\n",
       "      <td>NKG2C_(CD159c)</td>\n",
       "    </tr>\n",
       "    <tr>\n",
       "      <th>2</th>\n",
       "      <td>BUV563-A</td>\n",
       "      <td>CD3</td>\n",
       "    </tr>\n",
       "    <tr>\n",
       "      <th>3</th>\n",
       "      <td>BUV615-A</td>\n",
       "      <td>CD16</td>\n",
       "    </tr>\n",
       "    <tr>\n",
       "      <th>4</th>\n",
       "      <td>BUV661-A</td>\n",
       "      <td>CD161</td>\n",
       "    </tr>\n",
       "  </tbody>\n",
       "</table>\n",
       "</div>"
      ],
      "text/plain": [
       "  fcs_colname        antigens\n",
       "0    BUV395-A            CD38\n",
       "1    BUV496-A  NKG2C_(CD159c)\n",
       "2    BUV563-A             CD3\n",
       "3    BUV615-A            CD16\n",
       "4    BUV661-A           CD161"
      ]
     },
     "execution_count": 7,
     "metadata": {},
     "output_type": "execute_result"
    }
   ],
   "source": [
    "df = panel.to_df()\n",
    "df.head()"
   ]
  },
  {
   "cell_type": "markdown",
   "id": "80477e8f",
   "metadata": {},
   "source": [
    "## Access the channels\n",
    "\n",
    "In order to retrieve the channels stored in the `Panel` object, use the `.get_channels()` method. For antigens, use the `.get_antigens()` method."
   ]
  },
  {
   "cell_type": "code",
   "execution_count": 8,
   "id": "dad08131",
   "metadata": {},
   "outputs": [
    {
     "data": {
      "text/plain": [
       "['BUV395-A',\n",
       " 'BUV496-A',\n",
       " 'BUV563-A',\n",
       " 'BUV615-A',\n",
       " 'BUV661-A',\n",
       " 'BUV737-A',\n",
       " 'BUV805-A',\n",
       " 'BV421-A',\n",
       " 'V450-A',\n",
       " 'BV480-A',\n",
       " 'BV510-A',\n",
       " 'BV570-A',\n",
       " 'BV605-A',\n",
       " 'BV650-A',\n",
       " 'BV711-A',\n",
       " 'BV750-A',\n",
       " 'BV786-A',\n",
       " 'FITC-A',\n",
       " 'Alexa Fluor 532-A',\n",
       " 'BB700-A',\n",
       " 'PerCP-Cy5.5-A',\n",
       " 'PE-A',\n",
       " 'PE-Dazzle594-A',\n",
       " 'PE-Cy7-A',\n",
       " 'Alexa Fluor 647-A',\n",
       " 'Alexa Fluor 700-A',\n",
       " 'Zombie NIR-A',\n",
       " 'APC-Fire 750-A']"
      ]
     },
     "execution_count": 8,
     "metadata": {},
     "output_type": "execute_result"
    }
   ],
   "source": [
    "panel.get_channels()"
   ]
  },
  {
   "cell_type": "code",
   "execution_count": 9,
   "id": "d7444cf3",
   "metadata": {},
   "outputs": [
    {
     "data": {
      "text/plain": [
       "['CD38',\n",
       " 'NKG2C_(CD159c)',\n",
       " 'CD3',\n",
       " 'CD16',\n",
       " 'CD161',\n",
       " 'CD32',\n",
       " 'CD56',\n",
       " '41BB_(CD137)',\n",
       " 'CD4',\n",
       " 'CD64',\n",
       " 'KLRG1',\n",
       " 'CD45',\n",
       " 'HLA_DR',\n",
       " 'CD19',\n",
       " 'NKp44',\n",
       " 'CD69',\n",
       " 'TIGIT',\n",
       " 'CD57',\n",
       " 'CD8',\n",
       " 'CD14',\n",
       " 'CD27',\n",
       " 'NKG2A_(CD159a)',\n",
       " 'CTLA-4_(CD152)',\n",
       " 'TRAIL_(CD253)',\n",
       " 'PD-1_(CD279) ',\n",
       " 'CD18',\n",
       " 'Zombie_NIR',\n",
       " 'CD66b']"
      ]
     },
     "execution_count": 9,
     "metadata": {},
     "output_type": "execute_result"
    }
   ],
   "source": [
    "panel.get_antigens()"
   ]
  },
  {
   "cell_type": "markdown",
   "id": "3405a07c",
   "metadata": {},
   "source": [
    "## Rename a channel\n",
    "\n",
    "In order to rename a channel, we use the `.rename_channel()` method. This will replace the given name in 'fcs_colname'."
   ]
  },
  {
   "cell_type": "code",
   "execution_count": 10,
   "id": "190fee7f",
   "metadata": {},
   "outputs": [
    {
     "data": {
      "text/html": [
       "<div>\n",
       "<style scoped>\n",
       "    .dataframe tbody tr th:only-of-type {\n",
       "        vertical-align: middle;\n",
       "    }\n",
       "\n",
       "    .dataframe tbody tr th {\n",
       "        vertical-align: top;\n",
       "    }\n",
       "\n",
       "    .dataframe thead th {\n",
       "        text-align: right;\n",
       "    }\n",
       "</style>\n",
       "<table border=\"1\" class=\"dataframe\">\n",
       "  <thead>\n",
       "    <tr style=\"text-align: right;\">\n",
       "      <th></th>\n",
       "      <th>fcs_colname</th>\n",
       "      <th>antigens</th>\n",
       "    </tr>\n",
       "  </thead>\n",
       "  <tbody>\n",
       "    <tr>\n",
       "      <th>0</th>\n",
       "      <td>BUV395</td>\n",
       "      <td>CD38</td>\n",
       "    </tr>\n",
       "    <tr>\n",
       "      <th>1</th>\n",
       "      <td>BUV496-A</td>\n",
       "      <td>NKG2C_(CD159c)</td>\n",
       "    </tr>\n",
       "    <tr>\n",
       "      <th>2</th>\n",
       "      <td>BUV563-A</td>\n",
       "      <td>CD3</td>\n",
       "    </tr>\n",
       "    <tr>\n",
       "      <th>3</th>\n",
       "      <td>BUV615-A</td>\n",
       "      <td>CD16</td>\n",
       "    </tr>\n",
       "    <tr>\n",
       "      <th>4</th>\n",
       "      <td>BUV661-A</td>\n",
       "      <td>CD161</td>\n",
       "    </tr>\n",
       "  </tbody>\n",
       "</table>\n",
       "</div>"
      ],
      "text/plain": [
       "  fcs_colname        antigens\n",
       "0      BUV395            CD38\n",
       "1    BUV496-A  NKG2C_(CD159c)\n",
       "2    BUV563-A             CD3\n",
       "3    BUV615-A            CD16\n",
       "4    BUV661-A           CD161"
      ]
     },
     "execution_count": 10,
     "metadata": {},
     "output_type": "execute_result"
    }
   ],
   "source": [
    "panel.rename_channel(\"BUV395-A\", \"BUV395\")\n",
    "panel.dataframe.head()"
   ]
  },
  {
   "cell_type": "markdown",
   "id": "743ab139",
   "metadata": {},
   "source": [
    "## Rename an antigen\n",
    "\n",
    "In order to rename an antigen, we use the `.rename_antigen()` method. This will replace the name in 'antigens'"
   ]
  },
  {
   "cell_type": "code",
   "execution_count": 11,
   "id": "54d9b305",
   "metadata": {},
   "outputs": [
    {
     "data": {
      "text/html": [
       "<div>\n",
       "<style scoped>\n",
       "    .dataframe tbody tr th:only-of-type {\n",
       "        vertical-align: middle;\n",
       "    }\n",
       "\n",
       "    .dataframe tbody tr th {\n",
       "        vertical-align: top;\n",
       "    }\n",
       "\n",
       "    .dataframe thead th {\n",
       "        text-align: right;\n",
       "    }\n",
       "</style>\n",
       "<table border=\"1\" class=\"dataframe\">\n",
       "  <thead>\n",
       "    <tr style=\"text-align: right;\">\n",
       "      <th></th>\n",
       "      <th>fcs_colname</th>\n",
       "      <th>antigens</th>\n",
       "    </tr>\n",
       "  </thead>\n",
       "  <tbody>\n",
       "    <tr>\n",
       "      <th>0</th>\n",
       "      <td>BUV395</td>\n",
       "      <td>CD38</td>\n",
       "    </tr>\n",
       "    <tr>\n",
       "      <th>1</th>\n",
       "      <td>BUV496-A</td>\n",
       "      <td>NKG2C_(CD159c)</td>\n",
       "    </tr>\n",
       "    <tr>\n",
       "      <th>2</th>\n",
       "      <td>BUV563-A</td>\n",
       "      <td>CD3</td>\n",
       "    </tr>\n",
       "    <tr>\n",
       "      <th>3</th>\n",
       "      <td>BUV615-A</td>\n",
       "      <td>CD16</td>\n",
       "    </tr>\n",
       "    <tr>\n",
       "      <th>4</th>\n",
       "      <td>BUV661-A</td>\n",
       "      <td>CD161</td>\n",
       "    </tr>\n",
       "  </tbody>\n",
       "</table>\n",
       "</div>"
      ],
      "text/plain": [
       "  fcs_colname        antigens\n",
       "0      BUV395            CD38\n",
       "1    BUV496-A  NKG2C_(CD159c)\n",
       "2    BUV563-A             CD3\n",
       "3    BUV615-A            CD16\n",
       "4    BUV661-A           CD161"
      ]
     },
     "execution_count": 11,
     "metadata": {},
     "output_type": "execute_result"
    }
   ],
   "source": [
    "panel.rename_channel(\"CD38\", \"cyclic ADP ribose hydrolase\")\n",
    "panel.dataframe.head()"
   ]
  },
  {
   "cell_type": "markdown",
   "id": "bf94d955",
   "metadata": {},
   "source": [
    "## Write the panel to the hard drive\n",
    "\n",
    "In order to write the panel table to the hard drive, use the `.write()` method, specifying a file-path with the file name."
   ]
  },
  {
   "cell_type": "code",
   "execution_count": 12,
   "id": "01ed1ab9",
   "metadata": {
    "execution": {
     "iopub.execute_input": "2024-02-05T13:20:38.787690Z",
     "iopub.status.busy": "2024-02-05T13:20:38.786690Z",
     "iopub.status.idle": "2024-02-05T13:20:38.796110Z",
     "shell.execute_reply": "2024-02-05T13:20:38.796110Z"
    },
    "papermill": {
     "duration": 0.014342,
     "end_time": "2024-02-05T13:20:38.798116",
     "exception": false,
     "start_time": "2024-02-05T13:20:38.783774",
     "status": "completed"
    },
    "tags": []
   },
   "outputs": [],
   "source": [
    "panel.write(\"../Tutorials/spectral_dataset/vignette_panel.csv\")"
   ]
  }
 ],
 "metadata": {
  "kernelspec": {
   "display_name": "Python 3 (ipykernel)",
   "language": "python",
   "name": "python3"
  },
  "language_info": {
   "codemirror_mode": {
    "name": "ipython",
    "version": 3
   },
   "file_extension": ".py",
   "mimetype": "text/x-python",
   "name": "python",
   "nbconvert_exporter": "python",
   "pygments_lexer": "ipython3",
   "version": "3.10.13"
  },
  "papermill": {
   "default_parameters": {},
   "duration": 6.428247,
   "end_time": "2024-02-05T13:20:39.347380",
   "environment_variables": {},
   "exception": null,
   "input_path": "C:\\Users\\tarik\\Python\\FACSPy\\vignettes\\panel_vignette.ipynb",
   "output_path": "C:\\Users\\tarik\\Python\\FACSPy\\vignettes\\panel_vignette.ipynb",
   "parameters": {},
   "start_time": "2024-02-05T13:20:32.919133",
   "version": "2.5.0"
  }
 },
 "nbformat": 4,
 "nbformat_minor": 5
}
