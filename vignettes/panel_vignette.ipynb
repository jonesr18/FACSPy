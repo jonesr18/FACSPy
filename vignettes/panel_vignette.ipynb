{
 "cells": [
  {
   "cell_type": "code",
   "execution_count": 1,
   "id": "f463b019",
   "metadata": {},
   "outputs": [],
   "source": [
    "import FACSPy as fp"
   ]
  },
  {
   "cell_type": "code",
   "execution_count": 2,
   "id": "77963500",
   "metadata": {},
   "outputs": [
    {
     "data": {
      "text/html": [
       "<div>\n",
       "<style scoped>\n",
       "    .dataframe tbody tr th:only-of-type {\n",
       "        vertical-align: middle;\n",
       "    }\n",
       "\n",
       "    .dataframe tbody tr th {\n",
       "        vertical-align: top;\n",
       "    }\n",
       "\n",
       "    .dataframe thead th {\n",
       "        text-align: right;\n",
       "    }\n",
       "</style>\n",
       "<table border=\"1\" class=\"dataframe\">\n",
       "  <thead>\n",
       "    <tr style=\"text-align: right;\">\n",
       "      <th></th>\n",
       "      <th>fcs_colname</th>\n",
       "      <th>antigens</th>\n",
       "    </tr>\n",
       "  </thead>\n",
       "  <tbody>\n",
       "    <tr>\n",
       "      <th>0</th>\n",
       "      <td>FJComp-BUV395-A</td>\n",
       "      <td>CD38</td>\n",
       "    </tr>\n",
       "    <tr>\n",
       "      <th>1</th>\n",
       "      <td>FJComp-BUV496-A</td>\n",
       "      <td>NKG2C_(CD159c)</td>\n",
       "    </tr>\n",
       "    <tr>\n",
       "      <th>2</th>\n",
       "      <td>FJComp-BUV563-A</td>\n",
       "      <td>CD3</td>\n",
       "    </tr>\n",
       "    <tr>\n",
       "      <th>3</th>\n",
       "      <td>FJComp-BUV615-A</td>\n",
       "      <td>CD16</td>\n",
       "    </tr>\n",
       "    <tr>\n",
       "      <th>4</th>\n",
       "      <td>FJComp-BUV661-A</td>\n",
       "      <td>CD161</td>\n",
       "    </tr>\n",
       "  </tbody>\n",
       "</table>\n",
       "</div>"
      ],
      "text/plain": [
       "       fcs_colname        antigens\n",
       "0  FJComp-BUV395-A            CD38\n",
       "1  FJComp-BUV496-A  NKG2C_(CD159c)\n",
       "2  FJComp-BUV563-A             CD3\n",
       "3  FJComp-BUV615-A            CD16\n",
       "4  FJComp-BUV661-A           CD161"
      ]
     },
     "execution_count": 2,
     "metadata": {},
     "output_type": "execute_result"
    }
   ],
   "source": [
    "### the panel stores all the channel information that the user supplied\n",
    "import pandas as pd\n",
    "panel_file = pd.read_csv(\"../../Tutorials/spectral_dataset/panel.txt\", sep = \"\\t\")\n",
    "panel_file.head()"
   ]
  },
  {
   "cell_type": "code",
   "execution_count": 3,
   "id": "d05e7024",
   "metadata": {},
   "outputs": [
    {
     "data": {
      "text/plain": [
       "Panel(28 channels, loaded as provided dataframe)"
      ]
     },
     "execution_count": 3,
     "metadata": {},
     "output_type": "execute_result"
    }
   ],
   "source": [
    "### we create a panel from this table\n",
    "panel = fp.dt.Panel(panel = panel_file)\n",
    "panel"
   ]
  },
  {
   "cell_type": "code",
   "execution_count": 4,
   "id": "a8e2d531",
   "metadata": {},
   "outputs": [
    {
     "data": {
      "text/html": [
       "<div>\n",
       "<style scoped>\n",
       "    .dataframe tbody tr th:only-of-type {\n",
       "        vertical-align: middle;\n",
       "    }\n",
       "\n",
       "    .dataframe tbody tr th {\n",
       "        vertical-align: top;\n",
       "    }\n",
       "\n",
       "    .dataframe thead th {\n",
       "        text-align: right;\n",
       "    }\n",
       "</style>\n",
       "<table border=\"1\" class=\"dataframe\">\n",
       "  <thead>\n",
       "    <tr style=\"text-align: right;\">\n",
       "      <th></th>\n",
       "      <th>fcs_colname</th>\n",
       "      <th>antigens</th>\n",
       "    </tr>\n",
       "  </thead>\n",
       "  <tbody>\n",
       "    <tr>\n",
       "      <th>0</th>\n",
       "      <td>BUV395-A</td>\n",
       "      <td>CD38</td>\n",
       "    </tr>\n",
       "    <tr>\n",
       "      <th>1</th>\n",
       "      <td>BUV496-A</td>\n",
       "      <td>NKG2C_(CD159c)</td>\n",
       "    </tr>\n",
       "    <tr>\n",
       "      <th>2</th>\n",
       "      <td>BUV563-A</td>\n",
       "      <td>CD3</td>\n",
       "    </tr>\n",
       "    <tr>\n",
       "      <th>3</th>\n",
       "      <td>BUV615-A</td>\n",
       "      <td>CD16</td>\n",
       "    </tr>\n",
       "    <tr>\n",
       "      <th>4</th>\n",
       "      <td>BUV661-A</td>\n",
       "      <td>CD161</td>\n",
       "    </tr>\n",
       "  </tbody>\n",
       "</table>\n",
       "</div>"
      ],
      "text/plain": [
       "  fcs_colname        antigens\n",
       "0    BUV395-A            CD38\n",
       "1    BUV496-A  NKG2C_(CD159c)\n",
       "2    BUV563-A             CD3\n",
       "3    BUV615-A            CD16\n",
       "4    BUV661-A           CD161"
      ]
     },
     "execution_count": 4,
     "metadata": {},
     "output_type": "execute_result"
    }
   ],
   "source": [
    "### note that the prefixes from the original table have been removed\n",
    "panel.to_df().head()"
   ]
  },
  {
   "cell_type": "code",
   "execution_count": 5,
   "id": "c6c76d50",
   "metadata": {},
   "outputs": [
    {
     "ename": "SupplementColumnError",
     "evalue": "Column fcs_colname was not found in Panel. Please adjust data accordingly. Columns must be named 'fcs_colname' and antigens must be named 'antigens'.",
     "output_type": "error",
     "traceback": [
      "\u001b[1;31m---------------------------------------------------------------------------\u001b[0m",
      "\u001b[1;31mSupplementColumnError\u001b[0m                     Traceback (most recent call last)",
      "Cell \u001b[1;32mIn[5], line 2\u001b[0m\n\u001b[0;32m      1\u001b[0m \u001b[38;5;66;03m### not providing fcs_colname or antigens will result in an error\u001b[39;00m\n\u001b[1;32m----> 2\u001b[0m panel \u001b[38;5;241m=\u001b[39m \u001b[43mfp\u001b[49m\u001b[38;5;241;43m.\u001b[39;49m\u001b[43mdt\u001b[49m\u001b[38;5;241;43m.\u001b[39;49m\u001b[43mPanel\u001b[49m\u001b[43m(\u001b[49m\u001b[43mpanel\u001b[49m\u001b[43m \u001b[49m\u001b[38;5;241;43m=\u001b[39;49m\u001b[43m \u001b[49m\u001b[43mpanel_file\u001b[49m\u001b[38;5;241;43m.\u001b[39;49m\u001b[43mrename\u001b[49m\u001b[43m(\u001b[49m\u001b[43mcolumns\u001b[49m\u001b[43m \u001b[49m\u001b[38;5;241;43m=\u001b[39;49m\u001b[43m \u001b[49m\u001b[43m{\u001b[49m\u001b[38;5;124;43m\"\u001b[39;49m\u001b[38;5;124;43mfcs_colname\u001b[39;49m\u001b[38;5;124;43m\"\u001b[39;49m\u001b[43m:\u001b[49m\u001b[43m \u001b[49m\u001b[38;5;124;43m\"\u001b[39;49m\u001b[38;5;124;43mchannel\u001b[39;49m\u001b[38;5;124;43m\"\u001b[39;49m\u001b[43m}\u001b[49m\u001b[43m)\u001b[49m\u001b[43m)\u001b[49m\n",
      "File \u001b[1;32m~\\anaconda3\\envs\\FACSPypeline\\lib\\site-packages\\FACSPy\\dataset\\_supplements.py:147\u001b[0m, in \u001b[0;36mPanel.__init__\u001b[1;34m(self, file, panel, from_fcs)\u001b[0m\n\u001b[0;32m    138\u001b[0m \u001b[38;5;28;01mdef\u001b[39;00m \u001b[38;5;21m__init__\u001b[39m(\u001b[38;5;28mself\u001b[39m,\n\u001b[0;32m    139\u001b[0m              file: \u001b[38;5;28mstr\u001b[39m \u001b[38;5;241m=\u001b[39m \u001b[38;5;124m'\u001b[39m\u001b[38;5;124m'\u001b[39m,\n\u001b[0;32m    140\u001b[0m              panel: Optional[pd\u001b[38;5;241m.\u001b[39mDataFrame] \u001b[38;5;241m=\u001b[39m \u001b[38;5;28;01mNone\u001b[39;00m,\n\u001b[0;32m    141\u001b[0m              from_fcs: \u001b[38;5;28mbool\u001b[39m \u001b[38;5;241m=\u001b[39m \u001b[38;5;28;01mFalse\u001b[39;00m) \u001b[38;5;241m-\u001b[39m\u001b[38;5;241m>\u001b[39m \u001b[38;5;28;01mNone\u001b[39;00m:\n\u001b[0;32m    143\u001b[0m     \u001b[38;5;28msuper\u001b[39m()\u001b[38;5;241m.\u001b[39m\u001b[38;5;21m__init__\u001b[39m(file \u001b[38;5;241m=\u001b[39m file,\n\u001b[0;32m    144\u001b[0m                      data \u001b[38;5;241m=\u001b[39m panel,\n\u001b[0;32m    145\u001b[0m                      from_fcs \u001b[38;5;241m=\u001b[39m from_fcs)\n\u001b[1;32m--> 147\u001b[0m     \u001b[38;5;28mself\u001b[39m\u001b[38;5;241m.\u001b[39mdataframe \u001b[38;5;241m=\u001b[39m \u001b[38;5;28;43mself\u001b[39;49m\u001b[38;5;241;43m.\u001b[39;49m\u001b[43mvalidate_user_supplied_table\u001b[49m\u001b[43m(\u001b[49m\u001b[38;5;28;43mself\u001b[39;49m\u001b[38;5;241;43m.\u001b[39;49m\u001b[43mdataframe\u001b[49m\u001b[43m,\u001b[49m\n\u001b[0;32m    148\u001b[0m \u001b[43m                                                       \u001b[49m\u001b[43m[\u001b[49m\u001b[38;5;124;43m\"\u001b[39;49m\u001b[38;5;124;43mfcs_colname\u001b[39;49m\u001b[38;5;124;43m\"\u001b[39;49m\u001b[43m,\u001b[49m\u001b[43m \u001b[49m\u001b[38;5;124;43m\"\u001b[39;49m\u001b[38;5;124;43mantigens\u001b[39;49m\u001b[38;5;124;43m\"\u001b[39;49m\u001b[43m]\u001b[49m\u001b[43m)\u001b[49m\n\u001b[0;32m    149\u001b[0m     \u001b[38;5;28mself\u001b[39m\u001b[38;5;241m.\u001b[39mdataframe \u001b[38;5;241m=\u001b[39m \u001b[38;5;28mself\u001b[39m\u001b[38;5;241m.\u001b[39mstrip_prefixes(\u001b[38;5;28mself\u001b[39m\u001b[38;5;241m.\u001b[39mdataframe)\n",
      "File \u001b[1;32m~\\anaconda3\\envs\\FACSPypeline\\lib\\site-packages\\FACSPy\\dataset\\_supplements.py:86\u001b[0m, in \u001b[0;36mBaseSupplement.validate_user_supplied_table\u001b[1;34m(self, dataframe, columns_to_check)\u001b[0m\n\u001b[0;32m     84\u001b[0m     \u001b[38;5;28;01mfor\u001b[39;00m column \u001b[38;5;129;01min\u001b[39;00m columns_to_check:\n\u001b[0;32m     85\u001b[0m         \u001b[38;5;28;01mif\u001b[39;00m column \u001b[38;5;129;01mnot\u001b[39;00m \u001b[38;5;129;01min\u001b[39;00m dataframe\u001b[38;5;241m.\u001b[39mcolumns:\n\u001b[1;32m---> 86\u001b[0m             \u001b[38;5;28;01mraise\u001b[39;00m SupplementColumnError(column,\n\u001b[0;32m     87\u001b[0m                                         \u001b[38;5;28mself\u001b[39m\u001b[38;5;241m.\u001b[39m\u001b[38;5;18m__class__\u001b[39m\u001b[38;5;241m.\u001b[39m\u001b[38;5;18m__name__\u001b[39m)\n\u001b[0;32m     89\u001b[0m \u001b[38;5;28;01mreturn\u001b[39;00m dataframe\n",
      "\u001b[1;31mSupplementColumnError\u001b[0m: Column fcs_colname was not found in Panel. Please adjust data accordingly. Columns must be named 'fcs_colname' and antigens must be named 'antigens'."
     ]
    }
   ],
   "source": [
    "### not providing fcs_colname or antigens will result in an error\n",
    "panel = fp.dt.Panel(panel = panel_file.rename(columns = {\"fcs_colname\": \"channel\"}))"
   ]
  },
  {
   "cell_type": "code",
   "execution_count": 6,
   "id": "f2e5012d",
   "metadata": {},
   "outputs": [],
   "source": [
    "### The Panel can also be read directly from the hard drive:\n",
    "panel = fp.dt.Panel(\"../../Tutorials/spectral_dataset/panel.txt\")"
   ]
  },
  {
   "cell_type": "code",
   "execution_count": 7,
   "id": "ffbd9723",
   "metadata": {},
   "outputs": [
    {
     "data": {
      "text/plain": [
       "Panel(28 channels, loaded as provided file)"
      ]
     },
     "execution_count": 7,
     "metadata": {},
     "output_type": "execute_result"
    }
   ],
   "source": [
    "### we created a Panel object\n",
    "panel"
   ]
  },
  {
   "cell_type": "code",
   "execution_count": 8,
   "id": "9d77528e",
   "metadata": {},
   "outputs": [
    {
     "data": {
      "text/html": [
       "<div>\n",
       "<style scoped>\n",
       "    .dataframe tbody tr th:only-of-type {\n",
       "        vertical-align: middle;\n",
       "    }\n",
       "\n",
       "    .dataframe tbody tr th {\n",
       "        vertical-align: top;\n",
       "    }\n",
       "\n",
       "    .dataframe thead th {\n",
       "        text-align: right;\n",
       "    }\n",
       "</style>\n",
       "<table border=\"1\" class=\"dataframe\">\n",
       "  <thead>\n",
       "    <tr style=\"text-align: right;\">\n",
       "      <th></th>\n",
       "      <th>fcs_colname</th>\n",
       "      <th>antigens</th>\n",
       "    </tr>\n",
       "  </thead>\n",
       "  <tbody>\n",
       "    <tr>\n",
       "      <th>0</th>\n",
       "      <td>BUV395-A</td>\n",
       "      <td>CD38</td>\n",
       "    </tr>\n",
       "    <tr>\n",
       "      <th>1</th>\n",
       "      <td>BUV496-A</td>\n",
       "      <td>NKG2C_(CD159c)</td>\n",
       "    </tr>\n",
       "    <tr>\n",
       "      <th>2</th>\n",
       "      <td>BUV563-A</td>\n",
       "      <td>CD3</td>\n",
       "    </tr>\n",
       "    <tr>\n",
       "      <th>3</th>\n",
       "      <td>BUV615-A</td>\n",
       "      <td>CD16</td>\n",
       "    </tr>\n",
       "    <tr>\n",
       "      <th>4</th>\n",
       "      <td>BUV661-A</td>\n",
       "      <td>CD161</td>\n",
       "    </tr>\n",
       "  </tbody>\n",
       "</table>\n",
       "</div>"
      ],
      "text/plain": [
       "  fcs_colname        antigens\n",
       "0    BUV395-A            CD38\n",
       "1    BUV496-A  NKG2C_(CD159c)\n",
       "2    BUV563-A             CD3\n",
       "3    BUV615-A            CD16\n",
       "4    BUV661-A           CD161"
      ]
     },
     "execution_count": 8,
     "metadata": {},
     "output_type": "execute_result"
    }
   ],
   "source": [
    "### the underlying data are stored as a pandas dataframe and are accessed by the .dataframe attribute or the .to_df() method\n",
    "df = panel.dataframe\n",
    "df.head()"
   ]
  },
  {
   "cell_type": "code",
   "execution_count": 9,
   "id": "39423f5d",
   "metadata": {},
   "outputs": [
    {
     "data": {
      "text/html": [
       "<div>\n",
       "<style scoped>\n",
       "    .dataframe tbody tr th:only-of-type {\n",
       "        vertical-align: middle;\n",
       "    }\n",
       "\n",
       "    .dataframe tbody tr th {\n",
       "        vertical-align: top;\n",
       "    }\n",
       "\n",
       "    .dataframe thead th {\n",
       "        text-align: right;\n",
       "    }\n",
       "</style>\n",
       "<table border=\"1\" class=\"dataframe\">\n",
       "  <thead>\n",
       "    <tr style=\"text-align: right;\">\n",
       "      <th></th>\n",
       "      <th>fcs_colname</th>\n",
       "      <th>antigens</th>\n",
       "    </tr>\n",
       "  </thead>\n",
       "  <tbody>\n",
       "    <tr>\n",
       "      <th>0</th>\n",
       "      <td>BUV395-A</td>\n",
       "      <td>CD38</td>\n",
       "    </tr>\n",
       "    <tr>\n",
       "      <th>1</th>\n",
       "      <td>BUV496-A</td>\n",
       "      <td>NKG2C_(CD159c)</td>\n",
       "    </tr>\n",
       "    <tr>\n",
       "      <th>2</th>\n",
       "      <td>BUV563-A</td>\n",
       "      <td>CD3</td>\n",
       "    </tr>\n",
       "    <tr>\n",
       "      <th>3</th>\n",
       "      <td>BUV615-A</td>\n",
       "      <td>CD16</td>\n",
       "    </tr>\n",
       "    <tr>\n",
       "      <th>4</th>\n",
       "      <td>BUV661-A</td>\n",
       "      <td>CD161</td>\n",
       "    </tr>\n",
       "  </tbody>\n",
       "</table>\n",
       "</div>"
      ],
      "text/plain": [
       "  fcs_colname        antigens\n",
       "0    BUV395-A            CD38\n",
       "1    BUV496-A  NKG2C_(CD159c)\n",
       "2    BUV563-A             CD3\n",
       "3    BUV615-A            CD16\n",
       "4    BUV661-A           CD161"
      ]
     },
     "execution_count": 9,
     "metadata": {},
     "output_type": "execute_result"
    }
   ],
   "source": [
    "df = panel.to_df()\n",
    "df.head()"
   ]
  },
  {
   "cell_type": "code",
   "execution_count": 10,
   "id": "01ed1ab9",
   "metadata": {},
   "outputs": [],
   "source": [
    "### panel can be written to the hard drive\n",
    "panel.write(\"../../Tutorials/spectral_dataset/vignette_panel.csv\")"
   ]
  }
 ],
 "metadata": {
  "kernelspec": {
   "display_name": "Python 3 (ipykernel)",
   "language": "python",
   "name": "python3"
  },
  "language_info": {
   "codemirror_mode": {
    "name": "ipython",
    "version": 3
   },
   "file_extension": ".py",
   "mimetype": "text/x-python",
   "name": "python",
   "nbconvert_exporter": "python",
   "pygments_lexer": "ipython3",
   "version": "3.10.13"
  }
 },
 "nbformat": 4,
 "nbformat_minor": 5
}
