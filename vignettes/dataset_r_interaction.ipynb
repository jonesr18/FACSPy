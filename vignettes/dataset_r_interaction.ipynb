{
 "cells": [
  {
   "cell_type": "markdown",
   "id": "4e18cc7d-ea6e-41de-97a1-5d0dd2201be2",
   "metadata": {},
   "source": [
    "# Data analysis: Interacting with R packages\n",
    "\n",
    "In this vignette we cover the most basic steps to convert an anndata object to a SingleCellExperiment and perform analyses using R-based packages.\n",
    "\n",
    "Please follow the installation instructions to setup a conda environment containing both Python and R.\n",
    "In order to setup the R-Python interface, we add `R_HOME` to the environment variables. Here, we use a generic expression pointing to the path of the currently used conda environment and its relative location where R is stored.\n",
    "\n",
    "We next activate anndata2ri and load the jupyter extension from rpy2."
   ]
  },
  {
   "cell_type": "code",
   "execution_count": 1,
   "id": "e43d6d88-62d9-4a20-840b-09221a83aa45",
   "metadata": {},
   "outputs": [],
   "source": [
    "import FACSPy as fp"
   ]
  },
  {
   "cell_type": "code",
   "execution_count": 2,
   "id": "ad5e1a9b-0abe-4143-92b5-209b73b7eb02",
   "metadata": {},
   "outputs": [
    {
     "name": "stderr",
     "output_type": "stream",
     "text": [
      "C:\\Users\\tarik\\AppData\\Local\\Temp\\ipykernel_32520\\453632031.py:6: DeprecationWarning: The global conversion available with activate() is deprecated and will be removed in the next major release. Use a local converter.\n",
      "  anndata2ri.activate()\n",
      "C:\\Users\\tarik\\anaconda3\\envs\\facspy_r\\lib\\site-packages\\rpy2\\robjects\\packages.py:367: UserWarning: The symbol 'quartz' is not in this R namespace/package.\n",
      "  warnings.warn(\n"
     ]
    }
   ],
   "source": [
    "import os\n",
    "from pathlib import Path\n",
    "\n",
    "os.environ[\"R_HOME\"] = os.path.join(Path(os.environ[\"CONDA_PREFIX\"]), Path(\"lib/R/\"))\n",
    "import anndata2ri\n",
    "anndata2ri.activate()\n",
    "%load_ext rpy2.ipython"
   ]
  },
  {
   "cell_type": "markdown",
   "id": "e75b6ea4-229a-4acb-ad43-de7541062665",
   "metadata": {},
   "source": [
    "## Dataset loading and conversion\n",
    "\n",
    "We create the dataset using FACSPy and perform `fp.r_setup()`. This function is necessary due to type inflictions from anndata2ri that have to be solved beforehand. We also split the `.uns` slot and the `.obsm[\"gating\"]` slot from the anndata, since `.uns` contains custom data types (such as `fp.dt.Metadata`, `fp.dt.Panel` etc.) and the gating information is not really needed outside of FACSPy. If you want to keep the gating information, set the respective parameter to `False`."
   ]
  },
  {
   "cell_type": "code",
   "execution_count": 3,
   "id": "10ea03ab-b34e-43af-81b4-21f93892b5ce",
   "metadata": {},
   "outputs": [],
   "source": [
    "adata = fp.mouse_lineages()"
   ]
  },
  {
   "cell_type": "code",
   "execution_count": 4,
   "id": "0a34fed9-62cd-4d26-b140-8ef9fd47124d",
   "metadata": {},
   "outputs": [],
   "source": [
    "adata, uns, gating = fp.r_setup(adata)"
   ]
  },
  {
   "cell_type": "markdown",
   "id": "66b3db55-0394-4810-8409-96bf84a0218a",
   "metadata": {},
   "source": [
    "Next, we use the `%%R` magic command and the `-i` flag. This converts adata to one of its' R-equivalents, a SingleCellExperiment."
   ]
  },
  {
   "cell_type": "markdown",
   "id": "1a719118-43a9-4ba9-95e8-c2e5b57f79a3",
   "metadata": {},
   "source": [
    "## Performing FlowSOM clustering using Spectre\n",
    "\n",
    "Next, we proceed in the jupyter interface and calculate the FlowSOM clustering information using Spectre."
   ]
  },
  {
   "cell_type": "code",
   "execution_count": 5,
   "id": "e8f22816-a879-4bda-a7cc-2bad0959fa8a",
   "metadata": {},
   "outputs": [
    {
     "name": "stdout",
     "output_type": "stream",
     "text": [
      "class: SingleCellExperiment \n",
      "dim: 20 9210 \n",
      "metadata(0):\n",
      "assays(2): compensated transformed\n",
      "rownames(20): FSC-A FSC-H ... CD45 Time\n",
      "rowData names(7): pns png ... pnn cofactors\n",
      "colnames(9210): 4225-25 61597-5 ... 3624-67 44545-41\n",
      "colData names(8): sample_ID file_name ... age staining\n",
      "reducedDimNames(0):\n",
      "mainExpName: NULL\n",
      "altExpNames(0):\n"
     ]
    }
   ],
   "source": [
    "%%R -i adata\n",
    "\n",
    "adata"
   ]
  },
  {
   "cell_type": "markdown",
   "id": "2d2bd072-6e1b-471b-af57-cbfb2b7eb87a",
   "metadata": {},
   "source": [
    "At this point, you may save the SingleCellExperiment using `saveRDS` and continue in your native R enviroment. This is recommended if the setup of the environments is too cumbersome. Later, we show how to re-read a saved (and potentially modified) SingleCellExperiment and convert it back to python."
   ]
  },
  {
   "cell_type": "code",
   "execution_count": 6,
   "id": "8a615e81-3bfd-4b1e-b71d-45a8c8df0fe3",
   "metadata": {},
   "outputs": [],
   "source": [
    "%%R\n",
    "library(Spectre)\n",
    "library(SingleCellExperiment)"
   ]
  },
  {
   "cell_type": "code",
   "execution_count": 7,
   "id": "1bd5b8ad-3336-4215-af65-cba3da7e169b",
   "metadata": {},
   "outputs": [
    {
     "name": "stderr",
     "output_type": "stream",
     "text": [
      "Exception ignored from cffi callback <function _consolewrite_ex at 0x000001C787ABE200>:\n",
      "Traceback (most recent call last):\n",
      "  File \"C:\\Users\\tarik\\anaconda3\\envs\\facspy_r\\lib\\site-packages\\rpy2\\rinterface_lib\\callbacks.py\", line 133, in _consolewrite_ex\n",
      "    s = conversion._cchar_to_str_with_maxlen(buf, n, _CCHAR_ENCODING)\n",
      "  File \"C:\\Users\\tarik\\anaconda3\\envs\\facspy_r\\lib\\site-packages\\rpy2\\rinterface_lib\\conversion.py\", line 138, in _cchar_to_str_with_maxlen\n",
      "    s = ffi.string(c, maxlen).decode(encoding)\n",
      "UnicodeDecodeError: 'utf-8' codec can't decode byte 0xf6 in position 6: invalid start byte\n",
      "Exception ignored from cffi callback <function _consolewrite_ex at 0x000001C787ABE200>:\n",
      "Traceback (most recent call last):\n",
      "  File \"C:\\Users\\tarik\\anaconda3\\envs\\facspy_r\\lib\\site-packages\\rpy2\\rinterface_lib\\callbacks.py\", line 133, in _consolewrite_ex\n",
      "    s = conversion._cchar_to_str_with_maxlen(buf, n, _CCHAR_ENCODING)\n",
      "  File \"C:\\Users\\tarik\\anaconda3\\envs\\facspy_r\\lib\\site-packages\\rpy2\\rinterface_lib\\conversion.py\", line 138, in _cchar_to_str_with_maxlen\n",
      "    s = ffi.string(c, maxlen).decode(encoding)\n",
      "UnicodeDecodeError: 'utf-8' codec can't decode byte 0xf6 in position 6: invalid start byte\n",
      "Exception ignored from cffi callback <function _consolewrite_ex at 0x000001C787ABE200>:\n",
      "Traceback (most recent call last):\n",
      "  File \"C:\\Users\\tarik\\anaconda3\\envs\\facspy_r\\lib\\site-packages\\rpy2\\rinterface_lib\\callbacks.py\", line 133, in _consolewrite_ex\n",
      "    s = conversion._cchar_to_str_with_maxlen(buf, n, _CCHAR_ENCODING)\n",
      "  File \"C:\\Users\\tarik\\anaconda3\\envs\\facspy_r\\lib\\site-packages\\rpy2\\rinterface_lib\\conversion.py\", line 138, in _cchar_to_str_with_maxlen\n",
      "    s = ffi.string(c, maxlen).decode(encoding)\n",
      "UnicodeDecodeError: 'utf-8' codec can't decode byte 0xf6 in position 6: invalid start byte\n"
     ]
    },
    {
     "data": {
      "text/plain": [
       "data.table 1.15.2 using 12 threads (see ?getDTthreads).  Latest news: r-datatable.com\n",
       "\n",
       "Attache Paket: 'data.table'\n",
       "\n",
       "Das folgende Objekt ist maskiert 'package:SummarizedExperiment':\n",
       "\n",
       "    shift\n",
       "\n",
       "Das folgende Objekt ist maskiert 'package:GenomicRanges':\n",
       "\n",
       "    shift\n",
       "\n",
       "Das folgende Objekt ist maskiert 'package:IRanges':\n",
       "\n",
       "    shift\n",
       "\n",
       "Die folgenden Objekte sind maskiert von 'package:S4Vectors':\n",
       "\n",
       "    first, second\n",
       "\n",
       "SingleCellExperiment detected\n",
       "-- Adding metadata\n",
       "-- Adding assay data\n",
       "-- Adding DimRed data\n",
       "-- Finalising\n",
       "Converted a SingleCellExperiment object into a data.table stored in a list\n",
       "\n",
       "Attache Paket: 'igraph'\n",
       "\n",
       "Das folgende Objekt ist maskiert 'package:GenomicRanges':\n",
       "\n",
       "    union\n",
       "\n",
       "Das folgende Objekt ist maskiert 'package:IRanges':\n",
       "\n",
       "    union\n",
       "\n",
       "Das folgende Objekt ist maskiert 'package:S4Vectors':\n",
       "\n",
       "    union\n",
       "\n",
       "Die folgenden Objekte sind maskiert von 'package:BiocGenerics':\n",
       "\n",
       "    normalize, path, union\n",
       "\n",
       "Die folgenden Objekte sind maskiert von 'package:stats':\n",
       "\n",
       "    decompose, spectrum\n",
       "\n",
       "Das folgende Objekt ist maskiert 'package:base':\n",
       "\n",
       "    union\n",
       "\n",
       "Thanks for using FlowSOM. From version 2.1.4 on, the scale \n",
       "parameter in the FlowSOM function defaults to FALSE\n",
       "Preparing data\n",
       "Starting FlowSOM\n",
       "Building SOM\n",
       "\n",
       "Mapping data to SOM\n",
       "\n",
       "Building MST\n",
       "\n",
       "Binding metacluster labels to starting dataset\n",
       "Binding cluster labels to starting dataset\n"
      ]
     },
     "metadata": {},
     "output_type": "display_data"
    }
   ],
   "source": [
    "%%R\n",
    "dt_sce <- Spectre::create.dt(adata)\n",
    "\n",
    "cell.dat <- dt_sce$data.table\n",
    "\n",
    "matchfor <- c(\"transformed\")\n",
    "matchPat <- paste0(matchfor, \"\\\\w?\\\\b\")\n",
    "idxs <- lapply(matchPat, grep, names(cell.dat))\n",
    "\n",
    "cluster.cols <- names(cell.dat)[idxs[[1]]]\n",
    "\n",
    "cell.dat <- run.flowsom(cell.dat, cluster.cols, meta.k = 8)\n"
   ]
  },
  {
   "cell_type": "markdown",
   "id": "88421ea3-d97e-4c65-8106-711447f7de9c",
   "metadata": {},
   "source": [
    "We append the relevant cluster information to the SingleCell experiment.  \n",
    "\n",
    "Next, we export the SingleCellExperiment back to anndata using the `-o` command.\n",
    "\n",
    "In order to restore the old dataset, we use `fp.r_restore()`. This adds the `.uns` slot and the `.obsm[\"gating\"]` slot back.\n",
    "\n",
    "We see that FlowSOM clusters and FlowSOM metaclusters have been added to the .obs column of the dataset."
   ]
  },
  {
   "cell_type": "code",
   "execution_count": 8,
   "id": "019e229e-c678-499f-a9c1-7527fec20b70",
   "metadata": {},
   "outputs": [
    {
     "name": "stdout",
     "output_type": "stream",
     "text": [
      "class: SingleCellExperiment \n",
      "dim: 20 9210 \n",
      "metadata(0):\n",
      "assays(2): compensated transformed\n",
      "rownames(20): FSC-A FSC-H ... CD45 Time\n",
      "rowData names(7): pns png ... pnn cofactors\n",
      "colnames(9210): 4225-25 61597-5 ... 3624-67 44545-41\n",
      "colData names(10): sample_ID file_name ... FlowSOM_clusters\n",
      "  FlowSOM_metacluster\n",
      "reducedDimNames(0):\n",
      "mainExpName: NULL\n",
      "altExpNames(0):\n"
     ]
    }
   ],
   "source": [
    "%%R -o adata\n",
    "\n",
    "colData(adata)$FlowSOM_clusters <- cell.dat$FlowSOM_cluster\n",
    "colData(adata)$FlowSOM_metacluster <- cell.dat$FlowSOM_metacluster\n",
    "\n",
    "adata"
   ]
  },
  {
   "cell_type": "markdown",
   "id": "15402081-7f51-4eb3-86b9-d831a752e81c",
   "metadata": {},
   "source": [
    "fp.r_restore(adata, uns = uns, gating_matrix = gating)\n",
    "adata"
   ]
  },
  {
   "cell_type": "code",
   "execution_count": 9,
   "id": "2459be73-d321-49ab-b39b-0fda73de6a7a",
   "metadata": {},
   "outputs": [
    {
     "data": {
      "text/html": [
       "<div>\n",
       "<style scoped>\n",
       "    .dataframe tbody tr th:only-of-type {\n",
       "        vertical-align: middle;\n",
       "    }\n",
       "\n",
       "    .dataframe tbody tr th {\n",
       "        vertical-align: top;\n",
       "    }\n",
       "\n",
       "    .dataframe thead th {\n",
       "        text-align: right;\n",
       "    }\n",
       "</style>\n",
       "<table border=\"1\" class=\"dataframe\">\n",
       "  <thead>\n",
       "    <tr style=\"text-align: right;\">\n",
       "      <th></th>\n",
       "      <th>sample_ID</th>\n",
       "      <th>file_name</th>\n",
       "      <th>organ</th>\n",
       "      <th>genotype</th>\n",
       "      <th>sex</th>\n",
       "      <th>experiment</th>\n",
       "      <th>age</th>\n",
       "      <th>staining</th>\n",
       "      <th>FlowSOM_clusters</th>\n",
       "      <th>FlowSOM_metacluster</th>\n",
       "    </tr>\n",
       "  </thead>\n",
       "  <tbody>\n",
       "    <tr>\n",
       "      <th>4225-25</th>\n",
       "      <td>26</td>\n",
       "      <td>21112023_lineage_BM_M10_014.fcs</td>\n",
       "      <td>BM</td>\n",
       "      <td>neg</td>\n",
       "      <td>f</td>\n",
       "      <td>2</td>\n",
       "      <td>95</td>\n",
       "      <td>stained</td>\n",
       "      <td>172.0</td>\n",
       "      <td>5</td>\n",
       "    </tr>\n",
       "    <tr>\n",
       "      <th>61597-5</th>\n",
       "      <td>6</td>\n",
       "      <td>20112023_lineage_BM_M4_041.fcs</td>\n",
       "      <td>BM</td>\n",
       "      <td>pos</td>\n",
       "      <td>m</td>\n",
       "      <td>1</td>\n",
       "      <td>95</td>\n",
       "      <td>stained</td>\n",
       "      <td>116.0</td>\n",
       "      <td>5</td>\n",
       "    </tr>\n",
       "    <tr>\n",
       "      <th>17511-50</th>\n",
       "      <td>51</td>\n",
       "      <td>22112023_lineage_BM_M14_012.fcs</td>\n",
       "      <td>BM</td>\n",
       "      <td>pos</td>\n",
       "      <td>m</td>\n",
       "      <td>3</td>\n",
       "      <td>96</td>\n",
       "      <td>stained</td>\n",
       "      <td>161.0</td>\n",
       "      <td>8</td>\n",
       "    </tr>\n",
       "    <tr>\n",
       "      <th>42884-49</th>\n",
       "      <td>50</td>\n",
       "      <td>22112023_lineage_BM_M13_011.fcs</td>\n",
       "      <td>BM</td>\n",
       "      <td>pos</td>\n",
       "      <td>m</td>\n",
       "      <td>3</td>\n",
       "      <td>96</td>\n",
       "      <td>stained</td>\n",
       "      <td>101.0</td>\n",
       "      <td>5</td>\n",
       "    </tr>\n",
       "    <tr>\n",
       "      <th>54157-30</th>\n",
       "      <td>31</td>\n",
       "      <td>21112023_lineage_BM_M9_013.fcs</td>\n",
       "      <td>BM</td>\n",
       "      <td>neg</td>\n",
       "      <td>f</td>\n",
       "      <td>2</td>\n",
       "      <td>95</td>\n",
       "      <td>stained</td>\n",
       "      <td>5.0</td>\n",
       "      <td>2</td>\n",
       "    </tr>\n",
       "    <tr>\n",
       "      <th>...</th>\n",
       "      <td>...</td>\n",
       "      <td>...</td>\n",
       "      <td>...</td>\n",
       "      <td>...</td>\n",
       "      <td>...</td>\n",
       "      <td>...</td>\n",
       "      <td>...</td>\n",
       "      <td>...</td>\n",
       "      <td>...</td>\n",
       "      <td>...</td>\n",
       "    </tr>\n",
       "    <tr>\n",
       "      <th>5793-19</th>\n",
       "      <td>20</td>\n",
       "      <td>20112023_lineage_SPL_M3_048.fcs</td>\n",
       "      <td>SPL</td>\n",
       "      <td>pos</td>\n",
       "      <td>f</td>\n",
       "      <td>1</td>\n",
       "      <td>95</td>\n",
       "      <td>stained</td>\n",
       "      <td>190.0</td>\n",
       "      <td>8</td>\n",
       "    </tr>\n",
       "    <tr>\n",
       "      <th>20707-70</th>\n",
       "      <td>71</td>\n",
       "      <td>22112023_lineage_SPL_M18_024.fcs</td>\n",
       "      <td>SPL</td>\n",
       "      <td>neg</td>\n",
       "      <td>m</td>\n",
       "      <td>3</td>\n",
       "      <td>96</td>\n",
       "      <td>stained</td>\n",
       "      <td>190.0</td>\n",
       "      <td>8</td>\n",
       "    </tr>\n",
       "    <tr>\n",
       "      <th>7544-46</th>\n",
       "      <td>47</td>\n",
       "      <td>21112023_lineage_SPL_M9_021.fcs</td>\n",
       "      <td>SPL</td>\n",
       "      <td>neg</td>\n",
       "      <td>f</td>\n",
       "      <td>2</td>\n",
       "      <td>95</td>\n",
       "      <td>stained</td>\n",
       "      <td>190.0</td>\n",
       "      <td>8</td>\n",
       "    </tr>\n",
       "    <tr>\n",
       "      <th>3624-67</th>\n",
       "      <td>68</td>\n",
       "      <td>22112023_lineage_SPL_M15_021.fcs</td>\n",
       "      <td>SPL</td>\n",
       "      <td>pos</td>\n",
       "      <td>m</td>\n",
       "      <td>3</td>\n",
       "      <td>96</td>\n",
       "      <td>stained</td>\n",
       "      <td>189.0</td>\n",
       "      <td>8</td>\n",
       "    </tr>\n",
       "    <tr>\n",
       "      <th>44545-41</th>\n",
       "      <td>42</td>\n",
       "      <td>21112023_lineage_SPL_M10_022.fcs</td>\n",
       "      <td>SPL</td>\n",
       "      <td>neg</td>\n",
       "      <td>f</td>\n",
       "      <td>2</td>\n",
       "      <td>95</td>\n",
       "      <td>stained</td>\n",
       "      <td>193.0</td>\n",
       "      <td>8</td>\n",
       "    </tr>\n",
       "  </tbody>\n",
       "</table>\n",
       "<p>9210 rows × 10 columns</p>\n",
       "</div>"
      ],
      "text/plain": [
       "         sample_ID                         file_name organ genotype sex  \\\n",
       "4225-25         26   21112023_lineage_BM_M10_014.fcs    BM      neg   f   \n",
       "61597-5          6    20112023_lineage_BM_M4_041.fcs    BM      pos   m   \n",
       "17511-50        51   22112023_lineage_BM_M14_012.fcs    BM      pos   m   \n",
       "42884-49        50   22112023_lineage_BM_M13_011.fcs    BM      pos   m   \n",
       "54157-30        31    21112023_lineage_BM_M9_013.fcs    BM      neg   f   \n",
       "...            ...                               ...   ...      ...  ..   \n",
       "5793-19         20   20112023_lineage_SPL_M3_048.fcs   SPL      pos   f   \n",
       "20707-70        71  22112023_lineage_SPL_M18_024.fcs   SPL      neg   m   \n",
       "7544-46         47   21112023_lineage_SPL_M9_021.fcs   SPL      neg   f   \n",
       "3624-67         68  22112023_lineage_SPL_M15_021.fcs   SPL      pos   m   \n",
       "44545-41        42  21112023_lineage_SPL_M10_022.fcs   SPL      neg   f   \n",
       "\n",
       "         experiment age staining  FlowSOM_clusters  FlowSOM_metacluster  \n",
       "4225-25           2  95  stained             172.0                    5  \n",
       "61597-5           1  95  stained             116.0                    5  \n",
       "17511-50          3  96  stained             161.0                    8  \n",
       "42884-49          3  96  stained             101.0                    5  \n",
       "54157-30          2  95  stained               5.0                    2  \n",
       "...             ...  ..      ...               ...                  ...  \n",
       "5793-19           1  95  stained             190.0                    8  \n",
       "20707-70          3  96  stained             190.0                    8  \n",
       "7544-46           2  95  stained             190.0                    8  \n",
       "3624-67           3  96  stained             189.0                    8  \n",
       "44545-41          2  95  stained             193.0                    8  \n",
       "\n",
       "[9210 rows x 10 columns]"
      ]
     },
     "execution_count": 9,
     "metadata": {},
     "output_type": "execute_result"
    }
   ],
   "source": [
    "adata.obs"
   ]
  },
  {
   "cell_type": "markdown",
   "id": "a92bd941-dbbe-42bb-848d-7ab1f4f37656",
   "metadata": {},
   "source": [
    "Next, we want to plot a dimensionality reduction using CATALYST.\n",
    "\n",
    "For this, we need to add two columns in `adata.var` and `adata.obs`, respectively in order to matcht the requirements by CATALYST.\n",
    "\n",
    "We convert the anndata object as described above and run the `R` functions."
   ]
  },
  {
   "cell_type": "code",
   "execution_count": 10,
   "id": "d1befae9-4578-4627-b815-2dfd03b35af8",
   "metadata": {},
   "outputs": [],
   "source": [
    "adata.var[\"marker_class\"] = [\"type\" if type == \"fluo\" else \"state\" for type in adata.var[\"type\"].tolist()]\n",
    "adata.obs[\"sample_id\"] = adata.obs[\"sample_ID\"]"
   ]
  },
  {
   "cell_type": "code",
   "execution_count": 11,
   "id": "45fb92c0-c434-4140-ba8a-5557a6543e3e",
   "metadata": {},
   "outputs": [
    {
     "data": {
      "image/png": "[encoded data removed]",
      "text/plain": [
       "<IPython.core.display.Image object>"
      ]
     },
     "metadata": {},
     "output_type": "display_data"
    }
   ],
   "source": [
    "%%R  -i adata\n",
    "library(CATALYST)\n",
    "adata <- runDR(adata, dr = \"UMAP\", cells = 2000, features = \"type\", assay = \"transformed\")\n",
    "plotDR(adata, dr = \"UMAP\", color_by = \"Ly6G\", assay = \"transformed\")"
   ]
  },
  {
   "cell_type": "markdown",
   "id": "5ee6e559-04a6-440e-9d03-e72dd6e143c9",
   "metadata": {},
   "source": [
    "We see that a new slot has been created for the UMAP coordinates. This slot can be readily accessed using anndata."
   ]
  },
  {
   "cell_type": "code",
   "execution_count": 12,
   "id": "132aef48-86cf-4ecf-9ddb-0be990fb8d63",
   "metadata": {},
   "outputs": [
    {
     "name": "stdout",
     "output_type": "stream",
     "text": [
      "class: SingleCellExperiment \n",
      "dim: 20 9210 \n",
      "metadata(0):\n",
      "assays(2): X transformed\n",
      "rownames(20): FSC-A FSC-H ... CD45 Time\n",
      "rowData names(8): pns png ... cofactors marker_class\n",
      "colnames(9210): 4225-25 61597-5 ... 3624-67 44545-41\n",
      "colData names(11): sample_ID file_name ... FlowSOM_metacluster\n",
      "  sample_id\n",
      "reducedDimNames(1): UMAP\n",
      "mainExpName: NULL\n",
      "altExpNames(0):\n"
     ]
    }
   ],
   "source": [
    "%%R -o adata\n",
    "\n",
    "adata"
   ]
  },
  {
   "cell_type": "code",
   "execution_count": 13,
   "id": "80281bf4-79af-4380-bc41-0cdb53581172",
   "metadata": {},
   "outputs": [
    {
     "data": {
      "text/plain": [
       "KeysView(AxisArrays with keys: X_umap)"
      ]
     },
     "execution_count": 13,
     "metadata": {},
     "output_type": "execute_result"
    }
   ],
   "source": [
    "adata.obsm.keys()"
   ]
  },
  {
   "cell_type": "markdown",
   "id": "6e4abac8-b4e5-4c5a-9b86-0a2b7cba7543",
   "metadata": {},
   "source": [
    "## Reread saved RDS files\n",
    "\n",
    "In order to convert SingleCellExperiments back that were modified in another R environment, read the RDS file and convert it to anndata via the `-o` command."
   ]
  },
  {
   "cell_type": "code",
   "execution_count": 14,
   "id": "398aaea4-c196-436b-868a-1c2aa25ec4ab",
   "metadata": {},
   "outputs": [],
   "source": [
    "%%R -o sce\n",
    "\n",
    "saveRDS(adata, \"my_data.rds\")\n",
    "\n",
    "sce <- readRDS(\"my_data.rds\")"
   ]
  },
  {
   "cell_type": "code",
   "execution_count": 15,
   "id": "6b2e2ec1-7299-43c7-9227-9ded9bd54517",
   "metadata": {},
   "outputs": [
    {
     "data": {
      "text/plain": [
       "AnnData object with n_obs × n_vars = 9210 × 20\n",
       "    obs: 'sample_ID', 'file_name', 'organ', 'genotype', 'sex', 'experiment', 'age', 'staining', 'FlowSOM_clusters', 'FlowSOM_metacluster', 'sample_id'\n",
       "    var: 'pns', 'png', 'pne', 'pnr', 'type', 'pnn', 'cofactors', 'marker_class'\n",
       "    obsm: 'X_umap'\n",
       "    layers: 'transformed'"
      ]
     },
     "execution_count": 15,
     "metadata": {},
     "output_type": "execute_result"
    }
   ],
   "source": [
    "sce"
   ]
  }
 ],
 "metadata": {
  "kernelspec": {
   "display_name": "Python 3 (ipykernel)",
   "language": "python",
   "name": "python3"
  },
  "language_info": {
   "codemirror_mode": {
    "name": "ipython",
    "version": 3
   },
   "file_extension": ".py",
   "mimetype": "text/x-python",
   "name": "python",
   "nbconvert_exporter": "python",
   "pygments_lexer": "ipython3",
   "version": "3.10.14"
  }
 },
 "nbformat": 4,
 "nbformat_minor": 5
}
