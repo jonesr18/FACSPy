{
 "cells": [
  {
   "cell_type": "code",
   "execution_count": 1,
   "id": "088e49f9",
   "metadata": {
    "execution": {
     "iopub.execute_input": "2023-12-02T22:23:09.043636Z",
     "iopub.status.busy": "2023-12-02T22:23:09.043636Z",
     "iopub.status.idle": "2023-12-02T22:23:13.883460Z",
     "shell.execute_reply": "2023-12-02T22:23:13.883460Z"
    },
    "papermill": {
     "duration": 4.844952,
     "end_time": "2023-12-02T22:23:13.883460",
     "exception": false,
     "start_time": "2023-12-02T22:23:09.038508",
     "status": "completed"
    },
    "tags": []
   },
   "outputs": [],
   "source": [
    "import FACSPy as fp"
   ]
  },
  {
   "cell_type": "code",
   "execution_count": 2,
   "id": "d9b4a86d",
   "metadata": {
    "execution": {
     "iopub.execute_input": "2023-12-02T22:23:13.899080Z",
     "iopub.status.busy": "2023-12-02T22:23:13.899080Z",
     "iopub.status.idle": "2023-12-02T22:23:17.248311Z",
     "shell.execute_reply": "2023-12-02T22:23:17.248311Z"
    },
    "papermill": {
     "duration": 3.349231,
     "end_time": "2023-12-02T22:23:17.248311",
     "exception": false,
     "start_time": "2023-12-02T22:23:13.899080",
     "status": "completed"
    },
    "tags": []
   },
   "outputs": [],
   "source": [
    "dataset = fp.read_dataset(input_dir = \"../Tutorials/spectral_dataset/\",\n",
    "                          file_name = \"raw_dataset\")"
   ]
  },
  {
   "cell_type": "code",
   "execution_count": 3,
   "id": "51fd8e9a",
   "metadata": {
    "execution": {
     "iopub.execute_input": "2023-12-02T22:23:17.260828Z",
     "iopub.status.busy": "2023-12-02T22:23:17.260828Z",
     "iopub.status.idle": "2023-12-02T22:23:17.280366Z",
     "shell.execute_reply": "2023-12-02T22:23:17.280366Z"
    },
    "papermill": {
     "duration": 0.032055,
     "end_time": "2023-12-02T22:23:17.280366",
     "exception": false,
     "start_time": "2023-12-02T22:23:17.248311",
     "status": "completed"
    },
    "tags": []
   },
   "outputs": [],
   "source": [
    "### this vignette is supposed to explain the structure of a FACSPy dataset\n",
    "### we rely on anndata objects, further documentation can be found on their websites\n",
    "### this notebook contains the necessary steps for flow data analysis, including indexing\n",
    "\n",
    "### this notebook further explains the structure of names that is created by FACSPy in order\n",
    "### to enable the user to analyze multiple gates and populations at the same time."
   ]
  },
  {
   "cell_type": "code",
   "execution_count": 4,
   "id": "55f5efec",
   "metadata": {
    "execution": {
     "iopub.execute_input": "2023-12-02T22:23:17.280366Z",
     "iopub.status.busy": "2023-12-02T22:23:17.280366Z",
     "iopub.status.idle": "2023-12-02T22:23:17.312665Z",
     "shell.execute_reply": "2023-12-02T22:23:17.311786Z"
    },
    "papermill": {
     "duration": 0.032299,
     "end_time": "2023-12-02T22:23:17.312665",
     "exception": false,
     "start_time": "2023-12-02T22:23:17.280366",
     "status": "completed"
    },
    "tags": []
   },
   "outputs": [
    {
     "data": {
      "text/plain": [
       "AnnData object with n_obs × n_vars = 3103969 × 36\n",
       "    obs: 'sample_ID', 'file_name', 'group_fd', 'internal_id', 'organ', 'staining', 'diag_main', 'diag_fine', 'donor_id', 'material', 'batch'\n",
       "    var: 'pns', 'png', 'pne', 'type', 'pnn', 'cofactors'\n",
       "    uns: 'metadata', 'panel', 'workspace', 'gating_cols', 'dataset_status_hash', 'cofactors', 'raw_cofactors', 'cofactor_table'\n",
       "    obsm: 'gating'\n",
       "    layers: 'compensated', 'transformed'"
      ]
     },
     "execution_count": 4,
     "metadata": {},
     "output_type": "execute_result"
    }
   ],
   "source": [
    "### the dataset consists of 3103969 cells and 36 channels as shown in the first line\n",
    "\n",
    "dataset"
   ]
  },
  {
   "cell_type": "code",
   "execution_count": 5,
   "id": "c0ebbab4",
   "metadata": {
    "execution": {
     "iopub.execute_input": "2023-12-02T22:23:17.312665Z",
     "iopub.status.busy": "2023-12-02T22:23:17.312665Z",
     "iopub.status.idle": "2023-12-02T22:23:17.343535Z",
     "shell.execute_reply": "2023-12-02T22:23:17.343535Z"
    },
    "papermill": {
     "duration": 0.03087,
     "end_time": "2023-12-02T22:23:17.343535",
     "exception": false,
     "start_time": "2023-12-02T22:23:17.312665",
     "status": "completed"
    },
    "tags": []
   },
   "outputs": [
    {
     "data": {
      "text/html": [
       "<div>\n",
       "<style scoped>\n",
       "    .dataframe tbody tr th:only-of-type {\n",
       "        vertical-align: middle;\n",
       "    }\n",
       "\n",
       "    .dataframe tbody tr th {\n",
       "        vertical-align: top;\n",
       "    }\n",
       "\n",
       "    .dataframe thead th {\n",
       "        text-align: right;\n",
       "    }\n",
       "</style>\n",
       "<table border=\"1\" class=\"dataframe\">\n",
       "  <thead>\n",
       "    <tr style=\"text-align: right;\">\n",
       "      <th></th>\n",
       "      <th>sample_ID</th>\n",
       "      <th>file_name</th>\n",
       "      <th>group_fd</th>\n",
       "      <th>internal_id</th>\n",
       "      <th>organ</th>\n",
       "      <th>staining</th>\n",
       "      <th>diag_main</th>\n",
       "      <th>diag_fine</th>\n",
       "      <th>donor_id</th>\n",
       "      <th>material</th>\n",
       "      <th>batch</th>\n",
       "    </tr>\n",
       "  </thead>\n",
       "  <tbody>\n",
       "    <tr>\n",
       "      <th>0-0</th>\n",
       "      <td>1</td>\n",
       "      <td>3742.fcs</td>\n",
       "      <td>healthy</td>\n",
       "      <td>3742</td>\n",
       "      <td>PB</td>\n",
       "      <td>stained</td>\n",
       "      <td>healthy</td>\n",
       "      <td>healthy</td>\n",
       "      <td>3742</td>\n",
       "      <td>PBMC</td>\n",
       "      <td>1</td>\n",
       "    </tr>\n",
       "    <tr>\n",
       "      <th>1-0</th>\n",
       "      <td>1</td>\n",
       "      <td>3742.fcs</td>\n",
       "      <td>healthy</td>\n",
       "      <td>3742</td>\n",
       "      <td>PB</td>\n",
       "      <td>stained</td>\n",
       "      <td>healthy</td>\n",
       "      <td>healthy</td>\n",
       "      <td>3742</td>\n",
       "      <td>PBMC</td>\n",
       "      <td>1</td>\n",
       "    </tr>\n",
       "    <tr>\n",
       "      <th>2-0</th>\n",
       "      <td>1</td>\n",
       "      <td>3742.fcs</td>\n",
       "      <td>healthy</td>\n",
       "      <td>3742</td>\n",
       "      <td>PB</td>\n",
       "      <td>stained</td>\n",
       "      <td>healthy</td>\n",
       "      <td>healthy</td>\n",
       "      <td>3742</td>\n",
       "      <td>PBMC</td>\n",
       "      <td>1</td>\n",
       "    </tr>\n",
       "    <tr>\n",
       "      <th>3-0</th>\n",
       "      <td>1</td>\n",
       "      <td>3742.fcs</td>\n",
       "      <td>healthy</td>\n",
       "      <td>3742</td>\n",
       "      <td>PB</td>\n",
       "      <td>stained</td>\n",
       "      <td>healthy</td>\n",
       "      <td>healthy</td>\n",
       "      <td>3742</td>\n",
       "      <td>PBMC</td>\n",
       "      <td>1</td>\n",
       "    </tr>\n",
       "    <tr>\n",
       "      <th>4-0</th>\n",
       "      <td>1</td>\n",
       "      <td>3742.fcs</td>\n",
       "      <td>healthy</td>\n",
       "      <td>3742</td>\n",
       "      <td>PB</td>\n",
       "      <td>stained</td>\n",
       "      <td>healthy</td>\n",
       "      <td>healthy</td>\n",
       "      <td>3742</td>\n",
       "      <td>PBMC</td>\n",
       "      <td>1</td>\n",
       "    </tr>\n",
       "  </tbody>\n",
       "</table>\n",
       "</div>"
      ],
      "text/plain": [
       "    sample_ID file_name group_fd internal_id organ staining diag_main  \\\n",
       "0-0         1  3742.fcs  healthy        3742    PB  stained   healthy   \n",
       "1-0         1  3742.fcs  healthy        3742    PB  stained   healthy   \n",
       "2-0         1  3742.fcs  healthy        3742    PB  stained   healthy   \n",
       "3-0         1  3742.fcs  healthy        3742    PB  stained   healthy   \n",
       "4-0         1  3742.fcs  healthy        3742    PB  stained   healthy   \n",
       "\n",
       "    diag_fine donor_id material batch  \n",
       "0-0   healthy     3742     PBMC     1  \n",
       "1-0   healthy     3742     PBMC     1  \n",
       "2-0   healthy     3742     PBMC     1  \n",
       "3-0   healthy     3742     PBMC     1  \n",
       "4-0   healthy     3742     PBMC     1  "
      ]
     },
     "execution_count": 5,
     "metadata": {},
     "output_type": "execute_result"
    }
   ],
   "source": [
    "### the .obs slot contains all the metadata for each cell, stored as a pandas dataframe\n",
    "\n",
    "dataset.obs.head()"
   ]
  },
  {
   "cell_type": "code",
   "execution_count": 6,
   "id": "a6532dcb",
   "metadata": {
    "execution": {
     "iopub.execute_input": "2023-12-02T22:23:17.343535Z",
     "iopub.status.busy": "2023-12-02T22:23:17.343535Z",
     "iopub.status.idle": "2023-12-02T22:23:17.437871Z",
     "shell.execute_reply": "2023-12-02T22:23:17.437871Z"
    },
    "papermill": {
     "duration": 0.094336,
     "end_time": "2023-12-02T22:23:17.437871",
     "exception": false,
     "start_time": "2023-12-02T22:23:17.343535",
     "status": "completed"
    },
    "tags": []
   },
   "outputs": [
    {
     "data": {
      "text/plain": [
       "View of AnnData object with n_obs × n_vars = 183756 × 36\n",
       "    obs: 'sample_ID', 'file_name', 'group_fd', 'internal_id', 'organ', 'staining', 'diag_main', 'diag_fine', 'donor_id', 'material', 'batch'\n",
       "    var: 'pns', 'png', 'pne', 'type', 'pnn', 'cofactors'\n",
       "    uns: 'metadata', 'panel', 'workspace', 'gating_cols', 'dataset_status_hash', 'cofactors', 'raw_cofactors', 'cofactor_table'\n",
       "    obsm: 'gating'\n",
       "    layers: 'compensated', 'transformed'"
      ]
     },
     "execution_count": 6,
     "metadata": {},
     "output_type": "execute_result"
    }
   ],
   "source": [
    "### the dataset can be indexed similar to pandas dataframes or numpy arrays:\n",
    "### here, we subset only the sample_ID 1\n",
    "\n",
    "sample_1_subset = dataset[dataset.obs[\"sample_ID\"] == \"1\",:]\n",
    "sample_1_subset"
   ]
  },
  {
   "cell_type": "code",
   "execution_count": 7,
   "id": "0ac7c528",
   "metadata": {
    "execution": {
     "iopub.execute_input": "2023-12-02T22:23:17.437871Z",
     "iopub.status.busy": "2023-12-02T22:23:17.437871Z",
     "iopub.status.idle": "2023-12-02T22:23:17.469641Z",
     "shell.execute_reply": "2023-12-02T22:23:17.469641Z"
    },
    "papermill": {
     "duration": 0.03177,
     "end_time": "2023-12-02T22:23:17.469641",
     "exception": false,
     "start_time": "2023-12-02T22:23:17.437871",
     "status": "completed"
    },
    "tags": []
   },
   "outputs": [
    {
     "data": {
      "text/html": [
       "<div>\n",
       "<style scoped>\n",
       "    .dataframe tbody tr th:only-of-type {\n",
       "        vertical-align: middle;\n",
       "    }\n",
       "\n",
       "    .dataframe tbody tr th {\n",
       "        vertical-align: top;\n",
       "    }\n",
       "\n",
       "    .dataframe thead th {\n",
       "        text-align: right;\n",
       "    }\n",
       "</style>\n",
       "<table border=\"1\" class=\"dataframe\">\n",
       "  <thead>\n",
       "    <tr style=\"text-align: right;\">\n",
       "      <th></th>\n",
       "      <th>pns</th>\n",
       "      <th>png</th>\n",
       "      <th>pne</th>\n",
       "      <th>type</th>\n",
       "      <th>pnn</th>\n",
       "      <th>cofactors</th>\n",
       "    </tr>\n",
       "  </thead>\n",
       "  <tbody>\n",
       "    <tr>\n",
       "      <th>Time</th>\n",
       "      <td>Time</td>\n",
       "      <td>1.0</td>\n",
       "      <td>(0.0, 0.0)</td>\n",
       "      <td>time</td>\n",
       "      <td>Time</td>\n",
       "      <td>1.0</td>\n",
       "    </tr>\n",
       "    <tr>\n",
       "      <th>SSC-H</th>\n",
       "      <td>SSC-H</td>\n",
       "      <td>1.0</td>\n",
       "      <td>(0.0, 0.0)</td>\n",
       "      <td>scatter</td>\n",
       "      <td>SSC-H</td>\n",
       "      <td>1.0</td>\n",
       "    </tr>\n",
       "    <tr>\n",
       "      <th>SSC-A</th>\n",
       "      <td>SSC-A</td>\n",
       "      <td>1.0</td>\n",
       "      <td>(0.0, 0.0)</td>\n",
       "      <td>scatter</td>\n",
       "      <td>SSC-A</td>\n",
       "      <td>1.0</td>\n",
       "    </tr>\n",
       "    <tr>\n",
       "      <th>FSC-H</th>\n",
       "      <td>FSC-H</td>\n",
       "      <td>1.0</td>\n",
       "      <td>(0.0, 0.0)</td>\n",
       "      <td>scatter</td>\n",
       "      <td>FSC-H</td>\n",
       "      <td>1.0</td>\n",
       "    </tr>\n",
       "    <tr>\n",
       "      <th>FSC-A</th>\n",
       "      <td>FSC-A</td>\n",
       "      <td>1.0</td>\n",
       "      <td>(0.0, 0.0)</td>\n",
       "      <td>scatter</td>\n",
       "      <td>FSC-A</td>\n",
       "      <td>1.0</td>\n",
       "    </tr>\n",
       "  </tbody>\n",
       "</table>\n",
       "</div>"
      ],
      "text/plain": [
       "         pns  png         pne     type    pnn cofactors\n",
       "Time    Time  1.0  (0.0, 0.0)     time   Time       1.0\n",
       "SSC-H  SSC-H  1.0  (0.0, 0.0)  scatter  SSC-H       1.0\n",
       "SSC-A  SSC-A  1.0  (0.0, 0.0)  scatter  SSC-A       1.0\n",
       "FSC-H  FSC-H  1.0  (0.0, 0.0)  scatter  FSC-H       1.0\n",
       "FSC-A  FSC-A  1.0  (0.0, 0.0)  scatter  FSC-A       1.0"
      ]
     },
     "execution_count": 7,
     "metadata": {},
     "output_type": "execute_result"
    }
   ],
   "source": [
    "### the .var slot contains the channel information, stored as a pandas dataframe\n",
    "\n",
    "dataset.var.head()"
   ]
  },
  {
   "cell_type": "code",
   "execution_count": 8,
   "id": "8fd46564",
   "metadata": {
    "execution": {
     "iopub.execute_input": "2023-12-02T22:23:17.469641Z",
     "iopub.status.busy": "2023-12-02T22:23:17.469641Z",
     "iopub.status.idle": "2023-12-02T22:23:17.501078Z",
     "shell.execute_reply": "2023-12-02T22:23:17.501078Z"
    },
    "papermill": {
     "duration": 0.031437,
     "end_time": "2023-12-02T22:23:17.501078",
     "exception": false,
     "start_time": "2023-12-02T22:23:17.469641",
     "status": "completed"
    },
    "tags": []
   },
   "outputs": [
    {
     "data": {
      "text/plain": [
       "Index(['Time', 'SSC-H', 'SSC-A', 'FSC-H', 'FSC-A', 'SSC-B-H', 'SSC-B-A',\n",
       "       'CD38', 'NKG2C_(CD159c)', 'CD3', 'CD16', 'CD161', 'CD32', 'CD56',\n",
       "       '41BB_(CD137)', 'CD4', 'CD64', 'KLRG1', 'CD45', 'HLA_DR', 'CD19',\n",
       "       'NKp44', 'CD69', 'TIGIT', 'CD57', 'CD8', 'CD14', 'CD27',\n",
       "       'NKG2A_(CD159a)', 'CTLA-4_(CD152)', 'TRAIL_(CD253)', 'PD-1_(CD279) ',\n",
       "       'CD18', 'Zombie_NIR', 'CD66b', 'AF-A'],\n",
       "      dtype='object')"
      ]
     },
     "execution_count": 8,
     "metadata": {},
     "output_type": "execute_result"
    }
   ],
   "source": [
    "### the individual channels can be accessed by the .var_names attributes\n",
    "\n",
    "dataset.var_names"
   ]
  },
  {
   "cell_type": "code",
   "execution_count": 9,
   "id": "5e7c2764",
   "metadata": {
    "execution": {
     "iopub.execute_input": "2023-12-02T22:23:17.517905Z",
     "iopub.status.busy": "2023-12-02T22:23:17.517905Z",
     "iopub.status.idle": "2023-12-02T22:23:18.384136Z",
     "shell.execute_reply": "2023-12-02T22:23:18.383378Z"
    },
    "papermill": {
     "duration": 0.883058,
     "end_time": "2023-12-02T22:23:18.384136",
     "exception": false,
     "start_time": "2023-12-02T22:23:17.501078",
     "status": "completed"
    },
    "tags": []
   },
   "outputs": [
    {
     "data": {
      "text/plain": [
       "View of AnnData object with n_obs × n_vars = 3103969 × 2\n",
       "    obs: 'sample_ID', 'file_name', 'group_fd', 'internal_id', 'organ', 'staining', 'diag_main', 'diag_fine', 'donor_id', 'material', 'batch'\n",
       "    var: 'pns', 'png', 'pne', 'type', 'pnn', 'cofactors'\n",
       "    uns: 'metadata', 'panel', 'workspace', 'gating_cols', 'dataset_status_hash', 'cofactors', 'raw_cofactors', 'cofactor_table'\n",
       "    obsm: 'gating'\n",
       "    layers: 'compensated', 'transformed'"
      ]
     },
     "execution_count": 9,
     "metadata": {},
     "output_type": "execute_result"
    }
   ],
   "source": [
    "### the dataset can be indexed similar to pandas dataframes or numpy arrays:\n",
    "### here, we subset only the channels CD3 and CD19\n",
    "\n",
    "channel_subset = dataset[:,dataset.var[\"pns\"].isin([\"CD3\", \"CD19\"])]\n",
    "channel_subset"
   ]
  },
  {
   "cell_type": "code",
   "execution_count": 10,
   "id": "cf5d7366",
   "metadata": {
    "execution": {
     "iopub.execute_input": "2023-12-02T22:23:18.384136Z",
     "iopub.status.busy": "2023-12-02T22:23:18.384136Z",
     "iopub.status.idle": "2023-12-02T22:23:21.535421Z",
     "shell.execute_reply": "2023-12-02T22:23:21.534703Z"
    },
    "papermill": {
     "duration": 3.152689,
     "end_time": "2023-12-02T22:23:21.536825",
     "exception": false,
     "start_time": "2023-12-02T22:23:18.384136",
     "status": "completed"
    },
    "tags": []
   },
   "outputs": [
    {
     "data": {
      "text/html": [
       "<div>\n",
       "<style scoped>\n",
       "    .dataframe tbody tr th:only-of-type {\n",
       "        vertical-align: middle;\n",
       "    }\n",
       "\n",
       "    .dataframe tbody tr th {\n",
       "        vertical-align: top;\n",
       "    }\n",
       "\n",
       "    .dataframe thead th {\n",
       "        text-align: right;\n",
       "    }\n",
       "</style>\n",
       "<table border=\"1\" class=\"dataframe\">\n",
       "  <thead>\n",
       "    <tr style=\"text-align: right;\">\n",
       "      <th></th>\n",
       "      <th>pns</th>\n",
       "      <th>png</th>\n",
       "      <th>pne</th>\n",
       "      <th>type</th>\n",
       "      <th>pnn</th>\n",
       "      <th>cofactors</th>\n",
       "    </tr>\n",
       "  </thead>\n",
       "  <tbody>\n",
       "    <tr>\n",
       "      <th>CD38</th>\n",
       "      <td>CD38</td>\n",
       "      <td>1.0</td>\n",
       "      <td>(0.0, 0.0)</td>\n",
       "      <td>fluo</td>\n",
       "      <td>BUV395-A</td>\n",
       "      <td>1298.1292</td>\n",
       "    </tr>\n",
       "    <tr>\n",
       "      <th>NKG2C_(CD159c)</th>\n",
       "      <td>NKG2C_(CD159c)</td>\n",
       "      <td>1.0</td>\n",
       "      <td>(0.0, 0.0)</td>\n",
       "      <td>fluo</td>\n",
       "      <td>BUV496-A</td>\n",
       "      <td>1132.2448</td>\n",
       "    </tr>\n",
       "    <tr>\n",
       "      <th>CD3</th>\n",
       "      <td>CD3</td>\n",
       "      <td>1.0</td>\n",
       "      <td>(0.0, 0.0)</td>\n",
       "      <td>fluo</td>\n",
       "      <td>BUV563-A</td>\n",
       "      <td>5287.9663</td>\n",
       "    </tr>\n",
       "    <tr>\n",
       "      <th>CD16</th>\n",
       "      <td>CD16</td>\n",
       "      <td>1.0</td>\n",
       "      <td>(0.0, 0.0)</td>\n",
       "      <td>fluo</td>\n",
       "      <td>BUV615-A</td>\n",
       "      <td>14275.482</td>\n",
       "    </tr>\n",
       "    <tr>\n",
       "      <th>CD161</th>\n",
       "      <td>CD161</td>\n",
       "      <td>1.0</td>\n",
       "      <td>(0.0, 0.0)</td>\n",
       "      <td>fluo</td>\n",
       "      <td>BUV661-A</td>\n",
       "      <td>2890.5862</td>\n",
       "    </tr>\n",
       "  </tbody>\n",
       "</table>\n",
       "</div>"
      ],
      "text/plain": [
       "                           pns  png         pne  type       pnn  cofactors\n",
       "CD38                      CD38  1.0  (0.0, 0.0)  fluo  BUV395-A  1298.1292\n",
       "NKG2C_(CD159c)  NKG2C_(CD159c)  1.0  (0.0, 0.0)  fluo  BUV496-A  1132.2448\n",
       "CD3                        CD3  1.0  (0.0, 0.0)  fluo  BUV563-A  5287.9663\n",
       "CD16                      CD16  1.0  (0.0, 0.0)  fluo  BUV615-A  14275.482\n",
       "CD161                    CD161  1.0  (0.0, 0.0)  fluo  BUV661-A  2890.5862"
      ]
     },
     "execution_count": 10,
     "metadata": {},
     "output_type": "execute_result"
    }
   ],
   "source": [
    "### for convenience, FACSPy offers functionality to subset by channel:\n",
    "### here, we keep only the channels that have been marked with the type \"fluo\"\n",
    "\n",
    "### note that the functions for analysis contain a parameter called \"use_only_fluo\" so you don't\n",
    "### have to subset yourself if you don't want to include scatter channels in the analysis\n",
    "\n",
    "fluo_only = fp.subset_fluo_channels(dataset,\n",
    "                                    copy = True)\n",
    "fluo_only.var.head()"
   ]
  },
  {
   "cell_type": "code",
   "execution_count": 11,
   "id": "1c09d33f",
   "metadata": {
    "execution": {
     "iopub.execute_input": "2023-12-02T22:23:21.536825Z",
     "iopub.status.busy": "2023-12-02T22:23:21.536825Z",
     "iopub.status.idle": "2023-12-02T22:23:25.235838Z",
     "shell.execute_reply": "2023-12-02T22:23:25.235838Z"
    },
    "papermill": {
     "duration": 3.699013,
     "end_time": "2023-12-02T22:23:25.235838",
     "exception": false,
     "start_time": "2023-12-02T22:23:21.536825",
     "status": "completed"
    },
    "tags": []
   },
   "outputs": [],
   "source": [
    "### to remove a specific channel, you can use the fp.remove_channel function\n",
    "\n",
    "without_CD16 = fp.remove_channel(dataset, \"CD16\",\n",
    "                                 copy = True)\n",
    "assert \"CD16\" not in without_CD16.var_names"
   ]
  },
  {
   "cell_type": "code",
   "execution_count": 12,
   "id": "d9f5b8c9",
   "metadata": {
    "execution": {
     "iopub.execute_input": "2023-12-02T22:23:25.252899Z",
     "iopub.status.busy": "2023-12-02T22:23:25.252899Z",
     "iopub.status.idle": "2023-12-02T22:23:25.267489Z",
     "shell.execute_reply": "2023-12-02T22:23:25.267489Z"
    },
    "papermill": {
     "duration": 0.031651,
     "end_time": "2023-12-02T22:23:25.267489",
     "exception": false,
     "start_time": "2023-12-02T22:23:25.235838",
     "status": "completed"
    },
    "tags": []
   },
   "outputs": [
    {
     "data": {
      "text/plain": [
       "scipy.sparse._csr.csr_matrix"
      ]
     },
     "execution_count": 12,
     "metadata": {},
     "output_type": "execute_result"
    }
   ],
   "source": [
    "### by default, the obsm slot stores the gating information as a sparse matrix\n",
    "type(dataset.obsm[\"gating\"])"
   ]
  },
  {
   "cell_type": "code",
   "execution_count": 13,
   "id": "5dd425f3",
   "metadata": {
    "execution": {
     "iopub.execute_input": "2023-12-02T22:23:25.278912Z",
     "iopub.status.busy": "2023-12-02T22:23:25.278912Z",
     "iopub.status.idle": "2023-12-02T22:23:25.346023Z",
     "shell.execute_reply": "2023-12-02T22:23:25.346023Z"
    },
    "papermill": {
     "duration": 0.072163,
     "end_time": "2023-12-02T22:23:25.346023",
     "exception": false,
     "start_time": "2023-12-02T22:23:25.273860",
     "status": "completed"
    },
    "tags": []
   },
   "outputs": [
    {
     "data": {
      "text/html": [
       "<div>\n",
       "<style scoped>\n",
       "    .dataframe tbody tr th:only-of-type {\n",
       "        vertical-align: middle;\n",
       "    }\n",
       "\n",
       "    .dataframe tbody tr th {\n",
       "        vertical-align: top;\n",
       "    }\n",
       "\n",
       "    .dataframe thead th {\n",
       "        text-align: right;\n",
       "    }\n",
       "</style>\n",
       "<table border=\"1\" class=\"dataframe\">\n",
       "  <thead>\n",
       "    <tr style=\"text-align: right;\">\n",
       "      <th></th>\n",
       "      <th>root/all_cells</th>\n",
       "      <th>root/all_cells/FSC_singlets</th>\n",
       "      <th>root/all_cells/FSC_singlets/live</th>\n",
       "      <th>root/all_cells/FSC_singlets/live/CD45+</th>\n",
       "      <th>root/all_cells/FSC_singlets/live/CD45+/PBMC</th>\n",
       "      <th>root/all_cells/FSC_singlets/live/CD45+/PBMC/CD19neg,_CD14neg</th>\n",
       "      <th>root/all_cells/FSC_singlets/live/CD45+/PBMC/CD19neg,_CD14neg/NK</th>\n",
       "      <th>root/all_cells/FSC_singlets/live/CD45+/PBMC/CD19neg,_CD14neg/T</th>\n",
       "      <th>root/all_cells/FSC_singlets/live/CD45+/PBMC/CD19neg,_CD14neg/T/CD8+T</th>\n",
       "    </tr>\n",
       "  </thead>\n",
       "  <tbody>\n",
       "    <tr>\n",
       "      <th>0-0</th>\n",
       "      <td>True</td>\n",
       "      <td>True</td>\n",
       "      <td>True</td>\n",
       "      <td>True</td>\n",
       "      <td>True</td>\n",
       "      <td>True</td>\n",
       "      <td>False</td>\n",
       "      <td>True</td>\n",
       "      <td>False</td>\n",
       "    </tr>\n",
       "    <tr>\n",
       "      <th>1-0</th>\n",
       "      <td>True</td>\n",
       "      <td>True</td>\n",
       "      <td>True</td>\n",
       "      <td>True</td>\n",
       "      <td>True</td>\n",
       "      <td>True</td>\n",
       "      <td>False</td>\n",
       "      <td>False</td>\n",
       "      <td>False</td>\n",
       "    </tr>\n",
       "    <tr>\n",
       "      <th>2-0</th>\n",
       "      <td>True</td>\n",
       "      <td>True</td>\n",
       "      <td>True</td>\n",
       "      <td>True</td>\n",
       "      <td>True</td>\n",
       "      <td>True</td>\n",
       "      <td>False</td>\n",
       "      <td>True</td>\n",
       "      <td>False</td>\n",
       "    </tr>\n",
       "    <tr>\n",
       "      <th>3-0</th>\n",
       "      <td>True</td>\n",
       "      <td>True</td>\n",
       "      <td>True</td>\n",
       "      <td>False</td>\n",
       "      <td>False</td>\n",
       "      <td>False</td>\n",
       "      <td>False</td>\n",
       "      <td>False</td>\n",
       "      <td>False</td>\n",
       "    </tr>\n",
       "    <tr>\n",
       "      <th>4-0</th>\n",
       "      <td>True</td>\n",
       "      <td>True</td>\n",
       "      <td>True</td>\n",
       "      <td>True</td>\n",
       "      <td>True</td>\n",
       "      <td>True</td>\n",
       "      <td>False</td>\n",
       "      <td>True</td>\n",
       "      <td>True</td>\n",
       "    </tr>\n",
       "  </tbody>\n",
       "</table>\n",
       "</div>"
      ],
      "text/plain": [
       "     root/all_cells  root/all_cells/FSC_singlets  \\\n",
       "0-0            True                         True   \n",
       "1-0            True                         True   \n",
       "2-0            True                         True   \n",
       "3-0            True                         True   \n",
       "4-0            True                         True   \n",
       "\n",
       "     root/all_cells/FSC_singlets/live  root/all_cells/FSC_singlets/live/CD45+  \\\n",
       "0-0                              True                                    True   \n",
       "1-0                              True                                    True   \n",
       "2-0                              True                                    True   \n",
       "3-0                              True                                   False   \n",
       "4-0                              True                                    True   \n",
       "\n",
       "     root/all_cells/FSC_singlets/live/CD45+/PBMC  \\\n",
       "0-0                                         True   \n",
       "1-0                                         True   \n",
       "2-0                                         True   \n",
       "3-0                                        False   \n",
       "4-0                                         True   \n",
       "\n",
       "     root/all_cells/FSC_singlets/live/CD45+/PBMC/CD19neg,_CD14neg  \\\n",
       "0-0                                               True              \n",
       "1-0                                               True              \n",
       "2-0                                               True              \n",
       "3-0                                              False              \n",
       "4-0                                               True              \n",
       "\n",
       "     root/all_cells/FSC_singlets/live/CD45+/PBMC/CD19neg,_CD14neg/NK  \\\n",
       "0-0                                              False                 \n",
       "1-0                                              False                 \n",
       "2-0                                              False                 \n",
       "3-0                                              False                 \n",
       "4-0                                              False                 \n",
       "\n",
       "     root/all_cells/FSC_singlets/live/CD45+/PBMC/CD19neg,_CD14neg/T  \\\n",
       "0-0                                               True                \n",
       "1-0                                              False                \n",
       "2-0                                               True                \n",
       "3-0                                              False                \n",
       "4-0                                               True                \n",
       "\n",
       "     root/all_cells/FSC_singlets/live/CD45+/PBMC/CD19neg,_CD14neg/T/CD8+T  \n",
       "0-0                                              False                     \n",
       "1-0                                              False                     \n",
       "2-0                                              False                     \n",
       "3-0                                              False                     \n",
       "4-0                                               True                     "
      ]
     },
     "execution_count": 13,
     "metadata": {},
     "output_type": "execute_result"
    }
   ],
   "source": [
    "### the gating information is extracted from a flowjo workspace or produced by the user and is a boolean matrix:\n",
    "\n",
    "import pandas as pd\n",
    "gating = pd.DataFrame(data = dataset.obsm[\"gating\"].todense(),\n",
    "                      index = dataset.obs_names,\n",
    "                      columns = dataset.uns[\"gating_cols\"])\n",
    "gating.head()"
   ]
  },
  {
   "cell_type": "code",
   "execution_count": 14,
   "id": "f15f921e",
   "metadata": {
    "execution": {
     "iopub.execute_input": "2023-12-02T22:23:25.346023Z",
     "iopub.status.busy": "2023-12-02T22:23:25.346023Z",
     "iopub.status.idle": "2023-12-02T22:23:28.338193Z",
     "shell.execute_reply": "2023-12-02T22:23:28.338193Z"
    },
    "papermill": {
     "duration": 2.99217,
     "end_time": "2023-12-02T22:23:28.338193",
     "exception": false,
     "start_time": "2023-12-02T22:23:25.346023",
     "status": "completed"
    },
    "tags": []
   },
   "outputs": [
    {
     "data": {
      "text/plain": [
       "AnnData object with n_obs × n_vars = 2367839 × 36\n",
       "    obs: 'sample_ID', 'file_name', 'group_fd', 'internal_id', 'organ', 'staining', 'diag_main', 'diag_fine', 'donor_id', 'material', 'batch'\n",
       "    var: 'pns', 'png', 'pne', 'type', 'pnn', 'cofactors'\n",
       "    uns: 'metadata', 'panel', 'workspace', 'gating_cols', 'dataset_status_hash', 'cofactors', 'raw_cofactors', 'cofactor_table'\n",
       "    obsm: 'gating'\n",
       "    layers: 'compensated', 'transformed'"
      ]
     },
     "execution_count": 14,
     "metadata": {},
     "output_type": "execute_result"
    }
   ],
   "source": [
    "### the user is not supposed to access this matrix directly. Instead, we can use FACSPy functions to access specific gates.\n",
    "### here, we subset only live cells\n",
    "### note that the dataset is copied in the process, so we create a second subset that is called live_cells\n",
    "\n",
    "live_cells = fp.subset_gate(dataset,\n",
    "                            \"live\",\n",
    "                            copy = True)\n",
    "live_cells"
   ]
  },
  {
   "cell_type": "code",
   "execution_count": 15,
   "id": "a6c55745",
   "metadata": {
    "execution": {
     "iopub.execute_input": "2023-12-02T22:23:28.338193Z",
     "iopub.status.busy": "2023-12-02T22:23:28.338193Z",
     "iopub.status.idle": "2023-12-02T22:23:30.401111Z",
     "shell.execute_reply": "2023-12-02T22:23:30.401111Z"
    },
    "papermill": {
     "duration": 2.062918,
     "end_time": "2023-12-02T22:23:30.401111",
     "exception": false,
     "start_time": "2023-12-02T22:23:28.338193",
     "status": "completed"
    },
    "tags": []
   },
   "outputs": [],
   "source": [
    "### if we want to discard all other cells, we can subset the original dataset as follows\n",
    "### for the rest of this vignette, we only keep live cells\n",
    "\n",
    "fp.subset_gate(dataset, \"live\")"
   ]
  },
  {
   "cell_type": "code",
   "execution_count": 16,
   "id": "8a868efe",
   "metadata": {
    "execution": {
     "iopub.execute_input": "2023-12-02T22:23:30.401111Z",
     "iopub.status.busy": "2023-12-02T22:23:30.401111Z",
     "iopub.status.idle": "2023-12-02T22:23:30.448133Z",
     "shell.execute_reply": "2023-12-02T22:23:30.448133Z"
    },
    "papermill": {
     "duration": 0.047022,
     "end_time": "2023-12-02T22:23:30.448133",
     "exception": false,
     "start_time": "2023-12-02T22:23:30.401111",
     "status": "completed"
    },
    "tags": []
   },
   "outputs": [
    {
     "data": {
      "text/html": [
       "<div>\n",
       "<style scoped>\n",
       "    .dataframe tbody tr th:only-of-type {\n",
       "        vertical-align: middle;\n",
       "    }\n",
       "\n",
       "    .dataframe tbody tr th {\n",
       "        vertical-align: top;\n",
       "    }\n",
       "\n",
       "    .dataframe thead th {\n",
       "        text-align: right;\n",
       "    }\n",
       "</style>\n",
       "<table border=\"1\" class=\"dataframe\">\n",
       "  <thead>\n",
       "    <tr style=\"text-align: right;\">\n",
       "      <th></th>\n",
       "      <th>Time</th>\n",
       "      <th>SSC-H</th>\n",
       "      <th>SSC-A</th>\n",
       "      <th>FSC-H</th>\n",
       "      <th>FSC-A</th>\n",
       "      <th>SSC-B-H</th>\n",
       "      <th>SSC-B-A</th>\n",
       "      <th>CD38</th>\n",
       "      <th>NKG2C_(CD159c)</th>\n",
       "      <th>CD3</th>\n",
       "      <th>...</th>\n",
       "      <th>CD14</th>\n",
       "      <th>CD27</th>\n",
       "      <th>NKG2A_(CD159a)</th>\n",
       "      <th>CTLA-4_(CD152)</th>\n",
       "      <th>TRAIL_(CD253)</th>\n",
       "      <th>PD-1_(CD279)</th>\n",
       "      <th>CD18</th>\n",
       "      <th>Zombie_NIR</th>\n",
       "      <th>CD66b</th>\n",
       "      <th>AF-A</th>\n",
       "    </tr>\n",
       "  </thead>\n",
       "  <tbody>\n",
       "    <tr>\n",
       "      <th>0-0</th>\n",
       "      <td>0.0000</td>\n",
       "      <td>280669.0</td>\n",
       "      <td>2.964933e+05</td>\n",
       "      <td>1294084.0</td>\n",
       "      <td>1501242.750</td>\n",
       "      <td>239248.0</td>\n",
       "      <td>2.784677e+05</td>\n",
       "      <td>3733.869629</td>\n",
       "      <td>2428.832031</td>\n",
       "      <td>83645.859375</td>\n",
       "      <td>...</td>\n",
       "      <td>2196.446045</td>\n",
       "      <td>11616.447266</td>\n",
       "      <td>-6762.053223</td>\n",
       "      <td>228.966385</td>\n",
       "      <td>33.528599</td>\n",
       "      <td>94.960457</td>\n",
       "      <td>7313.366211</td>\n",
       "      <td>350.470825</td>\n",
       "      <td>275.108398</td>\n",
       "      <td>8161.391113</td>\n",
       "    </tr>\n",
       "    <tr>\n",
       "      <th>1-0</th>\n",
       "      <td>0.0034</td>\n",
       "      <td>408956.0</td>\n",
       "      <td>4.385952e+05</td>\n",
       "      <td>1095373.0</td>\n",
       "      <td>1253709.375</td>\n",
       "      <td>331308.0</td>\n",
       "      <td>3.864948e+05</td>\n",
       "      <td>-81.559128</td>\n",
       "      <td>-1160.806519</td>\n",
       "      <td>104297.421875</td>\n",
       "      <td>...</td>\n",
       "      <td>1770.571655</td>\n",
       "      <td>-821.060364</td>\n",
       "      <td>-8796.852539</td>\n",
       "      <td>-1698.822144</td>\n",
       "      <td>369.262634</td>\n",
       "      <td>488.935730</td>\n",
       "      <td>28683.802734</td>\n",
       "      <td>-980.601562</td>\n",
       "      <td>758.078125</td>\n",
       "      <td>9775.565430</td>\n",
       "    </tr>\n",
       "    <tr>\n",
       "      <th>2-0</th>\n",
       "      <td>0.0043</td>\n",
       "      <td>456595.0</td>\n",
       "      <td>4.995947e+05</td>\n",
       "      <td>1037646.0</td>\n",
       "      <td>1191190.000</td>\n",
       "      <td>346673.0</td>\n",
       "      <td>4.079460e+05</td>\n",
       "      <td>3523.129639</td>\n",
       "      <td>1337.915161</td>\n",
       "      <td>97211.875000</td>\n",
       "      <td>...</td>\n",
       "      <td>151.382462</td>\n",
       "      <td>3082.001221</td>\n",
       "      <td>1003.328857</td>\n",
       "      <td>67.463631</td>\n",
       "      <td>748.273804</td>\n",
       "      <td>3780.447021</td>\n",
       "      <td>40503.281250</td>\n",
       "      <td>-1788.460205</td>\n",
       "      <td>-21.585938</td>\n",
       "      <td>8605.550781</td>\n",
       "    </tr>\n",
       "    <tr>\n",
       "      <th>3-0</th>\n",
       "      <td>0.0055</td>\n",
       "      <td>1145342.0</td>\n",
       "      <td>1.912832e+06</td>\n",
       "      <td>1896447.0</td>\n",
       "      <td>3095241.500</td>\n",
       "      <td>1068368.0</td>\n",
       "      <td>1.890969e+06</td>\n",
       "      <td>-2893.820557</td>\n",
       "      <td>-66354.523438</td>\n",
       "      <td>117631.554688</td>\n",
       "      <td>...</td>\n",
       "      <td>66223.476562</td>\n",
       "      <td>-27051.164062</td>\n",
       "      <td>-201888.609375</td>\n",
       "      <td>-44016.957031</td>\n",
       "      <td>1557.418945</td>\n",
       "      <td>-10924.555664</td>\n",
       "      <td>127950.484375</td>\n",
       "      <td>12481.312500</td>\n",
       "      <td>7094.832031</td>\n",
       "      <td>88197.375000</td>\n",
       "    </tr>\n",
       "    <tr>\n",
       "      <th>4-0</th>\n",
       "      <td>0.0058</td>\n",
       "      <td>566604.0</td>\n",
       "      <td>6.517887e+05</td>\n",
       "      <td>1006409.0</td>\n",
       "      <td>1248624.875</td>\n",
       "      <td>414126.0</td>\n",
       "      <td>4.997060e+05</td>\n",
       "      <td>-10.057960</td>\n",
       "      <td>3012.665771</td>\n",
       "      <td>23707.751953</td>\n",
       "      <td>...</td>\n",
       "      <td>-1838.767578</td>\n",
       "      <td>5670.687500</td>\n",
       "      <td>4823.494141</td>\n",
       "      <td>3098.549561</td>\n",
       "      <td>717.823181</td>\n",
       "      <td>10720.612305</td>\n",
       "      <td>20161.494141</td>\n",
       "      <td>-860.871826</td>\n",
       "      <td>392.693848</td>\n",
       "      <td>3137.052734</td>\n",
       "    </tr>\n",
       "  </tbody>\n",
       "</table>\n",
       "<p>5 rows × 36 columns</p>\n",
       "</div>"
      ],
      "text/plain": [
       "       Time      SSC-H         SSC-A      FSC-H        FSC-A    SSC-B-H  \\\n",
       "0-0  0.0000   280669.0  2.964933e+05  1294084.0  1501242.750   239248.0   \n",
       "1-0  0.0034   408956.0  4.385952e+05  1095373.0  1253709.375   331308.0   \n",
       "2-0  0.0043   456595.0  4.995947e+05  1037646.0  1191190.000   346673.0   \n",
       "3-0  0.0055  1145342.0  1.912832e+06  1896447.0  3095241.500  1068368.0   \n",
       "4-0  0.0058   566604.0  6.517887e+05  1006409.0  1248624.875   414126.0   \n",
       "\n",
       "          SSC-B-A         CD38  NKG2C_(CD159c)            CD3  ...  \\\n",
       "0-0  2.784677e+05  3733.869629     2428.832031   83645.859375  ...   \n",
       "1-0  3.864948e+05   -81.559128    -1160.806519  104297.421875  ...   \n",
       "2-0  4.079460e+05  3523.129639     1337.915161   97211.875000  ...   \n",
       "3-0  1.890969e+06 -2893.820557   -66354.523438  117631.554688  ...   \n",
       "4-0  4.997060e+05   -10.057960     3012.665771   23707.751953  ...   \n",
       "\n",
       "             CD14          CD27  NKG2A_(CD159a)  CTLA-4_(CD152)  \\\n",
       "0-0   2196.446045  11616.447266    -6762.053223      228.966385   \n",
       "1-0   1770.571655   -821.060364    -8796.852539    -1698.822144   \n",
       "2-0    151.382462   3082.001221     1003.328857       67.463631   \n",
       "3-0  66223.476562 -27051.164062  -201888.609375   -44016.957031   \n",
       "4-0  -1838.767578   5670.687500     4823.494141     3098.549561   \n",
       "\n",
       "     TRAIL_(CD253)  PD-1_(CD279)            CD18    Zombie_NIR        CD66b  \\\n",
       "0-0      33.528599      94.960457    7313.366211    350.470825   275.108398   \n",
       "1-0     369.262634     488.935730   28683.802734   -980.601562   758.078125   \n",
       "2-0     748.273804    3780.447021   40503.281250  -1788.460205   -21.585938   \n",
       "3-0    1557.418945  -10924.555664  127950.484375  12481.312500  7094.832031   \n",
       "4-0     717.823181   10720.612305   20161.494141   -860.871826   392.693848   \n",
       "\n",
       "             AF-A  \n",
       "0-0   8161.391113  \n",
       "1-0   9775.565430  \n",
       "2-0   8605.550781  \n",
       "3-0  88197.375000  \n",
       "4-0   3137.052734  \n",
       "\n",
       "[5 rows x 36 columns]"
      ]
     },
     "execution_count": 16,
     "metadata": {},
     "output_type": "execute_result"
    }
   ],
   "source": [
    "### the .layers slot contains different \"versions\" of the data\n",
    "### here, we have the compensated data as well as the transformed data\n",
    "### since we need to use both modalities for different assays, we keep them in the same dataset\n",
    "\n",
    "dataset.to_df(layer = \"compensated\").head()"
   ]
  },
  {
   "cell_type": "code",
   "execution_count": 17,
   "id": "14ae0692",
   "metadata": {
    "execution": {
     "iopub.execute_input": "2023-12-02T22:23:30.463722Z",
     "iopub.status.busy": "2023-12-02T22:23:30.463722Z",
     "iopub.status.idle": "2023-12-02T22:23:30.479416Z",
     "shell.execute_reply": "2023-12-02T22:23:30.479416Z"
    },
    "papermill": {
     "duration": 0.031283,
     "end_time": "2023-12-02T22:23:30.479416",
     "exception": false,
     "start_time": "2023-12-02T22:23:30.448133",
     "status": "completed"
    },
    "tags": []
   },
   "outputs": [
    {
     "data": {
      "text/html": [
       "<div>\n",
       "<style scoped>\n",
       "    .dataframe tbody tr th:only-of-type {\n",
       "        vertical-align: middle;\n",
       "    }\n",
       "\n",
       "    .dataframe tbody tr th {\n",
       "        vertical-align: top;\n",
       "    }\n",
       "\n",
       "    .dataframe thead th {\n",
       "        text-align: right;\n",
       "    }\n",
       "</style>\n",
       "<table border=\"1\" class=\"dataframe\">\n",
       "  <thead>\n",
       "    <tr style=\"text-align: right;\">\n",
       "      <th></th>\n",
       "      <th>Time</th>\n",
       "      <th>SSC-H</th>\n",
       "      <th>SSC-A</th>\n",
       "      <th>FSC-H</th>\n",
       "      <th>FSC-A</th>\n",
       "      <th>SSC-B-H</th>\n",
       "      <th>SSC-B-A</th>\n",
       "      <th>CD38</th>\n",
       "      <th>NKG2C_(CD159c)</th>\n",
       "      <th>CD3</th>\n",
       "      <th>...</th>\n",
       "      <th>CD14</th>\n",
       "      <th>CD27</th>\n",
       "      <th>NKG2A_(CD159a)</th>\n",
       "      <th>CTLA-4_(CD152)</th>\n",
       "      <th>TRAIL_(CD253)</th>\n",
       "      <th>PD-1_(CD279)</th>\n",
       "      <th>CD18</th>\n",
       "      <th>Zombie_NIR</th>\n",
       "      <th>CD66b</th>\n",
       "      <th>AF-A</th>\n",
       "    </tr>\n",
       "  </thead>\n",
       "  <tbody>\n",
       "    <tr>\n",
       "      <th>0-0</th>\n",
       "      <td>0.0000</td>\n",
       "      <td>13.238078</td>\n",
       "      <td>13.292927</td>\n",
       "      <td>14.766460</td>\n",
       "      <td>14.914951</td>\n",
       "      <td>13.078403</td>\n",
       "      <td>13.230205</td>\n",
       "      <td>1.778601</td>\n",
       "      <td>1.506725</td>\n",
       "      <td>3.455303</td>\n",
       "      <td>...</td>\n",
       "      <td>0.438761</td>\n",
       "      <td>4.041714</td>\n",
       "      <td>-2.867283</td>\n",
       "      <td>0.165265</td>\n",
       "      <td>0.013002</td>\n",
       "      <td>0.076282</td>\n",
       "      <td>1.000324</td>\n",
       "      <td>0.008221</td>\n",
       "      <td>0.031120</td>\n",
       "      <td>9.700317</td>\n",
       "    </tr>\n",
       "    <tr>\n",
       "      <th>1-0</th>\n",
       "      <td>0.0034</td>\n",
       "      <td>13.614510</td>\n",
       "      <td>13.684480</td>\n",
       "      <td>14.599752</td>\n",
       "      <td>14.734764</td>\n",
       "      <td>13.403951</td>\n",
       "      <td>13.558021</td>\n",
       "      <td>-0.062787</td>\n",
       "      <td>-0.899099</td>\n",
       "      <td>3.675602</td>\n",
       "      <td>...</td>\n",
       "      <td>0.357483</td>\n",
       "      <td>-1.448585</td>\n",
       "      <td>-3.129030</td>\n",
       "      <td>-1.036158</td>\n",
       "      <td>0.142712</td>\n",
       "      <td>0.383661</td>\n",
       "      <td>2.233196</td>\n",
       "      <td>-0.023000</td>\n",
       "      <td>0.085663</td>\n",
       "      <td>9.880789</td>\n",
       "    </tr>\n",
       "    <tr>\n",
       "      <th>2-0</th>\n",
       "      <td>0.0043</td>\n",
       "      <td>13.724699</td>\n",
       "      <td>13.814700</td>\n",
       "      <td>14.545612</td>\n",
       "      <td>14.683611</td>\n",
       "      <td>13.449285</td>\n",
       "      <td>13.612038</td>\n",
       "      <td>1.723905</td>\n",
       "      <td>1.004171</td>\n",
       "      <td>3.605345</td>\n",
       "      <td>...</td>\n",
       "      <td>0.031215</td>\n",
       "      <td>2.718921</td>\n",
       "      <td>1.078872</td>\n",
       "      <td>0.048897</td>\n",
       "      <td>0.286249</td>\n",
       "      <td>1.830950</td>\n",
       "      <td>2.572537</td>\n",
       "      <td>-0.041939</td>\n",
       "      <td>-0.002442</td>\n",
       "      <td>9.753310</td>\n",
       "    </tr>\n",
       "    <tr>\n",
       "      <th>3-0</th>\n",
       "      <td>0.0055</td>\n",
       "      <td>14.644361</td>\n",
       "      <td>15.157243</td>\n",
       "      <td>15.148640</td>\n",
       "      <td>15.638524</td>\n",
       "      <td>14.574790</td>\n",
       "      <td>15.145747</td>\n",
       "      <td>-1.541687</td>\n",
       "      <td>-4.764030</td>\n",
       "      <td>3.795776</td>\n",
       "      <td>...</td>\n",
       "      <td>3.308760</td>\n",
       "      <td>-4.886770</td>\n",
       "      <td>-6.260439</td>\n",
       "      <td>-4.156490</td>\n",
       "      <td>0.572212</td>\n",
       "      <td>-2.869326</td>\n",
       "      <td>3.717543</td>\n",
       "      <td>0.288743</td>\n",
       "      <td>0.734771</td>\n",
       "      <td>12.080480</td>\n",
       "    </tr>\n",
       "    <tr>\n",
       "      <th>4-0</th>\n",
       "      <td>0.0058</td>\n",
       "      <td>13.940563</td>\n",
       "      <td>14.080623</td>\n",
       "      <td>14.515046</td>\n",
       "      <td>14.730700</td>\n",
       "      <td>13.627072</td>\n",
       "      <td>13.814922</td>\n",
       "      <td>-0.007748</td>\n",
       "      <td>1.705346</td>\n",
       "      <td>2.205727</td>\n",
       "      <td>...</td>\n",
       "      <td>-0.370664</td>\n",
       "      <td>3.325587</td>\n",
       "      <td>2.532551</td>\n",
       "      <td>1.548812</td>\n",
       "      <td>0.274891</td>\n",
       "      <td>2.850605</td>\n",
       "      <td>1.892074</td>\n",
       "      <td>-0.020192</td>\n",
       "      <td>0.044414</td>\n",
       "      <td>8.744186</td>\n",
       "    </tr>\n",
       "  </tbody>\n",
       "</table>\n",
       "<p>5 rows × 36 columns</p>\n",
       "</div>"
      ],
      "text/plain": [
       "       Time      SSC-H      SSC-A      FSC-H      FSC-A    SSC-B-H    SSC-B-A  \\\n",
       "0-0  0.0000  13.238078  13.292927  14.766460  14.914951  13.078403  13.230205   \n",
       "1-0  0.0034  13.614510  13.684480  14.599752  14.734764  13.403951  13.558021   \n",
       "2-0  0.0043  13.724699  13.814700  14.545612  14.683611  13.449285  13.612038   \n",
       "3-0  0.0055  14.644361  15.157243  15.148640  15.638524  14.574790  15.145747   \n",
       "4-0  0.0058  13.940563  14.080623  14.515046  14.730700  13.627072  13.814922   \n",
       "\n",
       "         CD38  NKG2C_(CD159c)       CD3  ...      CD14      CD27  \\\n",
       "0-0  1.778601        1.506725  3.455303  ...  0.438761  4.041714   \n",
       "1-0 -0.062787       -0.899099  3.675602  ...  0.357483 -1.448585   \n",
       "2-0  1.723905        1.004171  3.605345  ...  0.031215  2.718921   \n",
       "3-0 -1.541687       -4.764030  3.795776  ...  3.308760 -4.886770   \n",
       "4-0 -0.007748        1.705346  2.205727  ... -0.370664  3.325587   \n",
       "\n",
       "     NKG2A_(CD159a)  CTLA-4_(CD152)  TRAIL_(CD253)  PD-1_(CD279)       CD18  \\\n",
       "0-0       -2.867283        0.165265       0.013002       0.076282  1.000324   \n",
       "1-0       -3.129030       -1.036158       0.142712       0.383661  2.233196   \n",
       "2-0        1.078872        0.048897       0.286249       1.830950  2.572537   \n",
       "3-0       -6.260439       -4.156490       0.572212      -2.869326  3.717543   \n",
       "4-0        2.532551        1.548812       0.274891       2.850605  1.892074   \n",
       "\n",
       "     Zombie_NIR     CD66b       AF-A  \n",
       "0-0    0.008221  0.031120   9.700317  \n",
       "1-0   -0.023000  0.085663   9.880789  \n",
       "2-0   -0.041939 -0.002442   9.753310  \n",
       "3-0    0.288743  0.734771  12.080480  \n",
       "4-0   -0.020192  0.044414   8.744186  \n",
       "\n",
       "[5 rows x 36 columns]"
      ]
     },
     "execution_count": 17,
     "metadata": {},
     "output_type": "execute_result"
    }
   ],
   "source": [
    "dataset.to_df(layer = \"transformed\").head()"
   ]
  },
  {
   "cell_type": "code",
   "execution_count": 18,
   "id": "4da280ae",
   "metadata": {
    "execution": {
     "iopub.execute_input": "2023-12-02T22:23:30.479416Z",
     "iopub.status.busy": "2023-12-02T22:23:30.479416Z",
     "iopub.status.idle": "2023-12-02T22:23:30.512629Z",
     "shell.execute_reply": "2023-12-02T22:23:30.511386Z"
    },
    "papermill": {
     "duration": 0.034298,
     "end_time": "2023-12-02T22:23:30.513714",
     "exception": false,
     "start_time": "2023-12-02T22:23:30.479416",
     "status": "completed"
    },
    "tags": []
   },
   "outputs": [
    {
     "name": "stdout",
     "output_type": "stream",
     "text": [
      "Metadata(36 entries with factors ['group_fd', 'internal_id', 'organ', 'diag_main', 'diag_fine', 'donor_id', 'material', 'batch'])\n",
      "Panel(28 channels, loaded as provided file)\n",
      "CofactorTable(28 channels, loaded as provided dataframe)\n"
     ]
    },
    {
     "data": {
      "text/plain": [
       "AnnData object with n_obs × n_vars = 2367839 × 36\n",
       "    obs: 'sample_ID', 'file_name', 'group_fd', 'internal_id', 'organ', 'staining', 'diag_main', 'diag_fine', 'donor_id', 'material', 'batch'\n",
       "    var: 'pns', 'png', 'pne', 'type', 'pnn', 'cofactors'\n",
       "    uns: 'metadata', 'panel', 'workspace', 'gating_cols', 'dataset_status_hash', 'cofactors', 'raw_cofactors', 'cofactor_table'\n",
       "    obsm: 'gating'\n",
       "    layers: 'compensated', 'transformed'"
      ]
     },
     "execution_count": 18,
     "metadata": {},
     "output_type": "execute_result"
    }
   ],
   "source": [
    "### the .uns slot contains all data that do not fit the shape of the dataset (unstructured metadata). \n",
    "### by default, we store the metadata, panel, cofactors and workspace\n",
    "\n",
    "print(dataset.uns[\"metadata\"])\n",
    "print(dataset.uns[\"panel\"])\n",
    "print(dataset.uns[\"cofactors\"])\n",
    "dataset"
   ]
  },
  {
   "cell_type": "code",
   "execution_count": 19,
   "id": "9bebf83e",
   "metadata": {
    "execution": {
     "iopub.execute_input": "2023-12-02T22:23:30.514834Z",
     "iopub.status.busy": "2023-12-02T22:23:30.514834Z",
     "iopub.status.idle": "2023-12-02T22:23:43.479795Z",
     "shell.execute_reply": "2023-12-02T22:23:43.479795Z"
    },
    "papermill": {
     "duration": 12.964961,
     "end_time": "2023-12-02T22:23:43.479795",
     "exception": false,
     "start_time": "2023-12-02T22:23:30.514834",
     "status": "completed"
    },
    "tags": []
   },
   "outputs": [
    {
     "data": {
      "text/plain": [
       "AnnData object with n_obs × n_vars = 2367839 × 36\n",
       "    obs: 'sample_ID', 'file_name', 'group_fd', 'internal_id', 'organ', 'staining', 'diag_main', 'diag_fine', 'donor_id', 'material', 'batch'\n",
       "    var: 'pns', 'png', 'pne', 'type', 'pnn', 'cofactors'\n",
       "    uns: 'metadata', 'panel', 'workspace', 'gating_cols', 'dataset_status_hash', 'cofactors', 'raw_cofactors', 'cofactor_table', 'mfi_sample_ID_compensated', 'settings'\n",
       "    obsm: 'gating'\n",
       "    layers: 'compensated', 'transformed'"
      ]
     },
     "execution_count": 19,
     "metadata": {},
     "output_type": "execute_result"
    }
   ],
   "source": [
    "### all samplewise analyses are also kept here. If we calculate the mfi, the frame is stored in dataset.uns\n",
    "### we create and entry that is named \"mfi_sample_ID_transformed\"\n",
    "\n",
    "### in order to allow the concurrent analysis of multiple gates and populations, FACSPy stores the information in the slot name\n",
    "### here, we calculated the mfi, grouped by sample_ID on compensated data\n",
    "\n",
    "fp.tl.mfi(dataset,\n",
    "          layer = \"compensated\")\n",
    "\n",
    "dataset"
   ]
  },
  {
   "cell_type": "code",
   "execution_count": 20,
   "id": "3231a7bf",
   "metadata": {
    "execution": {
     "iopub.execute_input": "2023-12-02T22:23:43.479795Z",
     "iopub.status.busy": "2023-12-02T22:23:43.479795Z",
     "iopub.status.idle": "2023-12-02T22:23:43.511118Z",
     "shell.execute_reply": "2023-12-02T22:23:43.511118Z"
    },
    "papermill": {
     "duration": 0.031323,
     "end_time": "2023-12-02T22:23:43.511118",
     "exception": false,
     "start_time": "2023-12-02T22:23:43.479795",
     "status": "completed"
    },
    "tags": []
   },
   "outputs": [
    {
     "data": {
      "text/html": [
       "<div>\n",
       "<style scoped>\n",
       "    .dataframe tbody tr th:only-of-type {\n",
       "        vertical-align: middle;\n",
       "    }\n",
       "\n",
       "    .dataframe tbody tr th {\n",
       "        vertical-align: top;\n",
       "    }\n",
       "\n",
       "    .dataframe thead th {\n",
       "        text-align: right;\n",
       "    }\n",
       "</style>\n",
       "<table border=\"1\" class=\"dataframe\">\n",
       "  <thead>\n",
       "    <tr style=\"text-align: right;\">\n",
       "      <th></th>\n",
       "      <th></th>\n",
       "      <th>Time</th>\n",
       "      <th>SSC-H</th>\n",
       "      <th>SSC-A</th>\n",
       "      <th>FSC-H</th>\n",
       "      <th>FSC-A</th>\n",
       "      <th>SSC-B-H</th>\n",
       "      <th>SSC-B-A</th>\n",
       "      <th>CD38</th>\n",
       "      <th>NKG2C_(CD159c)</th>\n",
       "      <th>CD3</th>\n",
       "      <th>...</th>\n",
       "      <th>CD14</th>\n",
       "      <th>CD27</th>\n",
       "      <th>NKG2A_(CD159a)</th>\n",
       "      <th>CTLA-4_(CD152)</th>\n",
       "      <th>TRAIL_(CD253)</th>\n",
       "      <th>PD-1_(CD279)</th>\n",
       "      <th>CD18</th>\n",
       "      <th>Zombie_NIR</th>\n",
       "      <th>CD66b</th>\n",
       "      <th>AF-A</th>\n",
       "    </tr>\n",
       "    <tr>\n",
       "      <th>sample_ID</th>\n",
       "      <th>gate</th>\n",
       "      <th></th>\n",
       "      <th></th>\n",
       "      <th></th>\n",
       "      <th></th>\n",
       "      <th></th>\n",
       "      <th></th>\n",
       "      <th></th>\n",
       "      <th></th>\n",
       "      <th></th>\n",
       "      <th></th>\n",
       "      <th></th>\n",
       "      <th></th>\n",
       "      <th></th>\n",
       "      <th></th>\n",
       "      <th></th>\n",
       "      <th></th>\n",
       "      <th></th>\n",
       "      <th></th>\n",
       "      <th></th>\n",
       "      <th></th>\n",
       "      <th></th>\n",
       "    </tr>\n",
       "  </thead>\n",
       "  <tbody>\n",
       "    <tr>\n",
       "      <th>1</th>\n",
       "      <th>root/all_cells</th>\n",
       "      <td>92.338799</td>\n",
       "      <td>426979.0</td>\n",
       "      <td>483348.156250</td>\n",
       "      <td>1280046.0</td>\n",
       "      <td>1.525810e+06</td>\n",
       "      <td>343562.0</td>\n",
       "      <td>416366.468750</td>\n",
       "      <td>3096.480225</td>\n",
       "      <td>421.562561</td>\n",
       "      <td>4260.855957</td>\n",
       "      <td>...</td>\n",
       "      <td>326.190948</td>\n",
       "      <td>2415.716309</td>\n",
       "      <td>-2186.655518</td>\n",
       "      <td>113.783081</td>\n",
       "      <td>567.933838</td>\n",
       "      <td>476.055206</td>\n",
       "      <td>21647.068359</td>\n",
       "      <td>64.106445</td>\n",
       "      <td>382.719727</td>\n",
       "      <td>8249.457031</td>\n",
       "    </tr>\n",
       "    <tr>\n",
       "      <th>2</th>\n",
       "      <th>root/all_cells</th>\n",
       "      <td>91.307152</td>\n",
       "      <td>461467.5</td>\n",
       "      <td>528586.281250</td>\n",
       "      <td>1314374.5</td>\n",
       "      <td>1.597389e+06</td>\n",
       "      <td>370216.0</td>\n",
       "      <td>454101.234375</td>\n",
       "      <td>3649.359985</td>\n",
       "      <td>752.088287</td>\n",
       "      <td>27555.433594</td>\n",
       "      <td>...</td>\n",
       "      <td>49.189646</td>\n",
       "      <td>4699.732422</td>\n",
       "      <td>-2126.341431</td>\n",
       "      <td>354.737915</td>\n",
       "      <td>765.017456</td>\n",
       "      <td>763.312592</td>\n",
       "      <td>19111.833008</td>\n",
       "      <td>380.439178</td>\n",
       "      <td>394.168945</td>\n",
       "      <td>7477.313477</td>\n",
       "    </tr>\n",
       "    <tr>\n",
       "      <th>3</th>\n",
       "      <th>root/all_cells</th>\n",
       "      <td>100.621799</td>\n",
       "      <td>458393.0</td>\n",
       "      <td>523310.906250</td>\n",
       "      <td>1203675.5</td>\n",
       "      <td>1.438810e+06</td>\n",
       "      <td>374794.0</td>\n",
       "      <td>456158.156250</td>\n",
       "      <td>2338.043701</td>\n",
       "      <td>541.534790</td>\n",
       "      <td>28436.040039</td>\n",
       "      <td>...</td>\n",
       "      <td>1491.264160</td>\n",
       "      <td>1293.785889</td>\n",
       "      <td>-2469.103516</td>\n",
       "      <td>-16.103633</td>\n",
       "      <td>844.625580</td>\n",
       "      <td>579.380524</td>\n",
       "      <td>17958.804688</td>\n",
       "      <td>694.674988</td>\n",
       "      <td>371.653076</td>\n",
       "      <td>6341.876709</td>\n",
       "    </tr>\n",
       "    <tr>\n",
       "      <th>4</th>\n",
       "      <th>root/all_cells</th>\n",
       "      <td>98.125847</td>\n",
       "      <td>412581.0</td>\n",
       "      <td>460528.484375</td>\n",
       "      <td>1208110.0</td>\n",
       "      <td>1.420063e+06</td>\n",
       "      <td>336580.0</td>\n",
       "      <td>401097.625000</td>\n",
       "      <td>3147.915283</td>\n",
       "      <td>1111.765991</td>\n",
       "      <td>43195.044922</td>\n",
       "      <td>...</td>\n",
       "      <td>1263.234619</td>\n",
       "      <td>4732.218994</td>\n",
       "      <td>-2937.132690</td>\n",
       "      <td>5.521069</td>\n",
       "      <td>671.986633</td>\n",
       "      <td>344.843430</td>\n",
       "      <td>11126.077637</td>\n",
       "      <td>737.335571</td>\n",
       "      <td>271.416504</td>\n",
       "      <td>6536.433105</td>\n",
       "    </tr>\n",
       "    <tr>\n",
       "      <th>5</th>\n",
       "      <th>root/all_cells</th>\n",
       "      <td>90.351402</td>\n",
       "      <td>442781.0</td>\n",
       "      <td>505627.750000</td>\n",
       "      <td>1265257.0</td>\n",
       "      <td>1.513078e+06</td>\n",
       "      <td>356986.0</td>\n",
       "      <td>436810.468750</td>\n",
       "      <td>2581.451660</td>\n",
       "      <td>1372.416504</td>\n",
       "      <td>4461.762695</td>\n",
       "      <td>...</td>\n",
       "      <td>5.471334</td>\n",
       "      <td>2372.531494</td>\n",
       "      <td>-1844.797852</td>\n",
       "      <td>191.291962</td>\n",
       "      <td>702.836304</td>\n",
       "      <td>584.618591</td>\n",
       "      <td>16370.416016</td>\n",
       "      <td>529.221924</td>\n",
       "      <td>345.144775</td>\n",
       "      <td>7698.866211</td>\n",
       "    </tr>\n",
       "  </tbody>\n",
       "</table>\n",
       "<p>5 rows × 36 columns</p>\n",
       "</div>"
      ],
      "text/plain": [
       "                                Time     SSC-H          SSC-A      FSC-H  \\\n",
       "sample_ID gate                                                             \n",
       "1         root/all_cells   92.338799  426979.0  483348.156250  1280046.0   \n",
       "2         root/all_cells   91.307152  461467.5  528586.281250  1314374.5   \n",
       "3         root/all_cells  100.621799  458393.0  523310.906250  1203675.5   \n",
       "4         root/all_cells   98.125847  412581.0  460528.484375  1208110.0   \n",
       "5         root/all_cells   90.351402  442781.0  505627.750000  1265257.0   \n",
       "\n",
       "                                 FSC-A   SSC-B-H        SSC-B-A         CD38  \\\n",
       "sample_ID gate                                                                 \n",
       "1         root/all_cells  1.525810e+06  343562.0  416366.468750  3096.480225   \n",
       "2         root/all_cells  1.597389e+06  370216.0  454101.234375  3649.359985   \n",
       "3         root/all_cells  1.438810e+06  374794.0  456158.156250  2338.043701   \n",
       "4         root/all_cells  1.420063e+06  336580.0  401097.625000  3147.915283   \n",
       "5         root/all_cells  1.513078e+06  356986.0  436810.468750  2581.451660   \n",
       "\n",
       "                          NKG2C_(CD159c)           CD3  ...         CD14  \\\n",
       "sample_ID gate                                          ...                \n",
       "1         root/all_cells      421.562561   4260.855957  ...   326.190948   \n",
       "2         root/all_cells      752.088287  27555.433594  ...    49.189646   \n",
       "3         root/all_cells      541.534790  28436.040039  ...  1491.264160   \n",
       "4         root/all_cells     1111.765991  43195.044922  ...  1263.234619   \n",
       "5         root/all_cells     1372.416504   4461.762695  ...     5.471334   \n",
       "\n",
       "                                 CD27  NKG2A_(CD159a)  CTLA-4_(CD152)  \\\n",
       "sample_ID gate                                                          \n",
       "1         root/all_cells  2415.716309    -2186.655518      113.783081   \n",
       "2         root/all_cells  4699.732422    -2126.341431      354.737915   \n",
       "3         root/all_cells  1293.785889    -2469.103516      -16.103633   \n",
       "4         root/all_cells  4732.218994    -2937.132690        5.521069   \n",
       "5         root/all_cells  2372.531494    -1844.797852      191.291962   \n",
       "\n",
       "                          TRAIL_(CD253)  PD-1_(CD279)           CD18  \\\n",
       "sample_ID gate                                                         \n",
       "1         root/all_cells     567.933838     476.055206  21647.068359   \n",
       "2         root/all_cells     765.017456     763.312592  19111.833008   \n",
       "3         root/all_cells     844.625580     579.380524  17958.804688   \n",
       "4         root/all_cells     671.986633     344.843430  11126.077637   \n",
       "5         root/all_cells     702.836304     584.618591  16370.416016   \n",
       "\n",
       "                          Zombie_NIR       CD66b         AF-A  \n",
       "sample_ID gate                                                 \n",
       "1         root/all_cells   64.106445  382.719727  8249.457031  \n",
       "2         root/all_cells  380.439178  394.168945  7477.313477  \n",
       "3         root/all_cells  694.674988  371.653076  6341.876709  \n",
       "4         root/all_cells  737.335571  271.416504  6536.433105  \n",
       "5         root/all_cells  529.221924  345.144775  7698.866211  \n",
       "\n",
       "[5 rows x 36 columns]"
      ]
     },
     "execution_count": 20,
     "metadata": {},
     "output_type": "execute_result"
    }
   ],
   "source": [
    "### we inspect the dataframe and see that for every gate, the MFI values have been calculated per channel\n",
    "\n",
    "dataset.uns[\"mfi_sample_ID_compensated\"].head()"
   ]
  },
  {
   "cell_type": "code",
   "execution_count": 21,
   "id": "81486a5d",
   "metadata": {
    "execution": {
     "iopub.execute_input": "2023-12-02T22:23:43.511118Z",
     "iopub.status.busy": "2023-12-02T22:23:43.511118Z",
     "iopub.status.idle": "2023-12-02T22:23:50.232914Z",
     "shell.execute_reply": "2023-12-02T22:23:50.232914Z"
    },
    "papermill": {
     "duration": 6.721796,
     "end_time": "2023-12-02T22:23:50.232914",
     "exception": false,
     "start_time": "2023-12-02T22:23:43.511118",
     "status": "completed"
    },
    "tags": []
   },
   "outputs": [
    {
     "data": {
      "text/plain": [
       "AnnData object with n_obs × n_vars = 2367839 × 36\n",
       "    obs: 'sample_ID', 'file_name', 'group_fd', 'internal_id', 'organ', 'staining', 'diag_main', 'diag_fine', 'donor_id', 'material', 'batch'\n",
       "    var: 'pns', 'png', 'pne', 'type', 'pnn', 'cofactors'\n",
       "    uns: 'metadata', 'panel', 'workspace', 'gating_cols', 'dataset_status_hash', 'cofactors', 'raw_cofactors', 'cofactor_table', 'mfi_sample_ID_compensated', 'settings', 'fop_sample_ID_compensated'\n",
       "    obsm: 'gating'\n",
       "    layers: 'compensated', 'transformed'"
      ]
     },
     "execution_count": 21,
     "metadata": {},
     "output_type": "execute_result"
    }
   ],
   "source": [
    "### similarly, if we calculate the fop using the same settings we create an entry called\n",
    "### \"fop_sample_ID_compensated\"\n",
    "\n",
    "fp.tl.fop(dataset,\n",
    "          layer = \"compensated\")\n",
    "dataset"
   ]
  },
  {
   "cell_type": "code",
   "execution_count": 22,
   "id": "772067c9",
   "metadata": {
    "execution": {
     "iopub.execute_input": "2023-12-02T22:23:50.246000Z",
     "iopub.status.busy": "2023-12-02T22:23:50.246000Z",
     "iopub.status.idle": "2023-12-02T22:23:50.265552Z",
     "shell.execute_reply": "2023-12-02T22:23:50.264835Z"
    },
    "papermill": {
     "duration": 0.032638,
     "end_time": "2023-12-02T22:23:50.265552",
     "exception": false,
     "start_time": "2023-12-02T22:23:50.232914",
     "status": "completed"
    },
    "tags": []
   },
   "outputs": [
    {
     "data": {
      "text/plain": [
       "{'_mfi_sample_ID_compensated': {'groupby': 'sample_ID',\n",
       "  'method': 'median',\n",
       "  'use_only_fluo': False,\n",
       "  'layer': 'compensated'},\n",
       " '_fop_sample_ID_compensated': {'groupby': 'sample_ID',\n",
       "  'cutoff': array([1.0000000e+00, 1.0000000e+00, 1.0000000e+00, 1.0000000e+00,\n",
       "         1.0000000e+00, 1.0000000e+00, 1.0000000e+00, 1.2981292e+03,\n",
       "         1.1322448e+03, 5.2879663e+03, 1.4275482e+04, 2.8905862e+03,\n",
       "         5.5698975e+03, 2.7737961e+03, 2.1693916e+03, 4.2989844e+03,\n",
       "         2.0747034e+03, 2.4437014e+03, 5.0000000e+03, 7.1690107e+03,\n",
       "         6.1730945e+02, 1.3852777e+03, 1.4649585e+03, 4.0099905e+03,\n",
       "         1.3888629e+03, 4.0046506e+03, 4.8489380e+03, 4.0826614e+02,\n",
       "         7.7138184e+02, 1.3791636e+03, 2.5787056e+03, 1.2436598e+03,\n",
       "         6.2204258e+03, 4.2631496e+04, 8.8387695e+03, 1.0000000e+00],\n",
       "        dtype=float32),\n",
       "  'use_only_fluo': False,\n",
       "  'layer': 'compensated'}}"
      ]
     },
     "execution_count": 22,
     "metadata": {},
     "output_type": "execute_result"
    }
   ],
   "source": [
    "### on a side note: we also store the settings that were used:\n",
    "dataset.uns[\"settings\"]"
   ]
  },
  {
   "cell_type": "code",
   "execution_count": 23,
   "id": "912a1a92",
   "metadata": {
    "execution": {
     "iopub.execute_input": "2023-12-02T22:23:50.272569Z",
     "iopub.status.busy": "2023-12-02T22:23:50.272569Z",
     "iopub.status.idle": "2023-12-02T22:24:00.506934Z",
     "shell.execute_reply": "2023-12-02T22:24:00.506934Z"
    },
    "papermill": {
     "duration": 10.234365,
     "end_time": "2023-12-02T22:24:00.506934",
     "exception": false,
     "start_time": "2023-12-02T22:23:50.272569",
     "status": "completed"
    },
    "tags": []
   },
   "outputs": [
    {
     "data": {
      "text/plain": [
       "AnnData object with n_obs × n_vars = 2367839 × 36\n",
       "    obs: 'sample_ID', 'file_name', 'group_fd', 'internal_id', 'organ', 'staining', 'diag_main', 'diag_fine', 'donor_id', 'material', 'batch'\n",
       "    var: 'pns', 'png', 'pne', 'type', 'pnn', 'cofactors'\n",
       "    uns: 'metadata', 'panel', 'workspace', 'gating_cols', 'dataset_status_hash', 'cofactors', 'raw_cofactors', 'cofactor_table', 'mfi_sample_ID_compensated', 'settings', 'fop_sample_ID_compensated', 'pca_CD45+_transformed'\n",
       "    obsm: 'gating', 'X_pca_CD45+_transformed'\n",
       "    varm: 'pca_CD45+_transformed'\n",
       "    layers: 'compensated', 'transformed'"
      ]
     },
     "execution_count": 23,
     "metadata": {},
     "output_type": "execute_result"
    }
   ],
   "source": [
    "### if we calculate cell-wise analyses, e.g. PCA, this information gets stored in the .obsm slot for coordinates\n",
    "\n",
    "fp.tl.pca(dataset,\n",
    "          layer = \"transformed\",\n",
    "          gate = \"CD45+\")\n",
    "\n",
    "dataset"
   ]
  },
  {
   "cell_type": "code",
   "execution_count": 24,
   "id": "76d0ce3a",
   "metadata": {
    "execution": {
     "iopub.execute_input": "2023-12-02T22:24:00.522658Z",
     "iopub.status.busy": "2023-12-02T22:24:00.522658Z",
     "iopub.status.idle": "2023-12-02T22:24:07.435597Z",
     "shell.execute_reply": "2023-12-02T22:24:07.435597Z"
    },
    "papermill": {
     "duration": 6.928663,
     "end_time": "2023-12-02T22:24:07.435597",
     "exception": false,
     "start_time": "2023-12-02T22:24:00.506934",
     "status": "completed"
    },
    "tags": []
   },
   "outputs": [
    {
     "name": "stderr",
     "output_type": "stream",
     "text": [
      "C:\\Users\\tarik\\anaconda3\\envs\\FACSPypeline\\lib\\site-packages\\scanpy\\plotting\\_tools\\scatterplots.py:1208: FutureWarning: is_categorical_dtype is deprecated and will be removed in a future version. Use isinstance(dtype, CategoricalDtype) instead\n",
      "  if not is_categorical_dtype(values):\n",
      "C:\\Users\\tarik\\anaconda3\\envs\\FACSPypeline\\lib\\site-packages\\scanpy\\plotting\\_tools\\scatterplots.py:1217: FutureWarning: The default value of 'ignore' for the `na_action` parameter in pandas.Categorical.map is deprecated and will be changed to 'None' in a future version. Please set na_action to the desired value to avoid seeing this warning\n",
      "  color_vector = pd.Categorical(values.map(color_map))\n"
     ]
    },
    {
     "name": "stderr",
     "output_type": "stream",
     "text": [
      "C:\\Users\\tarik\\anaconda3\\envs\\FACSPypeline\\lib\\site-packages\\scanpy\\plotting\\_tools\\scatterplots.py:392: UserWarning: No data for colormapping provided via 'c'. Parameters 'cmap' will be ignored\n",
      "  cax = scatter(\n"
     ]
    },
    {
     "data": {
      "image/png": "[encoded data removed]",
      "text/plain": [
       "<Figure size 300x300 with 1 Axes>"
      ]
     },
     "metadata": {},
     "output_type": "display_data"
    }
   ],
   "source": [
    "### similar to the mfi dataframe, we store the dimensionality reduction, the gate and the data layer within the slot entry name.\n",
    "### that way, we can store dimensionality reductions, neighbors information etc. for multiple gates at the same time\n",
    "### and easily access them\n",
    "\n",
    "### the plotting utility will also use this information to access the correct slots\n",
    "\n",
    "fp.pl.pca(dataset,\n",
    "          layer = \"transformed\",\n",
    "          gate = \"CD45+\",\n",
    "          color = \"organ\")"
   ]
  },
  {
   "cell_type": "code",
   "execution_count": 25,
   "id": "894cacf5",
   "metadata": {
    "execution": {
     "iopub.execute_input": "2023-12-02T22:24:07.451164Z",
     "iopub.status.busy": "2023-12-02T22:24:07.451164Z",
     "iopub.status.idle": "2023-12-02T22:24:07.483958Z",
     "shell.execute_reply": "2023-12-02T22:24:07.483045Z"
    },
    "papermill": {
     "duration": 0.048361,
     "end_time": "2023-12-02T22:24:07.483958",
     "exception": false,
     "start_time": "2023-12-02T22:24:07.435597",
     "status": "completed"
    },
    "tags": []
   },
   "outputs": [
    {
     "data": {
      "text/html": [
       "<div>\n",
       "<style scoped>\n",
       "    .dataframe tbody tr th:only-of-type {\n",
       "        vertical-align: middle;\n",
       "    }\n",
       "\n",
       "    .dataframe tbody tr th {\n",
       "        vertical-align: top;\n",
       "    }\n",
       "\n",
       "    .dataframe thead th {\n",
       "        text-align: right;\n",
       "    }\n",
       "</style>\n",
       "<table border=\"1\" class=\"dataframe\">\n",
       "  <thead>\n",
       "    <tr style=\"text-align: right;\">\n",
       "      <th></th>\n",
       "      <th>PC1</th>\n",
       "      <th>PC2</th>\n",
       "      <th>PC3</th>\n",
       "      <th>PC4</th>\n",
       "      <th>PC5</th>\n",
       "      <th>PC6</th>\n",
       "      <th>PC7</th>\n",
       "      <th>PC8</th>\n",
       "      <th>PC9</th>\n",
       "      <th>PC10</th>\n",
       "      <th>...</th>\n",
       "      <th>PC18</th>\n",
       "      <th>PC19</th>\n",
       "      <th>PC20</th>\n",
       "      <th>PC21</th>\n",
       "      <th>PC22</th>\n",
       "      <th>PC23</th>\n",
       "      <th>PC24</th>\n",
       "      <th>PC25</th>\n",
       "      <th>PC26</th>\n",
       "      <th>PC27</th>\n",
       "    </tr>\n",
       "  </thead>\n",
       "  <tbody>\n",
       "    <tr>\n",
       "      <th>0</th>\n",
       "      <td>4.244428</td>\n",
       "      <td>-0.863238</td>\n",
       "      <td>2.040395</td>\n",
       "      <td>0.903165</td>\n",
       "      <td>-0.052635</td>\n",
       "      <td>0.917461</td>\n",
       "      <td>0.402200</td>\n",
       "      <td>-1.970635</td>\n",
       "      <td>0.063928</td>\n",
       "      <td>-0.258112</td>\n",
       "      <td>...</td>\n",
       "      <td>0.008404</td>\n",
       "      <td>0.242048</td>\n",
       "      <td>0.197927</td>\n",
       "      <td>0.311147</td>\n",
       "      <td>0.443438</td>\n",
       "      <td>-0.160421</td>\n",
       "      <td>-0.002733</td>\n",
       "      <td>-0.315380</td>\n",
       "      <td>0.280253</td>\n",
       "      <td>0.268692</td>\n",
       "    </tr>\n",
       "    <tr>\n",
       "      <th>1</th>\n",
       "      <td>-0.736669</td>\n",
       "      <td>-1.524519</td>\n",
       "      <td>-1.098698</td>\n",
       "      <td>-3.131466</td>\n",
       "      <td>2.484171</td>\n",
       "      <td>3.115051</td>\n",
       "      <td>-0.079241</td>\n",
       "      <td>0.804148</td>\n",
       "      <td>0.682266</td>\n",
       "      <td>0.888869</td>\n",
       "      <td>...</td>\n",
       "      <td>-0.482659</td>\n",
       "      <td>0.856920</td>\n",
       "      <td>-1.239273</td>\n",
       "      <td>-0.443394</td>\n",
       "      <td>0.384645</td>\n",
       "      <td>-0.750165</td>\n",
       "      <td>1.068304</td>\n",
       "      <td>-0.465006</td>\n",
       "      <td>0.402008</td>\n",
       "      <td>-0.445699</td>\n",
       "    </tr>\n",
       "    <tr>\n",
       "      <th>2</th>\n",
       "      <td>3.263546</td>\n",
       "      <td>0.695747</td>\n",
       "      <td>-4.066238</td>\n",
       "      <td>-0.605572</td>\n",
       "      <td>2.310344</td>\n",
       "      <td>0.741287</td>\n",
       "      <td>-0.396169</td>\n",
       "      <td>0.550276</td>\n",
       "      <td>1.935030</td>\n",
       "      <td>-0.269789</td>\n",
       "      <td>...</td>\n",
       "      <td>0.574619</td>\n",
       "      <td>0.646471</td>\n",
       "      <td>-2.001673</td>\n",
       "      <td>0.527332</td>\n",
       "      <td>0.040111</td>\n",
       "      <td>-0.574206</td>\n",
       "      <td>0.439761</td>\n",
       "      <td>-0.590389</td>\n",
       "      <td>0.420677</td>\n",
       "      <td>-0.424078</td>\n",
       "    </tr>\n",
       "    <tr>\n",
       "      <th>3</th>\n",
       "      <td>NaN</td>\n",
       "      <td>NaN</td>\n",
       "      <td>NaN</td>\n",
       "      <td>NaN</td>\n",
       "      <td>NaN</td>\n",
       "      <td>NaN</td>\n",
       "      <td>NaN</td>\n",
       "      <td>NaN</td>\n",
       "      <td>NaN</td>\n",
       "      <td>NaN</td>\n",
       "      <td>...</td>\n",
       "      <td>NaN</td>\n",
       "      <td>NaN</td>\n",
       "      <td>NaN</td>\n",
       "      <td>NaN</td>\n",
       "      <td>NaN</td>\n",
       "      <td>NaN</td>\n",
       "      <td>NaN</td>\n",
       "      <td>NaN</td>\n",
       "      <td>NaN</td>\n",
       "      <td>NaN</td>\n",
       "    </tr>\n",
       "    <tr>\n",
       "      <th>4</th>\n",
       "      <td>4.290764</td>\n",
       "      <td>0.394164</td>\n",
       "      <td>-3.439304</td>\n",
       "      <td>0.208660</td>\n",
       "      <td>0.913799</td>\n",
       "      <td>-1.809103</td>\n",
       "      <td>0.408101</td>\n",
       "      <td>1.676609</td>\n",
       "      <td>-1.180150</td>\n",
       "      <td>-1.800130</td>\n",
       "      <td>...</td>\n",
       "      <td>0.147976</td>\n",
       "      <td>0.144119</td>\n",
       "      <td>0.607445</td>\n",
       "      <td>0.643557</td>\n",
       "      <td>0.455702</td>\n",
       "      <td>-0.009944</td>\n",
       "      <td>1.217019</td>\n",
       "      <td>1.027428</td>\n",
       "      <td>0.424273</td>\n",
       "      <td>0.539168</td>\n",
       "    </tr>\n",
       "  </tbody>\n",
       "</table>\n",
       "<p>5 rows × 27 columns</p>\n",
       "</div>"
      ],
      "text/plain": [
       "        PC1       PC2       PC3       PC4       PC5       PC6       PC7  \\\n",
       "0  4.244428 -0.863238  2.040395  0.903165 -0.052635  0.917461  0.402200   \n",
       "1 -0.736669 -1.524519 -1.098698 -3.131466  2.484171  3.115051 -0.079241   \n",
       "2  3.263546  0.695747 -4.066238 -0.605572  2.310344  0.741287 -0.396169   \n",
       "3       NaN       NaN       NaN       NaN       NaN       NaN       NaN   \n",
       "4  4.290764  0.394164 -3.439304  0.208660  0.913799 -1.809103  0.408101   \n",
       "\n",
       "        PC8       PC9      PC10  ...      PC18      PC19      PC20      PC21  \\\n",
       "0 -1.970635  0.063928 -0.258112  ...  0.008404  0.242048  0.197927  0.311147   \n",
       "1  0.804148  0.682266  0.888869  ... -0.482659  0.856920 -1.239273 -0.443394   \n",
       "2  0.550276  1.935030 -0.269789  ...  0.574619  0.646471 -2.001673  0.527332   \n",
       "3       NaN       NaN       NaN  ...       NaN       NaN       NaN       NaN   \n",
       "4  1.676609 -1.180150 -1.800130  ...  0.147976  0.144119  0.607445  0.643557   \n",
       "\n",
       "       PC22      PC23      PC24      PC25      PC26      PC27  \n",
       "0  0.443438 -0.160421 -0.002733 -0.315380  0.280253  0.268692  \n",
       "1  0.384645 -0.750165  1.068304 -0.465006  0.402008 -0.445699  \n",
       "2  0.040111 -0.574206  0.439761 -0.590389  0.420677 -0.424078  \n",
       "3       NaN       NaN       NaN       NaN       NaN       NaN  \n",
       "4  0.455702 -0.009944  1.217019  1.027428  0.424273  0.539168  \n",
       "\n",
       "[5 rows x 27 columns]"
      ]
     },
     "execution_count": 25,
     "metadata": {},
     "output_type": "execute_result"
    }
   ],
   "source": [
    "### on a side note: missing coordinates (from cells of gates above in the hierarchy) are NaN\n",
    "### the plotting functionality will internally subset the dataset for the corresponding gate and the NaNs will therefore automatically removed.\n",
    "df = pd.DataFrame(data = dataset.obsm[\"X_pca_CD45+_transformed\"],\n",
    "                  columns = [f\"PC{i}\" for i in range(1, dataset.obsm[\"X_pca_CD45+_transformed\"].shape[1] + 1)])\n",
    "df.head()"
   ]
  },
  {
   "cell_type": "code",
   "execution_count": 26,
   "id": "105abc0b",
   "metadata": {
    "execution": {
     "iopub.execute_input": "2023-12-02T22:24:07.499009Z",
     "iopub.status.busy": "2023-12-02T22:24:07.499009Z",
     "iopub.status.idle": "2023-12-02T22:24:07.515700Z",
     "shell.execute_reply": "2023-12-02T22:24:07.514657Z"
    },
    "papermill": {
     "duration": 0.03243,
     "end_time": "2023-12-02T22:24:07.516388",
     "exception": false,
     "start_time": "2023-12-02T22:24:07.483958",
     "status": "completed"
    },
    "tags": []
   },
   "outputs": [],
   "source": [
    "### often times, we want to analyze one particular population extensively\n",
    "### in order to not have to set the gate and layer for each function, we can apply these settings globally\n",
    "\n",
    "fp.settings.default_layer = \"transformed\"\n",
    "fp.settings.default_gate = \"PBMC\""
   ]
  },
  {
   "cell_type": "code",
   "execution_count": 27,
   "id": "c16ecf3f",
   "metadata": {
    "execution": {
     "iopub.execute_input": "2023-12-02T22:24:07.531096Z",
     "iopub.status.busy": "2023-12-02T22:24:07.531096Z",
     "iopub.status.idle": "2023-12-02T22:24:15.348315Z",
     "shell.execute_reply": "2023-12-02T22:24:15.348315Z"
    },
    "papermill": {
     "duration": 7.831927,
     "end_time": "2023-12-02T22:24:15.348315",
     "exception": false,
     "start_time": "2023-12-02T22:24:07.516388",
     "status": "completed"
    },
    "tags": []
   },
   "outputs": [
    {
     "data": {
      "text/plain": [
       "AnnData object with n_obs × n_vars = 2367839 × 36\n",
       "    obs: 'sample_ID', 'file_name', 'group_fd', 'internal_id', 'organ', 'staining', 'diag_main', 'diag_fine', 'donor_id', 'material', 'batch'\n",
       "    var: 'pns', 'png', 'pne', 'type', 'pnn', 'cofactors'\n",
       "    uns: 'metadata', 'panel', 'workspace', 'gating_cols', 'dataset_status_hash', 'cofactors', 'raw_cofactors', 'cofactor_table', 'mfi_sample_ID_compensated', 'settings', 'fop_sample_ID_compensated', 'pca_CD45+_transformed', 'organ_colors', 'pca_PBMC_transformed'\n",
       "    obsm: 'gating', 'X_pca_CD45+_transformed', 'X_pca_PBMC_transformed'\n",
       "    varm: 'pca_CD45+_transformed', 'pca_PBMC_transformed'\n",
       "    layers: 'compensated', 'transformed'"
      ]
     },
     "execution_count": 27,
     "metadata": {},
     "output_type": "execute_result"
    }
   ],
   "source": [
    "### that way, we can skip the layer argument for the functions\n",
    "### here, an entry is created called X_pca_PBMC_transformed\n",
    "fp.tl.pca(dataset)\n",
    "\n",
    "dataset"
   ]
  },
  {
   "cell_type": "code",
   "execution_count": 28,
   "id": "8fe0627c",
   "metadata": {
    "execution": {
     "iopub.execute_input": "2023-12-02T22:24:15.363926Z",
     "iopub.status.busy": "2023-12-02T22:24:15.363926Z",
     "iopub.status.idle": "2023-12-02T22:24:21.837400Z",
     "shell.execute_reply": "2023-12-02T22:24:21.837400Z"
    },
    "papermill": {
     "duration": 6.489085,
     "end_time": "2023-12-02T22:24:21.837400",
     "exception": false,
     "start_time": "2023-12-02T22:24:15.348315",
     "status": "completed"
    },
    "tags": []
   },
   "outputs": [
    {
     "name": "stderr",
     "output_type": "stream",
     "text": [
      "C:\\Users\\tarik\\anaconda3\\envs\\FACSPypeline\\lib\\site-packages\\scanpy\\plotting\\_tools\\scatterplots.py:1208: FutureWarning: is_categorical_dtype is deprecated and will be removed in a future version. Use isinstance(dtype, CategoricalDtype) instead\n",
      "  if not is_categorical_dtype(values):\n",
      "C:\\Users\\tarik\\anaconda3\\envs\\FACSPypeline\\lib\\site-packages\\scanpy\\plotting\\_tools\\scatterplots.py:1217: FutureWarning: The default value of 'ignore' for the `na_action` parameter in pandas.Categorical.map is deprecated and will be changed to 'None' in a future version. Please set na_action to the desired value to avoid seeing this warning\n",
      "  color_vector = pd.Categorical(values.map(color_map))\n"
     ]
    },
    {
     "name": "stderr",
     "output_type": "stream",
     "text": [
      "C:\\Users\\tarik\\anaconda3\\envs\\FACSPypeline\\lib\\site-packages\\scanpy\\plotting\\_tools\\scatterplots.py:392: UserWarning: No data for colormapping provided via 'c'. Parameters 'cmap' will be ignored\n",
      "  cax = scatter(\n"
     ]
    },
    {
     "data": {
      "image/png": "[encoded data removed]",
      "text/plain": [
       "<Figure size 300x300 with 1 Axes>"
      ]
     },
     "metadata": {},
     "output_type": "display_data"
    }
   ],
   "source": [
    "### also, the corresponding plot does not need gate and layer information\n",
    "fp.pl.pca(dataset,\n",
    "          color = \"organ\")"
   ]
  }
 ],
 "metadata": {
  "kernelspec": {
   "display_name": "Python 3 (ipykernel)",
   "language": "python",
   "name": "python3"
  },
  "language_info": {
   "codemirror_mode": {
    "name": "ipython",
    "version": 3
   },
   "file_extension": ".py",
   "mimetype": "text/x-python",
   "name": "python",
   "nbconvert_exporter": "python",
   "pygments_lexer": "ipython3",
   "version": "3.10.13"
  },
  "papermill": {
   "default_parameters": {},
   "duration": 75.509712,
   "end_time": "2023-12-02T22:24:23.273060",
   "environment_variables": {},
   "exception": null,
   "input_path": "C:\\Users\\tarik\\Python\\FACSPy\\vignettes\\FACSPy_dataset_vignette.ipynb",
   "output_path": "C:\\Users\\tarik\\Python\\FACSPy\\vignettes\\FACSPy_dataset_vignette.ipynb",
   "parameters": {},
   "start_time": "2023-12-02T22:23:07.763348",
   "version": "2.5.0"
  }
 },
 "nbformat": 4,
 "nbformat_minor": 5
}