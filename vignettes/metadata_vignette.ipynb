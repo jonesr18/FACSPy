{
 "cells": [
  {
   "cell_type": "markdown",
   "id": "bf123dca",
   "metadata": {},
   "source": [
    "# The Metadata object\n",
    "\n",
    "Metadata have to be provided as a table.\n",
    "\n",
    "There are two obligatory columns: 'sample_ID' and 'file_name'. It is highly recommended to add a column\n",
    "'staining' as well, since this information is required for the automated cofactor calculation.\n",
    "\n",
    "'sample_ID' can be filled with anything, as long as the entries are unique. We used ascending\n",
    "integers here.\n",
    "'file_name' has to be filled with the .fcs file names, including the data extension .fcs.\n",
    "Only the files specified here will be read.\n",
    "'staining' can be filled with either 'unstained' or 'stained'.\n",
    "\n",
    "Here, we read in example metadata as a normal dataframe via the `pandas` library:"
   ]
  },
  {
   "cell_type": "code",
   "execution_count": 1,
   "id": "59b65ad5",
   "metadata": {
    "execution": {
     "iopub.execute_input": "2024-02-05T13:20:32.135199Z",
     "iopub.status.busy": "2024-02-05T13:20:32.135199Z",
     "iopub.status.idle": "2024-02-05T13:20:32.158476Z",
     "shell.execute_reply": "2024-02-05T13:20:32.158476Z"
    },
    "papermill": {
     "duration": 0.023277,
     "end_time": "2024-02-05T13:20:32.158476",
     "exception": false,
     "start_time": "2024-02-05T13:20:32.135199",
     "status": "completed"
    },
    "tags": []
   },
   "outputs": [
    {
     "data": {
      "text/html": [
       "<div>\n",
       "<style scoped>\n",
       "    .dataframe tbody tr th:only-of-type {\n",
       "        vertical-align: middle;\n",
       "    }\n",
       "\n",
       "    .dataframe tbody tr th {\n",
       "        vertical-align: top;\n",
       "    }\n",
       "\n",
       "    .dataframe thead th {\n",
       "        text-align: right;\n",
       "    }\n",
       "</style>\n",
       "<table border=\"1\" class=\"dataframe\">\n",
       "  <thead>\n",
       "    <tr style=\"text-align: right;\">\n",
       "      <th></th>\n",
       "      <th>sample_ID</th>\n",
       "      <th>file_name</th>\n",
       "      <th>group_fd</th>\n",
       "      <th>internal_id</th>\n",
       "      <th>organ</th>\n",
       "      <th>staining</th>\n",
       "      <th>diag_main</th>\n",
       "      <th>diag_fine</th>\n",
       "      <th>donor_id</th>\n",
       "      <th>material</th>\n",
       "      <th>batch</th>\n",
       "    </tr>\n",
       "  </thead>\n",
       "  <tbody>\n",
       "    <tr>\n",
       "      <th>0</th>\n",
       "      <td>1</td>\n",
       "      <td>3742.fcs</td>\n",
       "      <td>healthy</td>\n",
       "      <td>3742</td>\n",
       "      <td>PB</td>\n",
       "      <td>stained</td>\n",
       "      <td>healthy</td>\n",
       "      <td>healthy</td>\n",
       "      <td>3742</td>\n",
       "      <td>PBMC</td>\n",
       "      <td>1</td>\n",
       "    </tr>\n",
       "    <tr>\n",
       "      <th>1</th>\n",
       "      <td>2</td>\n",
       "      <td>4337.fcs</td>\n",
       "      <td>healthy</td>\n",
       "      <td>4337</td>\n",
       "      <td>PB</td>\n",
       "      <td>stained</td>\n",
       "      <td>healthy</td>\n",
       "      <td>healthy</td>\n",
       "      <td>4337</td>\n",
       "      <td>PBMC</td>\n",
       "      <td>1</td>\n",
       "    </tr>\n",
       "    <tr>\n",
       "      <th>2</th>\n",
       "      <td>3</td>\n",
       "      <td>4449.fcs</td>\n",
       "      <td>healthy</td>\n",
       "      <td>4449</td>\n",
       "      <td>PB</td>\n",
       "      <td>stained</td>\n",
       "      <td>healthy</td>\n",
       "      <td>healthy</td>\n",
       "      <td>4449</td>\n",
       "      <td>PBMC</td>\n",
       "      <td>2</td>\n",
       "    </tr>\n",
       "    <tr>\n",
       "      <th>3</th>\n",
       "      <td>4</td>\n",
       "      <td>5143.fcs</td>\n",
       "      <td>healthy</td>\n",
       "      <td>5143</td>\n",
       "      <td>PB</td>\n",
       "      <td>stained</td>\n",
       "      <td>healthy</td>\n",
       "      <td>healthy</td>\n",
       "      <td>5143</td>\n",
       "      <td>PBMC</td>\n",
       "      <td>2</td>\n",
       "    </tr>\n",
       "    <tr>\n",
       "      <th>4</th>\n",
       "      <td>5</td>\n",
       "      <td>6042.fcs</td>\n",
       "      <td>healthy</td>\n",
       "      <td>6042</td>\n",
       "      <td>PB</td>\n",
       "      <td>stained</td>\n",
       "      <td>healthy</td>\n",
       "      <td>healthy</td>\n",
       "      <td>6042</td>\n",
       "      <td>PBMC</td>\n",
       "      <td>1</td>\n",
       "    </tr>\n",
       "  </tbody>\n",
       "</table>\n",
       "</div>"
      ],
      "text/plain": [
       "   sample_ID file_name group_fd internal_id organ staining diag_main  \\\n",
       "0          1  3742.fcs  healthy        3742    PB  stained   healthy   \n",
       "1          2  4337.fcs  healthy        4337    PB  stained   healthy   \n",
       "2          3  4449.fcs  healthy        4449    PB  stained   healthy   \n",
       "3          4  5143.fcs  healthy        5143    PB  stained   healthy   \n",
       "4          5  6042.fcs  healthy        6042    PB  stained   healthy   \n",
       "\n",
       "  diag_fine donor_id material  batch  \n",
       "0   healthy     3742     PBMC      1  \n",
       "1   healthy     4337     PBMC      1  \n",
       "2   healthy     4449     PBMC      2  \n",
       "3   healthy     5143     PBMC      2  \n",
       "4   healthy     6042     PBMC      1  "
      ]
     },
     "execution_count": 1,
     "metadata": {},
     "output_type": "execute_result"
    }
   ],
   "source": [
    "import pandas as pd\n",
    "\n",
    "user_metadata = pd.read_csv(\"../Tutorials/spectral_dataset/metadata.csv\", sep = \";\")\n",
    "user_metadata.head()"
   ]
  },
  {
   "cell_type": "markdown",
   "id": "774044d4",
   "metadata": {},
   "source": [
    "## Create metadata from a pandas dataframe\n",
    "\n",
    "In order to create a FACSPy-readable Metadata object, we use the `fp.dt.Metadata` class where 'fp' is the alias for FACSPy and 'dt' stands for dataset.\n",
    "\n",
    "In this scenario, we use the metadata table that we read via the pandas library from above. We pass the table via\n",
    "the `metadata` parameter. \n",
    "\n",
    "A `Metadata` object is created with 36 entries. 'factors' refer to the column names specifying the individual parameters."
   ]
  },
  {
   "cell_type": "code",
   "execution_count": 2,
   "id": "ad96adc4",
   "metadata": {},
   "outputs": [],
   "source": [
    "import FACSPy as fp"
   ]
  },
  {
   "cell_type": "code",
   "execution_count": 3,
   "id": "f567c69a",
   "metadata": {
    "execution": {
     "iopub.execute_input": "2024-02-05T13:20:32.158476Z",
     "iopub.status.busy": "2024-02-05T13:20:32.158476Z",
     "iopub.status.idle": "2024-02-05T13:20:32.174106Z",
     "shell.execute_reply": "2024-02-05T13:20:32.174106Z"
    },
    "papermill": {
     "duration": 0.01563,
     "end_time": "2024-02-05T13:20:32.174106",
     "exception": false,
     "start_time": "2024-02-05T13:20:32.158476",
     "status": "completed"
    },
    "tags": []
   },
   "outputs": [
    {
     "data": {
      "text/plain": [
       "Metadata(36 entries with factors ['group_fd', 'internal_id', 'organ', 'diag_main', 'diag_fine', 'donor_id', 'material', 'batch'])"
      ]
     },
     "execution_count": 3,
     "metadata": {},
     "output_type": "execute_result"
    }
   ],
   "source": [
    "metadata = fp.dt.Metadata(metadata = user_metadata)\n",
    "metadata"
   ]
  },
  {
   "cell_type": "markdown",
   "id": "6b6a492e",
   "metadata": {},
   "source": [
    "## Create metadata from a .csv file\n",
    "\n",
    "\n",
    "We can also read the metadata table directly from the hard drive. In order to do that, we pass the path to the `fp.dt.Metadata` class. Any file format that can be accessed by `pd.read_csv()` can be used."
   ]
  },
  {
   "cell_type": "code",
   "execution_count": 4,
   "id": "f1af4360",
   "metadata": {
    "execution": {
     "iopub.execute_input": "2024-02-05T13:20:32.206878Z",
     "iopub.status.busy": "2024-02-05T13:20:32.206878Z",
     "iopub.status.idle": "2024-02-05T13:20:32.221903Z",
     "shell.execute_reply": "2024-02-05T13:20:32.221903Z"
    },
    "papermill": {
     "duration": 0.015025,
     "end_time": "2024-02-05T13:20:32.221903",
     "exception": false,
     "start_time": "2024-02-05T13:20:32.206878",
     "status": "completed"
    },
    "tags": []
   },
   "outputs": [
    {
     "data": {
      "text/plain": [
       "Metadata(36 entries with factors ['group_fd', 'internal_id', 'organ', 'diag_main', 'diag_fine', 'donor_id', 'material', 'batch'])"
      ]
     },
     "execution_count": 4,
     "metadata": {},
     "output_type": "execute_result"
    }
   ],
   "source": [
    "metadata = fp.dt.Metadata(file = \"../Tutorials/spectral_dataset/metadata.csv\")\n",
    "metadata"
   ]
  },
  {
   "cell_type": "markdown",
   "id": "27e6c414",
   "metadata": {},
   "source": [
    "## Access the metadata table\n",
    "\n",
    "The underlying table is stored in the `.dataframe` attribute and can be accessed and modified.\n",
    "\n",
    "Use the method `.to_df()` to return the underlying table or directly access the table via `.dataframe` as shown here."
   ]
  },
  {
   "cell_type": "code",
   "execution_count": 5,
   "id": "ed63f3a9",
   "metadata": {
    "execution": {
     "iopub.execute_input": "2024-02-05T13:20:32.244415Z",
     "iopub.status.busy": "2024-02-05T13:20:32.244415Z",
     "iopub.status.idle": "2024-02-05T13:20:32.253375Z",
     "shell.execute_reply": "2024-02-05T13:20:32.253375Z"
    },
    "papermill": {
     "duration": 0.016796,
     "end_time": "2024-02-05T13:20:32.254353",
     "exception": false,
     "start_time": "2024-02-05T13:20:32.237557",
     "status": "completed"
    },
    "tags": []
   },
   "outputs": [
    {
     "data": {
      "text/html": [
       "<div>\n",
       "<style scoped>\n",
       "    .dataframe tbody tr th:only-of-type {\n",
       "        vertical-align: middle;\n",
       "    }\n",
       "\n",
       "    .dataframe tbody tr th {\n",
       "        vertical-align: top;\n",
       "    }\n",
       "\n",
       "    .dataframe thead th {\n",
       "        text-align: right;\n",
       "    }\n",
       "</style>\n",
       "<table border=\"1\" class=\"dataframe\">\n",
       "  <thead>\n",
       "    <tr style=\"text-align: right;\">\n",
       "      <th></th>\n",
       "      <th>sample_ID</th>\n",
       "      <th>file_name</th>\n",
       "      <th>group_fd</th>\n",
       "      <th>internal_id</th>\n",
       "      <th>organ</th>\n",
       "      <th>staining</th>\n",
       "      <th>diag_main</th>\n",
       "      <th>diag_fine</th>\n",
       "      <th>donor_id</th>\n",
       "      <th>material</th>\n",
       "      <th>batch</th>\n",
       "    </tr>\n",
       "  </thead>\n",
       "  <tbody>\n",
       "    <tr>\n",
       "      <th>0</th>\n",
       "      <td>1</td>\n",
       "      <td>3742.fcs</td>\n",
       "      <td>healthy</td>\n",
       "      <td>3742</td>\n",
       "      <td>PB</td>\n",
       "      <td>stained</td>\n",
       "      <td>healthy</td>\n",
       "      <td>healthy</td>\n",
       "      <td>3742</td>\n",
       "      <td>PBMC</td>\n",
       "      <td>1</td>\n",
       "    </tr>\n",
       "    <tr>\n",
       "      <th>1</th>\n",
       "      <td>2</td>\n",
       "      <td>4337.fcs</td>\n",
       "      <td>healthy</td>\n",
       "      <td>4337</td>\n",
       "      <td>PB</td>\n",
       "      <td>stained</td>\n",
       "      <td>healthy</td>\n",
       "      <td>healthy</td>\n",
       "      <td>4337</td>\n",
       "      <td>PBMC</td>\n",
       "      <td>1</td>\n",
       "    </tr>\n",
       "    <tr>\n",
       "      <th>2</th>\n",
       "      <td>3</td>\n",
       "      <td>4449.fcs</td>\n",
       "      <td>healthy</td>\n",
       "      <td>4449</td>\n",
       "      <td>PB</td>\n",
       "      <td>stained</td>\n",
       "      <td>healthy</td>\n",
       "      <td>healthy</td>\n",
       "      <td>4449</td>\n",
       "      <td>PBMC</td>\n",
       "      <td>2</td>\n",
       "    </tr>\n",
       "    <tr>\n",
       "      <th>3</th>\n",
       "      <td>4</td>\n",
       "      <td>5143.fcs</td>\n",
       "      <td>healthy</td>\n",
       "      <td>5143</td>\n",
       "      <td>PB</td>\n",
       "      <td>stained</td>\n",
       "      <td>healthy</td>\n",
       "      <td>healthy</td>\n",
       "      <td>5143</td>\n",
       "      <td>PBMC</td>\n",
       "      <td>2</td>\n",
       "    </tr>\n",
       "    <tr>\n",
       "      <th>4</th>\n",
       "      <td>5</td>\n",
       "      <td>6042.fcs</td>\n",
       "      <td>healthy</td>\n",
       "      <td>6042</td>\n",
       "      <td>PB</td>\n",
       "      <td>stained</td>\n",
       "      <td>healthy</td>\n",
       "      <td>healthy</td>\n",
       "      <td>6042</td>\n",
       "      <td>PBMC</td>\n",
       "      <td>1</td>\n",
       "    </tr>\n",
       "  </tbody>\n",
       "</table>\n",
       "</div>"
      ],
      "text/plain": [
       "  sample_ID file_name group_fd internal_id organ staining diag_main diag_fine  \\\n",
       "0         1  3742.fcs  healthy        3742    PB  stained   healthy   healthy   \n",
       "1         2  4337.fcs  healthy        4337    PB  stained   healthy   healthy   \n",
       "2         3  4449.fcs  healthy        4449    PB  stained   healthy   healthy   \n",
       "3         4  5143.fcs  healthy        5143    PB  stained   healthy   healthy   \n",
       "4         5  6042.fcs  healthy        6042    PB  stained   healthy   healthy   \n",
       "\n",
       "  donor_id material batch  \n",
       "0     3742     PBMC     1  \n",
       "1     4337     PBMC     1  \n",
       "2     4449     PBMC     2  \n",
       "3     5143     PBMC     2  \n",
       "4     6042     PBMC     1  "
      ]
     },
     "execution_count": 5,
     "metadata": {},
     "output_type": "execute_result"
    }
   ],
   "source": [
    "df = metadata.dataframe\n",
    "df.head()"
   ]
  },
  {
   "cell_type": "code",
   "execution_count": 6,
   "id": "001d758a",
   "metadata": {
    "execution": {
     "iopub.execute_input": "2024-02-05T13:20:32.255994Z",
     "iopub.status.busy": "2024-02-05T13:20:32.255994Z",
     "iopub.status.idle": "2024-02-05T13:20:32.271503Z",
     "shell.execute_reply": "2024-02-05T13:20:32.271503Z"
    },
    "papermill": {
     "duration": 0.015509,
     "end_time": "2024-02-05T13:20:32.271503",
     "exception": false,
     "start_time": "2024-02-05T13:20:32.255994",
     "status": "completed"
    },
    "tags": []
   },
   "outputs": [
    {
     "data": {
      "text/html": [
       "<div>\n",
       "<style scoped>\n",
       "    .dataframe tbody tr th:only-of-type {\n",
       "        vertical-align: middle;\n",
       "    }\n",
       "\n",
       "    .dataframe tbody tr th {\n",
       "        vertical-align: top;\n",
       "    }\n",
       "\n",
       "    .dataframe thead th {\n",
       "        text-align: right;\n",
       "    }\n",
       "</style>\n",
       "<table border=\"1\" class=\"dataframe\">\n",
       "  <thead>\n",
       "    <tr style=\"text-align: right;\">\n",
       "      <th></th>\n",
       "      <th>sample_ID</th>\n",
       "      <th>file_name</th>\n",
       "      <th>group_fd</th>\n",
       "      <th>internal_id</th>\n",
       "      <th>organ</th>\n",
       "      <th>staining</th>\n",
       "      <th>diag_main</th>\n",
       "      <th>diag_fine</th>\n",
       "      <th>donor_id</th>\n",
       "      <th>material</th>\n",
       "      <th>batch</th>\n",
       "    </tr>\n",
       "  </thead>\n",
       "  <tbody>\n",
       "    <tr>\n",
       "      <th>0</th>\n",
       "      <td>1</td>\n",
       "      <td>3742.fcs</td>\n",
       "      <td>healthy</td>\n",
       "      <td>3742</td>\n",
       "      <td>PB</td>\n",
       "      <td>stained</td>\n",
       "      <td>healthy</td>\n",
       "      <td>healthy</td>\n",
       "      <td>3742</td>\n",
       "      <td>PBMC</td>\n",
       "      <td>1</td>\n",
       "    </tr>\n",
       "    <tr>\n",
       "      <th>1</th>\n",
       "      <td>2</td>\n",
       "      <td>4337.fcs</td>\n",
       "      <td>healthy</td>\n",
       "      <td>4337</td>\n",
       "      <td>PB</td>\n",
       "      <td>stained</td>\n",
       "      <td>healthy</td>\n",
       "      <td>healthy</td>\n",
       "      <td>4337</td>\n",
       "      <td>PBMC</td>\n",
       "      <td>1</td>\n",
       "    </tr>\n",
       "    <tr>\n",
       "      <th>2</th>\n",
       "      <td>3</td>\n",
       "      <td>4449.fcs</td>\n",
       "      <td>healthy</td>\n",
       "      <td>4449</td>\n",
       "      <td>PB</td>\n",
       "      <td>stained</td>\n",
       "      <td>healthy</td>\n",
       "      <td>healthy</td>\n",
       "      <td>4449</td>\n",
       "      <td>PBMC</td>\n",
       "      <td>2</td>\n",
       "    </tr>\n",
       "    <tr>\n",
       "      <th>3</th>\n",
       "      <td>4</td>\n",
       "      <td>5143.fcs</td>\n",
       "      <td>healthy</td>\n",
       "      <td>5143</td>\n",
       "      <td>PB</td>\n",
       "      <td>stained</td>\n",
       "      <td>healthy</td>\n",
       "      <td>healthy</td>\n",
       "      <td>5143</td>\n",
       "      <td>PBMC</td>\n",
       "      <td>2</td>\n",
       "    </tr>\n",
       "    <tr>\n",
       "      <th>4</th>\n",
       "      <td>5</td>\n",
       "      <td>6042.fcs</td>\n",
       "      <td>healthy</td>\n",
       "      <td>6042</td>\n",
       "      <td>PB</td>\n",
       "      <td>stained</td>\n",
       "      <td>healthy</td>\n",
       "      <td>healthy</td>\n",
       "      <td>6042</td>\n",
       "      <td>PBMC</td>\n",
       "      <td>1</td>\n",
       "    </tr>\n",
       "  </tbody>\n",
       "</table>\n",
       "</div>"
      ],
      "text/plain": [
       "  sample_ID file_name group_fd internal_id organ staining diag_main diag_fine  \\\n",
       "0         1  3742.fcs  healthy        3742    PB  stained   healthy   healthy   \n",
       "1         2  4337.fcs  healthy        4337    PB  stained   healthy   healthy   \n",
       "2         3  4449.fcs  healthy        4449    PB  stained   healthy   healthy   \n",
       "3         4  5143.fcs  healthy        5143    PB  stained   healthy   healthy   \n",
       "4         5  6042.fcs  healthy        6042    PB  stained   healthy   healthy   \n",
       "\n",
       "  donor_id material batch  \n",
       "0     3742     PBMC     1  \n",
       "1     4337     PBMC     1  \n",
       "2     4449     PBMC     2  \n",
       "3     5143     PBMC     2  \n",
       "4     6042     PBMC     1  "
      ]
     },
     "execution_count": 6,
     "metadata": {},
     "output_type": "execute_result"
    }
   ],
   "source": [
    "df = metadata.to_df()\n",
    "df.head()"
   ]
  },
  {
   "cell_type": "markdown",
   "id": "b322cc47",
   "metadata": {},
   "source": [
    "## Access metadata factors\n",
    "\n",
    "In order to access the parameters that the user has specified in the metadata, use the `.get_factors()` method."
   ]
  },
  {
   "cell_type": "code",
   "execution_count": 7,
   "id": "654f921d",
   "metadata": {
    "execution": {
     "iopub.execute_input": "2024-02-05T13:20:32.271503Z",
     "iopub.status.busy": "2024-02-05T13:20:32.271503Z",
     "iopub.status.idle": "2024-02-05T13:20:32.287141Z",
     "shell.execute_reply": "2024-02-05T13:20:32.287141Z"
    },
    "papermill": {
     "duration": 0.015638,
     "end_time": "2024-02-05T13:20:32.287141",
     "exception": false,
     "start_time": "2024-02-05T13:20:32.271503",
     "status": "completed"
    },
    "tags": []
   },
   "outputs": [
    {
     "data": {
      "text/plain": [
       "['group_fd',\n",
       " 'internal_id',\n",
       " 'organ',\n",
       " 'diag_main',\n",
       " 'diag_fine',\n",
       " 'donor_id',\n",
       " 'material',\n",
       " 'batch']"
      ]
     },
     "execution_count": 7,
     "metadata": {},
     "output_type": "execute_result"
    }
   ],
   "source": [
    "metadata.get_factors()"
   ]
  },
  {
   "cell_type": "markdown",
   "id": "24f1ab32",
   "metadata": {},
   "source": [
    "## Rename columns\n",
    "\n",
    "Metadata table columns can be renamed by the `.rename()` method. It expects two arguments: the current column name and the new column name. Note that the change happens inplace."
   ]
  },
  {
   "cell_type": "code",
   "execution_count": 8,
   "id": "6ba57dcd",
   "metadata": {
    "execution": {
     "iopub.execute_input": "2024-02-05T13:20:32.294925Z",
     "iopub.status.busy": "2024-02-05T13:20:32.293926Z",
     "iopub.status.idle": "2024-02-05T13:20:32.302821Z",
     "shell.execute_reply": "2024-02-05T13:20:32.302821Z"
    },
    "papermill": {
     "duration": 0.016735,
     "end_time": "2024-02-05T13:20:32.303876",
     "exception": false,
     "start_time": "2024-02-05T13:20:32.287141",
     "status": "completed"
    },
    "tags": []
   },
   "outputs": [
    {
     "data": {
      "text/plain": [
       "Index(['sample_ID', 'file_name', 'group_fd', 'internal_id', 'organ',\n",
       "       'staining', 'diag_main', 'diag_fine', 'donor_id', 'material',\n",
       "       'newly_named_batch'],\n",
       "      dtype='object')"
      ]
     },
     "execution_count": 8,
     "metadata": {},
     "output_type": "execute_result"
    }
   ],
   "source": [
    "metadata.rename_column(current_name = \"batch\", new_name = \"newly_named_batch\")\n",
    "metadata.dataframe.columns"
   ]
  },
  {
   "cell_type": "markdown",
   "id": "c1e72d3b",
   "metadata": {},
   "source": [
    "## Subset metadata\n",
    "\n",
    "In order to subset the metadata, the `.subset()` method can be used. The function expects the current column and a list of entries in that column."
   ]
  },
  {
   "cell_type": "code",
   "execution_count": 9,
   "id": "54746ef7",
   "metadata": {
    "execution": {
     "iopub.execute_input": "2024-02-05T13:20:32.303876Z",
     "iopub.status.busy": "2024-02-05T13:20:32.303876Z",
     "iopub.status.idle": "2024-02-05T13:20:32.319499Z",
     "shell.execute_reply": "2024-02-05T13:20:32.319499Z"
    },
    "papermill": {
     "duration": 0.015623,
     "end_time": "2024-02-05T13:20:32.319499",
     "exception": false,
     "start_time": "2024-02-05T13:20:32.303876",
     "status": "completed"
    },
    "tags": []
   },
   "outputs": [
    {
     "data": {
      "text/html": [
       "<div>\n",
       "<style scoped>\n",
       "    .dataframe tbody tr th:only-of-type {\n",
       "        vertical-align: middle;\n",
       "    }\n",
       "\n",
       "    .dataframe tbody tr th {\n",
       "        vertical-align: top;\n",
       "    }\n",
       "\n",
       "    .dataframe thead th {\n",
       "        text-align: right;\n",
       "    }\n",
       "</style>\n",
       "<table border=\"1\" class=\"dataframe\">\n",
       "  <thead>\n",
       "    <tr style=\"text-align: right;\">\n",
       "      <th></th>\n",
       "      <th>sample_ID</th>\n",
       "      <th>file_name</th>\n",
       "      <th>group_fd</th>\n",
       "      <th>internal_id</th>\n",
       "      <th>organ</th>\n",
       "      <th>staining</th>\n",
       "      <th>diag_main</th>\n",
       "      <th>diag_fine</th>\n",
       "      <th>donor_id</th>\n",
       "      <th>material</th>\n",
       "      <th>newly_named_batch</th>\n",
       "    </tr>\n",
       "  </thead>\n",
       "  <tbody>\n",
       "    <tr>\n",
       "      <th>0</th>\n",
       "      <td>1</td>\n",
       "      <td>3742.fcs</td>\n",
       "      <td>healthy</td>\n",
       "      <td>3742</td>\n",
       "      <td>PB</td>\n",
       "      <td>stained</td>\n",
       "      <td>healthy</td>\n",
       "      <td>healthy</td>\n",
       "      <td>3742</td>\n",
       "      <td>PBMC</td>\n",
       "      <td>1</td>\n",
       "    </tr>\n",
       "    <tr>\n",
       "      <th>1</th>\n",
       "      <td>2</td>\n",
       "      <td>4337.fcs</td>\n",
       "      <td>healthy</td>\n",
       "      <td>4337</td>\n",
       "      <td>PB</td>\n",
       "      <td>stained</td>\n",
       "      <td>healthy</td>\n",
       "      <td>healthy</td>\n",
       "      <td>4337</td>\n",
       "      <td>PBMC</td>\n",
       "      <td>1</td>\n",
       "    </tr>\n",
       "  </tbody>\n",
       "</table>\n",
       "</div>"
      ],
      "text/plain": [
       "  sample_ID file_name group_fd internal_id organ staining diag_main diag_fine  \\\n",
       "0         1  3742.fcs  healthy        3742    PB  stained   healthy   healthy   \n",
       "1         2  4337.fcs  healthy        4337    PB  stained   healthy   healthy   \n",
       "\n",
       "  donor_id material newly_named_batch  \n",
       "0     3742     PBMC                 1  \n",
       "1     4337     PBMC                 1  "
      ]
     },
     "execution_count": 9,
     "metadata": {},
     "output_type": "execute_result"
    }
   ],
   "source": [
    "metadata.subset(column = \"file_name\", values = [\"3742.fcs\", \"4337.fcs\"])\n",
    "metadata.to_df()"
   ]
  },
  {
   "cell_type": "markdown",
   "id": "d0281aa3",
   "metadata": {},
   "source": [
    "## Add annotations to metadata\n",
    "\n",
    "In order to add a new annotation to the metadata, we can use the `.annotate()` method. Currently, the filenames or sample_IDs can be passed as a list or a singular value, the second argument specifies the column that is created and the third argument specifies the value that is added."
   ]
  },
  {
   "cell_type": "code",
   "execution_count": 10,
   "id": "341807ef",
   "metadata": {
    "execution": {
     "iopub.execute_input": "2024-02-05T13:20:32.324347Z",
     "iopub.status.busy": "2024-02-05T13:20:32.324347Z",
     "iopub.status.idle": "2024-02-05T13:20:32.335360Z",
     "shell.execute_reply": "2024-02-05T13:20:32.335360Z"
    },
    "papermill": {
     "duration": 0.012553,
     "end_time": "2024-02-05T13:20:32.335360",
     "exception": false,
     "start_time": "2024-02-05T13:20:32.322807",
     "status": "completed"
    },
    "tags": []
   },
   "outputs": [
    {
     "name": "stderr",
     "output_type": "stream",
     "text": [
      "C:\\Users\\tarik\\anaconda3\\envs\\FACSPypeline\\lib\\site-packages\\FACSPy\\dataset\\_supplements.py:353: FutureWarning: Setting an item of incompatible dtype is deprecated and will raise in a future error of pandas. Value 'new_val' has dtype incompatible with float64, please explicitly cast to a compatible dtype first.\n",
      "  self.dataframe.loc[self.dataframe[\"file_name\"].isin(file_names), column] = value\n"
     ]
    },
    {
     "data": {
      "text/html": [
       "<div>\n",
       "<style scoped>\n",
       "    .dataframe tbody tr th:only-of-type {\n",
       "        vertical-align: middle;\n",
       "    }\n",
       "\n",
       "    .dataframe tbody tr th {\n",
       "        vertical-align: top;\n",
       "    }\n",
       "\n",
       "    .dataframe thead th {\n",
       "        text-align: right;\n",
       "    }\n",
       "</style>\n",
       "<table border=\"1\" class=\"dataframe\">\n",
       "  <thead>\n",
       "    <tr style=\"text-align: right;\">\n",
       "      <th></th>\n",
       "      <th>sample_ID</th>\n",
       "      <th>file_name</th>\n",
       "      <th>group_fd</th>\n",
       "      <th>internal_id</th>\n",
       "      <th>organ</th>\n",
       "      <th>staining</th>\n",
       "      <th>diag_main</th>\n",
       "      <th>diag_fine</th>\n",
       "      <th>donor_id</th>\n",
       "      <th>material</th>\n",
       "      <th>newly_named_batch</th>\n",
       "      <th>new_col</th>\n",
       "    </tr>\n",
       "  </thead>\n",
       "  <tbody>\n",
       "    <tr>\n",
       "      <th>0</th>\n",
       "      <td>1</td>\n",
       "      <td>3742.fcs</td>\n",
       "      <td>healthy</td>\n",
       "      <td>3742</td>\n",
       "      <td>PB</td>\n",
       "      <td>stained</td>\n",
       "      <td>healthy</td>\n",
       "      <td>healthy</td>\n",
       "      <td>3742</td>\n",
       "      <td>PBMC</td>\n",
       "      <td>1</td>\n",
       "      <td>new_val</td>\n",
       "    </tr>\n",
       "    <tr>\n",
       "      <th>1</th>\n",
       "      <td>2</td>\n",
       "      <td>4337.fcs</td>\n",
       "      <td>healthy</td>\n",
       "      <td>4337</td>\n",
       "      <td>PB</td>\n",
       "      <td>stained</td>\n",
       "      <td>healthy</td>\n",
       "      <td>healthy</td>\n",
       "      <td>4337</td>\n",
       "      <td>PBMC</td>\n",
       "      <td>1</td>\n",
       "      <td>new_val</td>\n",
       "    </tr>\n",
       "  </tbody>\n",
       "</table>\n",
       "</div>"
      ],
      "text/plain": [
       "  sample_ID file_name group_fd internal_id organ staining diag_main diag_fine  \\\n",
       "0         1  3742.fcs  healthy        3742    PB  stained   healthy   healthy   \n",
       "1         2  4337.fcs  healthy        4337    PB  stained   healthy   healthy   \n",
       "\n",
       "  donor_id material newly_named_batch  new_col  \n",
       "0     3742     PBMC                 1  new_val  \n",
       "1     4337     PBMC                 1  new_val  "
      ]
     },
     "execution_count": 10,
     "metadata": {},
     "output_type": "execute_result"
    }
   ],
   "source": [
    "metadata.annotate(\n",
    "    file_names = [\"3742.fcs\", \"4337.fcs\"],\n",
    "    column = \"new_col\",\n",
    "    value = \"new_val\"\n",
    ")\n",
    "metadata.dataframe.head()"
   ]
  },
  {
   "cell_type": "markdown",
   "id": "7d897ac0",
   "metadata": {},
   "source": [
    "## Rename values\n",
    "\n",
    "Entries can be modified using the pandas notation, or via the convenience method `.rename_factors()`. In the next example, every entry gets renamed to 'renamed_val'."
   ]
  },
  {
   "cell_type": "code",
   "execution_count": 11,
   "id": "cc624f62",
   "metadata": {},
   "outputs": [
    {
     "data": {
      "text/html": [
       "<div>\n",
       "<style scoped>\n",
       "    .dataframe tbody tr th:only-of-type {\n",
       "        vertical-align: middle;\n",
       "    }\n",
       "\n",
       "    .dataframe tbody tr th {\n",
       "        vertical-align: top;\n",
       "    }\n",
       "\n",
       "    .dataframe thead th {\n",
       "        text-align: right;\n",
       "    }\n",
       "</style>\n",
       "<table border=\"1\" class=\"dataframe\">\n",
       "  <thead>\n",
       "    <tr style=\"text-align: right;\">\n",
       "      <th></th>\n",
       "      <th>sample_ID</th>\n",
       "      <th>file_name</th>\n",
       "      <th>group_fd</th>\n",
       "      <th>internal_id</th>\n",
       "      <th>organ</th>\n",
       "      <th>staining</th>\n",
       "      <th>diag_main</th>\n",
       "      <th>diag_fine</th>\n",
       "      <th>donor_id</th>\n",
       "      <th>material</th>\n",
       "      <th>newly_named_batch</th>\n",
       "      <th>new_col</th>\n",
       "    </tr>\n",
       "  </thead>\n",
       "  <tbody>\n",
       "    <tr>\n",
       "      <th>0</th>\n",
       "      <td>1</td>\n",
       "      <td>3742.fcs</td>\n",
       "      <td>healthy</td>\n",
       "      <td>3742</td>\n",
       "      <td>PB</td>\n",
       "      <td>stained</td>\n",
       "      <td>healthy</td>\n",
       "      <td>healthy</td>\n",
       "      <td>3742</td>\n",
       "      <td>PBMC</td>\n",
       "      <td>1</td>\n",
       "      <td>renamed_val</td>\n",
       "    </tr>\n",
       "    <tr>\n",
       "      <th>1</th>\n",
       "      <td>2</td>\n",
       "      <td>4337.fcs</td>\n",
       "      <td>healthy</td>\n",
       "      <td>4337</td>\n",
       "      <td>PB</td>\n",
       "      <td>stained</td>\n",
       "      <td>healthy</td>\n",
       "      <td>healthy</td>\n",
       "      <td>4337</td>\n",
       "      <td>PBMC</td>\n",
       "      <td>1</td>\n",
       "      <td>renamed_val</td>\n",
       "    </tr>\n",
       "  </tbody>\n",
       "</table>\n",
       "</div>"
      ],
      "text/plain": [
       "  sample_ID file_name group_fd internal_id organ staining diag_main diag_fine  \\\n",
       "0         1  3742.fcs  healthy        3742    PB  stained   healthy   healthy   \n",
       "1         2  4337.fcs  healthy        4337    PB  stained   healthy   healthy   \n",
       "\n",
       "  donor_id material newly_named_batch      new_col  \n",
       "0     3742     PBMC                 1  renamed_val  \n",
       "1     4337     PBMC                 1  renamed_val  "
      ]
     },
     "execution_count": 11,
     "metadata": {},
     "output_type": "execute_result"
    }
   ],
   "source": [
    "metadata.rename_values(\"new_col\", \"renamed_val\")\n",
    "metadata.dataframe.head()"
   ]
  },
  {
   "cell_type": "markdown",
   "id": "bcb96496",
   "metadata": {},
   "source": [
    "If we want to rename the entries one-by-one, we pass a list:"
   ]
  },
  {
   "cell_type": "code",
   "execution_count": 12,
   "id": "119ca8cb",
   "metadata": {},
   "outputs": [
    {
     "data": {
      "text/html": [
       "<div>\n",
       "<style scoped>\n",
       "    .dataframe tbody tr th:only-of-type {\n",
       "        vertical-align: middle;\n",
       "    }\n",
       "\n",
       "    .dataframe tbody tr th {\n",
       "        vertical-align: top;\n",
       "    }\n",
       "\n",
       "    .dataframe thead th {\n",
       "        text-align: right;\n",
       "    }\n",
       "</style>\n",
       "<table border=\"1\" class=\"dataframe\">\n",
       "  <thead>\n",
       "    <tr style=\"text-align: right;\">\n",
       "      <th></th>\n",
       "      <th>sample_ID</th>\n",
       "      <th>file_name</th>\n",
       "      <th>group_fd</th>\n",
       "      <th>internal_id</th>\n",
       "      <th>organ</th>\n",
       "      <th>staining</th>\n",
       "      <th>diag_main</th>\n",
       "      <th>diag_fine</th>\n",
       "      <th>donor_id</th>\n",
       "      <th>material</th>\n",
       "      <th>newly_named_batch</th>\n",
       "      <th>new_col</th>\n",
       "    </tr>\n",
       "  </thead>\n",
       "  <tbody>\n",
       "    <tr>\n",
       "      <th>0</th>\n",
       "      <td>1</td>\n",
       "      <td>3742.fcs</td>\n",
       "      <td>healthy</td>\n",
       "      <td>3742</td>\n",
       "      <td>PB</td>\n",
       "      <td>stained</td>\n",
       "      <td>healthy</td>\n",
       "      <td>healthy</td>\n",
       "      <td>3742</td>\n",
       "      <td>PBMC</td>\n",
       "      <td>1</td>\n",
       "      <td>renamed_val1</td>\n",
       "    </tr>\n",
       "    <tr>\n",
       "      <th>1</th>\n",
       "      <td>2</td>\n",
       "      <td>4337.fcs</td>\n",
       "      <td>healthy</td>\n",
       "      <td>4337</td>\n",
       "      <td>PB</td>\n",
       "      <td>stained</td>\n",
       "      <td>healthy</td>\n",
       "      <td>healthy</td>\n",
       "      <td>4337</td>\n",
       "      <td>PBMC</td>\n",
       "      <td>1</td>\n",
       "      <td>renamed_val2</td>\n",
       "    </tr>\n",
       "  </tbody>\n",
       "</table>\n",
       "</div>"
      ],
      "text/plain": [
       "  sample_ID file_name group_fd internal_id organ staining diag_main diag_fine  \\\n",
       "0         1  3742.fcs  healthy        3742    PB  stained   healthy   healthy   \n",
       "1         2  4337.fcs  healthy        4337    PB  stained   healthy   healthy   \n",
       "\n",
       "  donor_id material newly_named_batch       new_col  \n",
       "0     3742     PBMC                 1  renamed_val1  \n",
       "1     4337     PBMC                 1  renamed_val2  "
      ]
     },
     "execution_count": 12,
     "metadata": {},
     "output_type": "execute_result"
    }
   ],
   "source": [
    "metadata.rename_values(\"new_col\", [\"renamed_val1\", \"renamed_val2\"])\n",
    "metadata.dataframe.head()"
   ]
  },
  {
   "cell_type": "markdown",
   "id": "10ffd54a",
   "metadata": {},
   "source": [
    "Lastly, we can also pass a dictionary, where the old values are the keys and the values to be renamed to are the values."
   ]
  },
  {
   "cell_type": "code",
   "execution_count": 13,
   "id": "cbcdf5c9",
   "metadata": {},
   "outputs": [
    {
     "data": {
      "text/html": [
       "<div>\n",
       "<style scoped>\n",
       "    .dataframe tbody tr th:only-of-type {\n",
       "        vertical-align: middle;\n",
       "    }\n",
       "\n",
       "    .dataframe tbody tr th {\n",
       "        vertical-align: top;\n",
       "    }\n",
       "\n",
       "    .dataframe thead th {\n",
       "        text-align: right;\n",
       "    }\n",
       "</style>\n",
       "<table border=\"1\" class=\"dataframe\">\n",
       "  <thead>\n",
       "    <tr style=\"text-align: right;\">\n",
       "      <th></th>\n",
       "      <th>sample_ID</th>\n",
       "      <th>file_name</th>\n",
       "      <th>group_fd</th>\n",
       "      <th>internal_id</th>\n",
       "      <th>organ</th>\n",
       "      <th>staining</th>\n",
       "      <th>diag_main</th>\n",
       "      <th>diag_fine</th>\n",
       "      <th>donor_id</th>\n",
       "      <th>material</th>\n",
       "      <th>newly_named_batch</th>\n",
       "      <th>new_col</th>\n",
       "    </tr>\n",
       "  </thead>\n",
       "  <tbody>\n",
       "    <tr>\n",
       "      <th>0</th>\n",
       "      <td>1</td>\n",
       "      <td>3742.fcs</td>\n",
       "      <td>healthy</td>\n",
       "      <td>3742</td>\n",
       "      <td>PB</td>\n",
       "      <td>stained</td>\n",
       "      <td>healthy</td>\n",
       "      <td>healthy</td>\n",
       "      <td>3742</td>\n",
       "      <td>PBMC</td>\n",
       "      <td>1</td>\n",
       "      <td>final_var1</td>\n",
       "    </tr>\n",
       "    <tr>\n",
       "      <th>1</th>\n",
       "      <td>2</td>\n",
       "      <td>4337.fcs</td>\n",
       "      <td>healthy</td>\n",
       "      <td>4337</td>\n",
       "      <td>PB</td>\n",
       "      <td>stained</td>\n",
       "      <td>healthy</td>\n",
       "      <td>healthy</td>\n",
       "      <td>4337</td>\n",
       "      <td>PBMC</td>\n",
       "      <td>1</td>\n",
       "      <td>final_var2</td>\n",
       "    </tr>\n",
       "  </tbody>\n",
       "</table>\n",
       "</div>"
      ],
      "text/plain": [
       "  sample_ID file_name group_fd internal_id organ staining diag_main diag_fine  \\\n",
       "0         1  3742.fcs  healthy        3742    PB  stained   healthy   healthy   \n",
       "1         2  4337.fcs  healthy        4337    PB  stained   healthy   healthy   \n",
       "\n",
       "  donor_id material newly_named_batch     new_col  \n",
       "0     3742     PBMC                 1  final_var1  \n",
       "1     4337     PBMC                 1  final_var2  "
      ]
     },
     "execution_count": 13,
     "metadata": {},
     "output_type": "execute_result"
    }
   ],
   "source": [
    "metadata.rename_values(\"new_col\", {\"renamed_val1\": \"final_var1\",\n",
    "                                   \"renamed_val2\": \"final_var2\"})\n",
    "metadata.dataframe.head()"
   ]
  },
  {
   "cell_type": "markdown",
   "id": "9bbdb568",
   "metadata": {},
   "source": [
    "## Write metadata to the hard drive\n",
    "\n",
    "In order to write the metadata table to the hard drive, use the `.write()` method, specifying a file-path with the file name."
   ]
  },
  {
   "cell_type": "code",
   "execution_count": 14,
   "id": "da6e98e9",
   "metadata": {
    "execution": {
     "iopub.execute_input": "2024-02-05T13:20:32.335360Z",
     "iopub.status.busy": "2024-02-05T13:20:32.335360Z",
     "iopub.status.idle": "2024-02-05T13:20:32.350662Z",
     "shell.execute_reply": "2024-02-05T13:20:32.350662Z"
    },
    "papermill": {
     "duration": 0.016262,
     "end_time": "2024-02-05T13:20:32.351622",
     "exception": false,
     "start_time": "2024-02-05T13:20:32.335360",
     "status": "completed"
    },
    "tags": []
   },
   "outputs": [],
   "source": [
    "metadata.write(\"../Tutorials/spectral_dataset/vignette_metadata.csv\")"
   ]
  }
 ],
 "metadata": {
  "kernelspec": {
   "display_name": "Python 3 (ipykernel)",
   "language": "python",
   "name": "python3"
  },
  "language_info": {
   "codemirror_mode": {
    "name": "ipython",
    "version": 3
   },
   "file_extension": ".py",
   "mimetype": "text/x-python",
   "name": "python",
   "nbconvert_exporter": "python",
   "pygments_lexer": "ipython3",
   "version": "3.10.13"
  },
  "papermill": {
   "default_parameters": {},
   "duration": 8.81489,
   "end_time": "2024-02-05T13:20:32.919133",
   "environment_variables": {},
   "exception": null,
   "input_path": "C:\\Users\\tarik\\Python\\FACSPy\\vignettes\\metadata_vignette.ipynb",
   "output_path": "C:\\Users\\tarik\\Python\\FACSPy\\vignettes\\metadata_vignette.ipynb",
   "parameters": {},
   "start_time": "2024-02-05T13:20:24.104243",
   "version": "2.5.0"
  }
 },
 "nbformat": 4,
 "nbformat_minor": 5
}
