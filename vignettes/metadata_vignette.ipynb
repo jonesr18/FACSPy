{
 "cells": [
  {
   "cell_type": "code",
   "execution_count": 1,
   "id": "60119634",
   "metadata": {
    "execution": {
     "iopub.execute_input": "2024-02-05T13:20:25.937931Z",
     "iopub.status.busy": "2024-02-05T13:20:25.937931Z",
     "iopub.status.idle": "2024-02-05T13:20:32.135199Z",
     "shell.execute_reply": "2024-02-05T13:20:32.135199Z"
    },
    "papermill": {
     "duration": 6.199875,
     "end_time": "2024-02-05T13:20:32.135199",
     "exception": false,
     "start_time": "2024-02-05T13:20:25.935324",
     "status": "completed"
    },
    "tags": []
   },
   "outputs": [],
   "source": [
    "import FACSPy as fp"
   ]
  },
  {
   "cell_type": "code",
   "execution_count": 2,
   "id": "59b65ad5",
   "metadata": {
    "execution": {
     "iopub.execute_input": "2024-02-05T13:20:32.135199Z",
     "iopub.status.busy": "2024-02-05T13:20:32.135199Z",
     "iopub.status.idle": "2024-02-05T13:20:32.158476Z",
     "shell.execute_reply": "2024-02-05T13:20:32.158476Z"
    },
    "papermill": {
     "duration": 0.023277,
     "end_time": "2024-02-05T13:20:32.158476",
     "exception": false,
     "start_time": "2024-02-05T13:20:32.135199",
     "status": "completed"
    },
    "tags": []
   },
   "outputs": [
    {
     "data": {
      "text/html": [
       "<div>\n",
       "<style scoped>\n",
       "    .dataframe tbody tr th:only-of-type {\n",
       "        vertical-align: middle;\n",
       "    }\n",
       "\n",
       "    .dataframe tbody tr th {\n",
       "        vertical-align: top;\n",
       "    }\n",
       "\n",
       "    .dataframe thead th {\n",
       "        text-align: right;\n",
       "    }\n",
       "</style>\n",
       "<table border=\"1\" class=\"dataframe\">\n",
       "  <thead>\n",
       "    <tr style=\"text-align: right;\">\n",
       "      <th></th>\n",
       "      <th>sample_ID</th>\n",
       "      <th>file_name</th>\n",
       "      <th>group_fd</th>\n",
       "      <th>internal_id</th>\n",
       "      <th>organ</th>\n",
       "      <th>staining</th>\n",
       "      <th>diag_main</th>\n",
       "      <th>diag_fine</th>\n",
       "      <th>donor_id</th>\n",
       "      <th>material</th>\n",
       "      <th>batch</th>\n",
       "    </tr>\n",
       "  </thead>\n",
       "  <tbody>\n",
       "    <tr>\n",
       "      <th>0</th>\n",
       "      <td>1</td>\n",
       "      <td>3742.fcs</td>\n",
       "      <td>healthy</td>\n",
       "      <td>3742</td>\n",
       "      <td>PB</td>\n",
       "      <td>stained</td>\n",
       "      <td>healthy</td>\n",
       "      <td>healthy</td>\n",
       "      <td>3742</td>\n",
       "      <td>PBMC</td>\n",
       "      <td>1</td>\n",
       "    </tr>\n",
       "    <tr>\n",
       "      <th>1</th>\n",
       "      <td>2</td>\n",
       "      <td>4337.fcs</td>\n",
       "      <td>healthy</td>\n",
       "      <td>4337</td>\n",
       "      <td>PB</td>\n",
       "      <td>stained</td>\n",
       "      <td>healthy</td>\n",
       "      <td>healthy</td>\n",
       "      <td>4337</td>\n",
       "      <td>PBMC</td>\n",
       "      <td>1</td>\n",
       "    </tr>\n",
       "    <tr>\n",
       "      <th>2</th>\n",
       "      <td>3</td>\n",
       "      <td>4449.fcs</td>\n",
       "      <td>healthy</td>\n",
       "      <td>4449</td>\n",
       "      <td>PB</td>\n",
       "      <td>stained</td>\n",
       "      <td>healthy</td>\n",
       "      <td>healthy</td>\n",
       "      <td>4449</td>\n",
       "      <td>PBMC</td>\n",
       "      <td>2</td>\n",
       "    </tr>\n",
       "    <tr>\n",
       "      <th>3</th>\n",
       "      <td>4</td>\n",
       "      <td>5143.fcs</td>\n",
       "      <td>healthy</td>\n",
       "      <td>5143</td>\n",
       "      <td>PB</td>\n",
       "      <td>stained</td>\n",
       "      <td>healthy</td>\n",
       "      <td>healthy</td>\n",
       "      <td>5143</td>\n",
       "      <td>PBMC</td>\n",
       "      <td>2</td>\n",
       "    </tr>\n",
       "    <tr>\n",
       "      <th>4</th>\n",
       "      <td>5</td>\n",
       "      <td>6042.fcs</td>\n",
       "      <td>healthy</td>\n",
       "      <td>6042</td>\n",
       "      <td>PB</td>\n",
       "      <td>stained</td>\n",
       "      <td>healthy</td>\n",
       "      <td>healthy</td>\n",
       "      <td>6042</td>\n",
       "      <td>PBMC</td>\n",
       "      <td>1</td>\n",
       "    </tr>\n",
       "  </tbody>\n",
       "</table>\n",
       "</div>"
      ],
      "text/plain": [
       "   sample_ID file_name group_fd internal_id organ staining diag_main  \\\n",
       "0          1  3742.fcs  healthy        3742    PB  stained   healthy   \n",
       "1          2  4337.fcs  healthy        4337    PB  stained   healthy   \n",
       "2          3  4449.fcs  healthy        4449    PB  stained   healthy   \n",
       "3          4  5143.fcs  healthy        5143    PB  stained   healthy   \n",
       "4          5  6042.fcs  healthy        6042    PB  stained   healthy   \n",
       "\n",
       "  diag_fine donor_id material  batch  \n",
       "0   healthy     3742     PBMC      1  \n",
       "1   healthy     4337     PBMC      1  \n",
       "2   healthy     4449     PBMC      2  \n",
       "3   healthy     5143     PBMC      2  \n",
       "4   healthy     6042     PBMC      1  "
      ]
     },
     "execution_count": 2,
     "metadata": {},
     "output_type": "execute_result"
    }
   ],
   "source": [
    "### to create metadata, a table has to be provided\n",
    "import pandas as pd\n",
    "\n",
    "user_metadata = pd.read_csv(\"../Tutorials/spectral_dataset/metadata.csv\", sep = \";\")\n",
    "user_metadata.head()"
   ]
  },
  {
   "cell_type": "code",
   "execution_count": 3,
   "id": "f567c69a",
   "metadata": {
    "execution": {
     "iopub.execute_input": "2024-02-05T13:20:32.158476Z",
     "iopub.status.busy": "2024-02-05T13:20:32.158476Z",
     "iopub.status.idle": "2024-02-05T13:20:32.174106Z",
     "shell.execute_reply": "2024-02-05T13:20:32.174106Z"
    },
    "papermill": {
     "duration": 0.01563,
     "end_time": "2024-02-05T13:20:32.174106",
     "exception": false,
     "start_time": "2024-02-05T13:20:32.158476",
     "status": "completed"
    },
    "tags": []
   },
   "outputs": [],
   "source": [
    "### There are two obligatory columns: sample_ID and file_name\n",
    "### it is highly recommended to provide a column named \"staining\" as well to be able to automatically calculate the cofactors\n",
    "\n",
    "metadata = fp.dt.Metadata(metadata = user_metadata)"
   ]
  },
  {
   "cell_type": "code",
   "execution_count": 4,
   "id": "3b89f1de",
   "metadata": {
    "execution": {
     "iopub.execute_input": "2024-02-05T13:20:32.174106Z",
     "iopub.status.busy": "2024-02-05T13:20:32.174106Z",
     "iopub.status.idle": "2024-02-05T13:20:32.189741Z",
     "shell.execute_reply": "2024-02-05T13:20:32.189741Z"
    },
    "papermill": {
     "duration": 0.015635,
     "end_time": "2024-02-05T13:20:32.189741",
     "exception": false,
     "start_time": "2024-02-05T13:20:32.174106",
     "status": "completed"
    },
    "tags": []
   },
   "outputs": [
    {
     "data": {
      "text/plain": [
       "Metadata(36 entries with factors ['group_fd', 'internal_id', 'organ', 'diag_main', 'diag_fine', 'donor_id', 'material', 'batch'])"
      ]
     },
     "execution_count": 4,
     "metadata": {},
     "output_type": "execute_result"
    }
   ],
   "source": [
    "### we created a Metadata object\n",
    "metadata"
   ]
  },
  {
   "cell_type": "code",
   "execution_count": 5,
   "id": "153ce21f",
   "metadata": {
    "execution": {
     "iopub.execute_input": "2024-02-05T13:20:32.196077Z",
     "iopub.status.busy": "2024-02-05T13:20:32.196077Z",
     "iopub.status.idle": "2024-02-05T13:20:32.204970Z",
     "shell.execute_reply": "2024-02-05T13:20:32.204970Z"
    },
    "papermill": {
     "duration": 0.01625,
     "end_time": "2024-02-05T13:20:32.205991",
     "exception": false,
     "start_time": "2024-02-05T13:20:32.189741",
     "status": "completed"
    },
    "tags": []
   },
   "outputs": [],
   "source": [
    "### not providing sample_ID or file_name will result in an error\n",
    "### uncomment the next line to provoke the error\n",
    "\n",
    "# metadata = fp.dt.Metadata(metadata = user_metadata.drop(\"sample_ID\", axis = 1))"
   ]
  },
  {
   "cell_type": "code",
   "execution_count": 6,
   "id": "f1af4360",
   "metadata": {
    "execution": {
     "iopub.execute_input": "2024-02-05T13:20:32.206878Z",
     "iopub.status.busy": "2024-02-05T13:20:32.206878Z",
     "iopub.status.idle": "2024-02-05T13:20:32.221903Z",
     "shell.execute_reply": "2024-02-05T13:20:32.221903Z"
    },
    "papermill": {
     "duration": 0.015025,
     "end_time": "2024-02-05T13:20:32.221903",
     "exception": false,
     "start_time": "2024-02-05T13:20:32.206878",
     "status": "completed"
    },
    "tags": []
   },
   "outputs": [],
   "source": [
    "### Metadata can also be read directly from the hard drive:\n",
    "metadata = fp.dt.Metadata(\"../Tutorials/spectral_dataset/metadata.csv\")"
   ]
  },
  {
   "cell_type": "code",
   "execution_count": 7,
   "id": "36209500",
   "metadata": {
    "execution": {
     "iopub.execute_input": "2024-02-05T13:20:32.221903Z",
     "iopub.status.busy": "2024-02-05T13:20:32.221903Z",
     "iopub.status.idle": "2024-02-05T13:20:32.237557Z",
     "shell.execute_reply": "2024-02-05T13:20:32.237557Z"
    },
    "papermill": {
     "duration": 0.015654,
     "end_time": "2024-02-05T13:20:32.237557",
     "exception": false,
     "start_time": "2024-02-05T13:20:32.221903",
     "status": "completed"
    },
    "tags": []
   },
   "outputs": [
    {
     "data": {
      "text/plain": [
       "Metadata(36 entries with factors ['group_fd', 'internal_id', 'organ', 'diag_main', 'diag_fine', 'donor_id', 'material', 'batch'])"
      ]
     },
     "execution_count": 7,
     "metadata": {},
     "output_type": "execute_result"
    }
   ],
   "source": [
    "### we created a Metadata object\n",
    "metadata"
   ]
  },
  {
   "cell_type": "code",
   "execution_count": 8,
   "id": "ed63f3a9",
   "metadata": {
    "execution": {
     "iopub.execute_input": "2024-02-05T13:20:32.244415Z",
     "iopub.status.busy": "2024-02-05T13:20:32.244415Z",
     "iopub.status.idle": "2024-02-05T13:20:32.253375Z",
     "shell.execute_reply": "2024-02-05T13:20:32.253375Z"
    },
    "papermill": {
     "duration": 0.016796,
     "end_time": "2024-02-05T13:20:32.254353",
     "exception": false,
     "start_time": "2024-02-05T13:20:32.237557",
     "status": "completed"
    },
    "tags": []
   },
   "outputs": [
    {
     "data": {
      "text/html": [
       "<div>\n",
       "<style scoped>\n",
       "    .dataframe tbody tr th:only-of-type {\n",
       "        vertical-align: middle;\n",
       "    }\n",
       "\n",
       "    .dataframe tbody tr th {\n",
       "        vertical-align: top;\n",
       "    }\n",
       "\n",
       "    .dataframe thead th {\n",
       "        text-align: right;\n",
       "    }\n",
       "</style>\n",
       "<table border=\"1\" class=\"dataframe\">\n",
       "  <thead>\n",
       "    <tr style=\"text-align: right;\">\n",
       "      <th></th>\n",
       "      <th>sample_ID</th>\n",
       "      <th>file_name</th>\n",
       "      <th>group_fd</th>\n",
       "      <th>internal_id</th>\n",
       "      <th>organ</th>\n",
       "      <th>staining</th>\n",
       "      <th>diag_main</th>\n",
       "      <th>diag_fine</th>\n",
       "      <th>donor_id</th>\n",
       "      <th>material</th>\n",
       "      <th>batch</th>\n",
       "    </tr>\n",
       "  </thead>\n",
       "  <tbody>\n",
       "    <tr>\n",
       "      <th>0</th>\n",
       "      <td>1</td>\n",
       "      <td>3742.fcs</td>\n",
       "      <td>healthy</td>\n",
       "      <td>3742</td>\n",
       "      <td>PB</td>\n",
       "      <td>stained</td>\n",
       "      <td>healthy</td>\n",
       "      <td>healthy</td>\n",
       "      <td>3742</td>\n",
       "      <td>PBMC</td>\n",
       "      <td>1</td>\n",
       "    </tr>\n",
       "    <tr>\n",
       "      <th>1</th>\n",
       "      <td>2</td>\n",
       "      <td>4337.fcs</td>\n",
       "      <td>healthy</td>\n",
       "      <td>4337</td>\n",
       "      <td>PB</td>\n",
       "      <td>stained</td>\n",
       "      <td>healthy</td>\n",
       "      <td>healthy</td>\n",
       "      <td>4337</td>\n",
       "      <td>PBMC</td>\n",
       "      <td>1</td>\n",
       "    </tr>\n",
       "    <tr>\n",
       "      <th>2</th>\n",
       "      <td>3</td>\n",
       "      <td>4449.fcs</td>\n",
       "      <td>healthy</td>\n",
       "      <td>4449</td>\n",
       "      <td>PB</td>\n",
       "      <td>stained</td>\n",
       "      <td>healthy</td>\n",
       "      <td>healthy</td>\n",
       "      <td>4449</td>\n",
       "      <td>PBMC</td>\n",
       "      <td>2</td>\n",
       "    </tr>\n",
       "    <tr>\n",
       "      <th>3</th>\n",
       "      <td>4</td>\n",
       "      <td>5143.fcs</td>\n",
       "      <td>healthy</td>\n",
       "      <td>5143</td>\n",
       "      <td>PB</td>\n",
       "      <td>stained</td>\n",
       "      <td>healthy</td>\n",
       "      <td>healthy</td>\n",
       "      <td>5143</td>\n",
       "      <td>PBMC</td>\n",
       "      <td>2</td>\n",
       "    </tr>\n",
       "    <tr>\n",
       "      <th>4</th>\n",
       "      <td>5</td>\n",
       "      <td>6042.fcs</td>\n",
       "      <td>healthy</td>\n",
       "      <td>6042</td>\n",
       "      <td>PB</td>\n",
       "      <td>stained</td>\n",
       "      <td>healthy</td>\n",
       "      <td>healthy</td>\n",
       "      <td>6042</td>\n",
       "      <td>PBMC</td>\n",
       "      <td>1</td>\n",
       "    </tr>\n",
       "  </tbody>\n",
       "</table>\n",
       "</div>"
      ],
      "text/plain": [
       "  sample_ID file_name group_fd internal_id organ staining diag_main diag_fine  \\\n",
       "0         1  3742.fcs  healthy        3742    PB  stained   healthy   healthy   \n",
       "1         2  4337.fcs  healthy        4337    PB  stained   healthy   healthy   \n",
       "2         3  4449.fcs  healthy        4449    PB  stained   healthy   healthy   \n",
       "3         4  5143.fcs  healthy        5143    PB  stained   healthy   healthy   \n",
       "4         5  6042.fcs  healthy        6042    PB  stained   healthy   healthy   \n",
       "\n",
       "  donor_id material batch  \n",
       "0     3742     PBMC     1  \n",
       "1     4337     PBMC     1  \n",
       "2     4449     PBMC     2  \n",
       "3     5143     PBMC     2  \n",
       "4     6042     PBMC     1  "
      ]
     },
     "execution_count": 8,
     "metadata": {},
     "output_type": "execute_result"
    }
   ],
   "source": [
    "### the underlying data are stored as a pandas dataframe and are accessed by the .dataframe attribute or the .to_df() method\n",
    "df = metadata.dataframe\n",
    "df.head()"
   ]
  },
  {
   "cell_type": "code",
   "execution_count": 9,
   "id": "001d758a",
   "metadata": {
    "execution": {
     "iopub.execute_input": "2024-02-05T13:20:32.255994Z",
     "iopub.status.busy": "2024-02-05T13:20:32.255994Z",
     "iopub.status.idle": "2024-02-05T13:20:32.271503Z",
     "shell.execute_reply": "2024-02-05T13:20:32.271503Z"
    },
    "papermill": {
     "duration": 0.015509,
     "end_time": "2024-02-05T13:20:32.271503",
     "exception": false,
     "start_time": "2024-02-05T13:20:32.255994",
     "status": "completed"
    },
    "tags": []
   },
   "outputs": [
    {
     "data": {
      "text/html": [
       "<div>\n",
       "<style scoped>\n",
       "    .dataframe tbody tr th:only-of-type {\n",
       "        vertical-align: middle;\n",
       "    }\n",
       "\n",
       "    .dataframe tbody tr th {\n",
       "        vertical-align: top;\n",
       "    }\n",
       "\n",
       "    .dataframe thead th {\n",
       "        text-align: right;\n",
       "    }\n",
       "</style>\n",
       "<table border=\"1\" class=\"dataframe\">\n",
       "  <thead>\n",
       "    <tr style=\"text-align: right;\">\n",
       "      <th></th>\n",
       "      <th>sample_ID</th>\n",
       "      <th>file_name</th>\n",
       "      <th>group_fd</th>\n",
       "      <th>internal_id</th>\n",
       "      <th>organ</th>\n",
       "      <th>staining</th>\n",
       "      <th>diag_main</th>\n",
       "      <th>diag_fine</th>\n",
       "      <th>donor_id</th>\n",
       "      <th>material</th>\n",
       "      <th>batch</th>\n",
       "    </tr>\n",
       "  </thead>\n",
       "  <tbody>\n",
       "    <tr>\n",
       "      <th>0</th>\n",
       "      <td>1</td>\n",
       "      <td>3742.fcs</td>\n",
       "      <td>healthy</td>\n",
       "      <td>3742</td>\n",
       "      <td>PB</td>\n",
       "      <td>stained</td>\n",
       "      <td>healthy</td>\n",
       "      <td>healthy</td>\n",
       "      <td>3742</td>\n",
       "      <td>PBMC</td>\n",
       "      <td>1</td>\n",
       "    </tr>\n",
       "    <tr>\n",
       "      <th>1</th>\n",
       "      <td>2</td>\n",
       "      <td>4337.fcs</td>\n",
       "      <td>healthy</td>\n",
       "      <td>4337</td>\n",
       "      <td>PB</td>\n",
       "      <td>stained</td>\n",
       "      <td>healthy</td>\n",
       "      <td>healthy</td>\n",
       "      <td>4337</td>\n",
       "      <td>PBMC</td>\n",
       "      <td>1</td>\n",
       "    </tr>\n",
       "    <tr>\n",
       "      <th>2</th>\n",
       "      <td>3</td>\n",
       "      <td>4449.fcs</td>\n",
       "      <td>healthy</td>\n",
       "      <td>4449</td>\n",
       "      <td>PB</td>\n",
       "      <td>stained</td>\n",
       "      <td>healthy</td>\n",
       "      <td>healthy</td>\n",
       "      <td>4449</td>\n",
       "      <td>PBMC</td>\n",
       "      <td>2</td>\n",
       "    </tr>\n",
       "    <tr>\n",
       "      <th>3</th>\n",
       "      <td>4</td>\n",
       "      <td>5143.fcs</td>\n",
       "      <td>healthy</td>\n",
       "      <td>5143</td>\n",
       "      <td>PB</td>\n",
       "      <td>stained</td>\n",
       "      <td>healthy</td>\n",
       "      <td>healthy</td>\n",
       "      <td>5143</td>\n",
       "      <td>PBMC</td>\n",
       "      <td>2</td>\n",
       "    </tr>\n",
       "    <tr>\n",
       "      <th>4</th>\n",
       "      <td>5</td>\n",
       "      <td>6042.fcs</td>\n",
       "      <td>healthy</td>\n",
       "      <td>6042</td>\n",
       "      <td>PB</td>\n",
       "      <td>stained</td>\n",
       "      <td>healthy</td>\n",
       "      <td>healthy</td>\n",
       "      <td>6042</td>\n",
       "      <td>PBMC</td>\n",
       "      <td>1</td>\n",
       "    </tr>\n",
       "  </tbody>\n",
       "</table>\n",
       "</div>"
      ],
      "text/plain": [
       "  sample_ID file_name group_fd internal_id organ staining diag_main diag_fine  \\\n",
       "0         1  3742.fcs  healthy        3742    PB  stained   healthy   healthy   \n",
       "1         2  4337.fcs  healthy        4337    PB  stained   healthy   healthy   \n",
       "2         3  4449.fcs  healthy        4449    PB  stained   healthy   healthy   \n",
       "3         4  5143.fcs  healthy        5143    PB  stained   healthy   healthy   \n",
       "4         5  6042.fcs  healthy        6042    PB  stained   healthy   healthy   \n",
       "\n",
       "  donor_id material batch  \n",
       "0     3742     PBMC     1  \n",
       "1     4337     PBMC     1  \n",
       "2     4449     PBMC     2  \n",
       "3     5143     PBMC     2  \n",
       "4     6042     PBMC     1  "
      ]
     },
     "execution_count": 9,
     "metadata": {},
     "output_type": "execute_result"
    }
   ],
   "source": [
    "df = metadata.to_df()\n",
    "df.head()"
   ]
  },
  {
   "cell_type": "code",
   "execution_count": 10,
   "id": "654f921d",
   "metadata": {
    "execution": {
     "iopub.execute_input": "2024-02-05T13:20:32.271503Z",
     "iopub.status.busy": "2024-02-05T13:20:32.271503Z",
     "iopub.status.idle": "2024-02-05T13:20:32.287141Z",
     "shell.execute_reply": "2024-02-05T13:20:32.287141Z"
    },
    "papermill": {
     "duration": 0.015638,
     "end_time": "2024-02-05T13:20:32.287141",
     "exception": false,
     "start_time": "2024-02-05T13:20:32.271503",
     "status": "completed"
    },
    "tags": []
   },
   "outputs": [
    {
     "data": {
      "text/plain": [
       "['group_fd',\n",
       " 'internal_id',\n",
       " 'organ',\n",
       " 'diag_main',\n",
       " 'diag_fine',\n",
       " 'donor_id',\n",
       " 'material',\n",
       " 'batch']"
      ]
     },
     "execution_count": 10,
     "metadata": {},
     "output_type": "execute_result"
    }
   ],
   "source": [
    "### metadata factors are entries that have been submitted by the user and are not \"sample_ID\", \"file_name\" or \"staining\"\n",
    "### these factors can be extracted by the .get_factors() method\n",
    "metadata.get_factors()"
   ]
  },
  {
   "cell_type": "code",
   "execution_count": 11,
   "id": "6ba57dcd",
   "metadata": {
    "execution": {
     "iopub.execute_input": "2024-02-05T13:20:32.294925Z",
     "iopub.status.busy": "2024-02-05T13:20:32.293926Z",
     "iopub.status.idle": "2024-02-05T13:20:32.302821Z",
     "shell.execute_reply": "2024-02-05T13:20:32.302821Z"
    },
    "papermill": {
     "duration": 0.016735,
     "end_time": "2024-02-05T13:20:32.303876",
     "exception": false,
     "start_time": "2024-02-05T13:20:32.287141",
     "status": "completed"
    },
    "tags": []
   },
   "outputs": [
    {
     "data": {
      "text/plain": [
       "Index(['sample_ID', 'file_name', 'group_fd', 'internal_id', 'organ',\n",
       "       'staining', 'diag_main', 'diag_fine', 'donor_id', 'material',\n",
       "       'newly_named_batch'],\n",
       "      dtype='object')"
      ]
     },
     "execution_count": 11,
     "metadata": {},
     "output_type": "execute_result"
    }
   ],
   "source": [
    "### columns can be renamed\n",
    "metadata.rename(\"batch\", \"newly_named_batch\")\n",
    "metadata.dataframe.columns"
   ]
  },
  {
   "cell_type": "code",
   "execution_count": 12,
   "id": "54746ef7",
   "metadata": {
    "execution": {
     "iopub.execute_input": "2024-02-05T13:20:32.303876Z",
     "iopub.status.busy": "2024-02-05T13:20:32.303876Z",
     "iopub.status.idle": "2024-02-05T13:20:32.319499Z",
     "shell.execute_reply": "2024-02-05T13:20:32.319499Z"
    },
    "papermill": {
     "duration": 0.015623,
     "end_time": "2024-02-05T13:20:32.319499",
     "exception": false,
     "start_time": "2024-02-05T13:20:32.303876",
     "status": "completed"
    },
    "tags": []
   },
   "outputs": [
    {
     "data": {
      "text/html": [
       "<div>\n",
       "<style scoped>\n",
       "    .dataframe tbody tr th:only-of-type {\n",
       "        vertical-align: middle;\n",
       "    }\n",
       "\n",
       "    .dataframe tbody tr th {\n",
       "        vertical-align: top;\n",
       "    }\n",
       "\n",
       "    .dataframe thead th {\n",
       "        text-align: right;\n",
       "    }\n",
       "</style>\n",
       "<table border=\"1\" class=\"dataframe\">\n",
       "  <thead>\n",
       "    <tr style=\"text-align: right;\">\n",
       "      <th></th>\n",
       "      <th>sample_ID</th>\n",
       "      <th>file_name</th>\n",
       "      <th>group_fd</th>\n",
       "      <th>internal_id</th>\n",
       "      <th>organ</th>\n",
       "      <th>staining</th>\n",
       "      <th>diag_main</th>\n",
       "      <th>diag_fine</th>\n",
       "      <th>donor_id</th>\n",
       "      <th>material</th>\n",
       "      <th>newly_named_batch</th>\n",
       "    </tr>\n",
       "  </thead>\n",
       "  <tbody>\n",
       "    <tr>\n",
       "      <th>0</th>\n",
       "      <td>1</td>\n",
       "      <td>3742.fcs</td>\n",
       "      <td>healthy</td>\n",
       "      <td>3742</td>\n",
       "      <td>PB</td>\n",
       "      <td>stained</td>\n",
       "      <td>healthy</td>\n",
       "      <td>healthy</td>\n",
       "      <td>3742</td>\n",
       "      <td>PBMC</td>\n",
       "      <td>1</td>\n",
       "    </tr>\n",
       "    <tr>\n",
       "      <th>1</th>\n",
       "      <td>2</td>\n",
       "      <td>4337.fcs</td>\n",
       "      <td>healthy</td>\n",
       "      <td>4337</td>\n",
       "      <td>PB</td>\n",
       "      <td>stained</td>\n",
       "      <td>healthy</td>\n",
       "      <td>healthy</td>\n",
       "      <td>4337</td>\n",
       "      <td>PBMC</td>\n",
       "      <td>1</td>\n",
       "    </tr>\n",
       "  </tbody>\n",
       "</table>\n",
       "</div>"
      ],
      "text/plain": [
       "  sample_ID file_name group_fd internal_id organ staining diag_main diag_fine  \\\n",
       "0         1  3742.fcs  healthy        3742    PB  stained   healthy   healthy   \n",
       "1         2  4337.fcs  healthy        4337    PB  stained   healthy   healthy   \n",
       "\n",
       "  donor_id material newly_named_batch  \n",
       "0     3742     PBMC                 1  \n",
       "1     4337     PBMC                 1  "
      ]
     },
     "execution_count": 12,
     "metadata": {},
     "output_type": "execute_result"
    }
   ],
   "source": [
    "### metadata can be subset\n",
    "metadata.subset(\"file_name\", [\"3742.fcs\", \"4337.fcs\"])\n",
    "metadata.to_df()"
   ]
  },
  {
   "cell_type": "code",
   "execution_count": 13,
   "id": "341807ef",
   "metadata": {
    "execution": {
     "iopub.execute_input": "2024-02-05T13:20:32.324347Z",
     "iopub.status.busy": "2024-02-05T13:20:32.324347Z",
     "iopub.status.idle": "2024-02-05T13:20:32.335360Z",
     "shell.execute_reply": "2024-02-05T13:20:32.335360Z"
    },
    "papermill": {
     "duration": 0.012553,
     "end_time": "2024-02-05T13:20:32.335360",
     "exception": false,
     "start_time": "2024-02-05T13:20:32.322807",
     "status": "completed"
    },
    "tags": []
   },
   "outputs": [
    {
     "name": "stderr",
     "output_type": "stream",
     "text": [
      "C:\\Users\\tarik\\anaconda3\\envs\\FACSPypeline\\lib\\site-packages\\FACSPy\\dataset\\_supplements.py:207: FutureWarning: Setting an item of incompatible dtype is deprecated and will raise in a future error of pandas. Value 'new_val' has dtype incompatible with float64, please explicitly cast to a compatible dtype first.\n",
      "  self.dataframe.loc[self.dataframe[\"file_name\"].isin(file_names), column] = value\n"
     ]
    },
    {
     "data": {
      "text/html": [
       "<div>\n",
       "<style scoped>\n",
       "    .dataframe tbody tr th:only-of-type {\n",
       "        vertical-align: middle;\n",
       "    }\n",
       "\n",
       "    .dataframe tbody tr th {\n",
       "        vertical-align: top;\n",
       "    }\n",
       "\n",
       "    .dataframe thead th {\n",
       "        text-align: right;\n",
       "    }\n",
       "</style>\n",
       "<table border=\"1\" class=\"dataframe\">\n",
       "  <thead>\n",
       "    <tr style=\"text-align: right;\">\n",
       "      <th></th>\n",
       "      <th>sample_ID</th>\n",
       "      <th>file_name</th>\n",
       "      <th>group_fd</th>\n",
       "      <th>internal_id</th>\n",
       "      <th>organ</th>\n",
       "      <th>staining</th>\n",
       "      <th>diag_main</th>\n",
       "      <th>diag_fine</th>\n",
       "      <th>donor_id</th>\n",
       "      <th>material</th>\n",
       "      <th>newly_named_batch</th>\n",
       "      <th>new_col</th>\n",
       "    </tr>\n",
       "  </thead>\n",
       "  <tbody>\n",
       "    <tr>\n",
       "      <th>0</th>\n",
       "      <td>1</td>\n",
       "      <td>3742.fcs</td>\n",
       "      <td>healthy</td>\n",
       "      <td>3742</td>\n",
       "      <td>PB</td>\n",
       "      <td>stained</td>\n",
       "      <td>healthy</td>\n",
       "      <td>healthy</td>\n",
       "      <td>3742</td>\n",
       "      <td>PBMC</td>\n",
       "      <td>1</td>\n",
       "      <td>new_val</td>\n",
       "    </tr>\n",
       "    <tr>\n",
       "      <th>1</th>\n",
       "      <td>2</td>\n",
       "      <td>4337.fcs</td>\n",
       "      <td>healthy</td>\n",
       "      <td>4337</td>\n",
       "      <td>PB</td>\n",
       "      <td>stained</td>\n",
       "      <td>healthy</td>\n",
       "      <td>healthy</td>\n",
       "      <td>4337</td>\n",
       "      <td>PBMC</td>\n",
       "      <td>1</td>\n",
       "      <td>new_val</td>\n",
       "    </tr>\n",
       "  </tbody>\n",
       "</table>\n",
       "</div>"
      ],
      "text/plain": [
       "  sample_ID file_name group_fd internal_id organ staining diag_main diag_fine  \\\n",
       "0         1  3742.fcs  healthy        3742    PB  stained   healthy   healthy   \n",
       "1         2  4337.fcs  healthy        4337    PB  stained   healthy   healthy   \n",
       "\n",
       "  donor_id material newly_named_batch  new_col  \n",
       "0     3742     PBMC                 1  new_val  \n",
       "1     4337     PBMC                 1  new_val  "
      ]
     },
     "execution_count": 13,
     "metadata": {},
     "output_type": "execute_result"
    }
   ],
   "source": [
    "### metadata can be annotated\n",
    "metadata.annotate([\"3742.fcs\", \"4337.fcs\"], \"new_col\", \"new_val\")\n",
    "metadata.dataframe.head()"
   ]
  },
  {
   "cell_type": "code",
   "execution_count": 14,
   "id": "da6e98e9",
   "metadata": {
    "execution": {
     "iopub.execute_input": "2024-02-05T13:20:32.335360Z",
     "iopub.status.busy": "2024-02-05T13:20:32.335360Z",
     "iopub.status.idle": "2024-02-05T13:20:32.350662Z",
     "shell.execute_reply": "2024-02-05T13:20:32.350662Z"
    },
    "papermill": {
     "duration": 0.016262,
     "end_time": "2024-02-05T13:20:32.351622",
     "exception": false,
     "start_time": "2024-02-05T13:20:32.335360",
     "status": "completed"
    },
    "tags": []
   },
   "outputs": [],
   "source": [
    "### metadata can be written to the hard drive\n",
    "metadata.write(\"../Tutorials/spectral_dataset/vignette_metadata.csv\")"
   ]
  }
 ],
 "metadata": {
  "kernelspec": {
   "display_name": "Python 3 (ipykernel)",
   "language": "python",
   "name": "python3"
  },
  "language_info": {
   "codemirror_mode": {
    "name": "ipython",
    "version": 3
   },
   "file_extension": ".py",
   "mimetype": "text/x-python",
   "name": "python",
   "nbconvert_exporter": "python",
   "pygments_lexer": "ipython3",
   "version": "3.10.13"
  },
  "papermill": {
   "default_parameters": {},
   "duration": 8.81489,
   "end_time": "2024-02-05T13:20:32.919133",
   "environment_variables": {},
   "exception": null,
   "input_path": "C:\\Users\\tarik\\Python\\FACSPy\\vignettes\\metadata_vignette.ipynb",
   "output_path": "C:\\Users\\tarik\\Python\\FACSPy\\vignettes\\metadata_vignette.ipynb",
   "parameters": {},
   "start_time": "2024-02-05T13:20:24.104243",
   "version": "2.5.0"
  }
 },
 "nbformat": 4,
 "nbformat_minor": 5
}