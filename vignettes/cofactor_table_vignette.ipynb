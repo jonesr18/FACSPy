{
 "cells": [
  {
   "cell_type": "code",
   "execution_count": 1,
   "id": "f4e8dce9",
   "metadata": {
    "execution": {
     "iopub.execute_input": "2024-02-05T13:19:01.487292Z",
     "iopub.status.busy": "2024-02-05T13:19:01.487292Z",
     "iopub.status.idle": "2024-02-05T13:19:06.039817Z",
     "shell.execute_reply": "2024-02-05T13:19:06.039817Z"
    },
    "papermill": {
     "duration": 4.554015,
     "end_time": "2024-02-05T13:19:06.041307",
     "exception": false,
     "start_time": "2024-02-05T13:19:01.487292",
     "status": "completed"
    },
    "tags": []
   },
   "outputs": [],
   "source": [
    "import FACSPy as fp"
   ]
  },
  {
   "cell_type": "code",
   "execution_count": 2,
   "id": "d15a3065",
   "metadata": {
    "execution": {
     "iopub.execute_input": "2024-02-05T13:19:06.052568Z",
     "iopub.status.busy": "2024-02-05T13:19:06.051528Z",
     "iopub.status.idle": "2024-02-05T13:19:06.072299Z",
     "shell.execute_reply": "2024-02-05T13:19:06.072299Z"
    },
    "papermill": {
     "duration": 0.022786,
     "end_time": "2024-02-05T13:19:06.072299",
     "exception": false,
     "start_time": "2024-02-05T13:19:06.049513",
     "status": "completed"
    },
    "tags": []
   },
   "outputs": [
    {
     "data": {
      "text/html": [
       "<div>\n",
       "<style scoped>\n",
       "    .dataframe tbody tr th:only-of-type {\n",
       "        vertical-align: middle;\n",
       "    }\n",
       "\n",
       "    .dataframe tbody tr th {\n",
       "        vertical-align: top;\n",
       "    }\n",
       "\n",
       "    .dataframe thead th {\n",
       "        text-align: right;\n",
       "    }\n",
       "</style>\n",
       "<table border=\"1\" class=\"dataframe\">\n",
       "  <thead>\n",
       "    <tr style=\"text-align: right;\">\n",
       "      <th></th>\n",
       "      <th>fcs_colname</th>\n",
       "      <th>cofactors</th>\n",
       "    </tr>\n",
       "  </thead>\n",
       "  <tbody>\n",
       "    <tr>\n",
       "      <th>0</th>\n",
       "      <td>CD38</td>\n",
       "      <td>3000</td>\n",
       "    </tr>\n",
       "    <tr>\n",
       "      <th>1</th>\n",
       "      <td>NKG2C_(CD159c)</td>\n",
       "      <td>5000</td>\n",
       "    </tr>\n",
       "    <tr>\n",
       "      <th>2</th>\n",
       "      <td>CD3</td>\n",
       "      <td>8000</td>\n",
       "    </tr>\n",
       "    <tr>\n",
       "      <th>3</th>\n",
       "      <td>CD16</td>\n",
       "      <td>3000</td>\n",
       "    </tr>\n",
       "    <tr>\n",
       "      <th>4</th>\n",
       "      <td>CD161</td>\n",
       "      <td>4000</td>\n",
       "    </tr>\n",
       "  </tbody>\n",
       "</table>\n",
       "</div>"
      ],
      "text/plain": [
       "      fcs_colname  cofactors\n",
       "0            CD38       3000\n",
       "1  NKG2C_(CD159c)       5000\n",
       "2             CD3       8000\n",
       "3            CD16       3000\n",
       "4           CD161       4000"
      ]
     },
     "execution_count": 2,
     "metadata": {},
     "output_type": "execute_result"
    }
   ],
   "source": [
    "### the panel stores all the channel information that the user supplied\n",
    "import pandas as pd\n",
    "cofactors_file = pd.read_csv(\"../Tutorials/spectral_dataset/cofactors.txt\", sep = \"\\t\")\n",
    "cofactors_file.head()"
   ]
  },
  {
   "cell_type": "code",
   "execution_count": 3,
   "id": "c9b18082",
   "metadata": {
    "execution": {
     "iopub.execute_input": "2024-02-05T13:19:06.075689Z",
     "iopub.status.busy": "2024-02-05T13:19:06.075689Z",
     "iopub.status.idle": "2024-02-05T13:19:06.088195Z",
     "shell.execute_reply": "2024-02-05T13:19:06.088195Z"
    },
    "papermill": {
     "duration": 0.012506,
     "end_time": "2024-02-05T13:19:06.088195",
     "exception": false,
     "start_time": "2024-02-05T13:19:06.075689",
     "status": "completed"
    },
    "tags": []
   },
   "outputs": [
    {
     "data": {
      "text/plain": [
       "CofactorTable(28 channels, loaded as provided dataframe)"
      ]
     },
     "execution_count": 3,
     "metadata": {},
     "output_type": "execute_result"
    }
   ],
   "source": [
    "### we create a cofactor table from this table\n",
    "cofactors = fp.dt.CofactorTable(cofactors = cofactors_file)\n",
    "cofactors"
   ]
  },
  {
   "cell_type": "code",
   "execution_count": 4,
   "id": "2d8571b1",
   "metadata": {
    "execution": {
     "iopub.execute_input": "2024-02-05T13:19:06.094577Z",
     "iopub.status.busy": "2024-02-05T13:19:06.093572Z",
     "iopub.status.idle": "2024-02-05T13:19:06.103903Z",
     "shell.execute_reply": "2024-02-05T13:19:06.103903Z"
    },
    "papermill": {
     "duration": 0.017574,
     "end_time": "2024-02-05T13:19:06.105769",
     "exception": false,
     "start_time": "2024-02-05T13:19:06.088195",
     "status": "completed"
    },
    "tags": []
   },
   "outputs": [],
   "source": [
    "### not providing fcs_colname or cofactors will result in an error\n",
    "### uncomment the next line to provoke the error\n",
    "\n",
    "# cofactors = fp.dt.CofactorTable(cofactors = cofactors_file.rename(columns = {\"fcs_colname\": \"channel\"}))"
   ]
  },
  {
   "cell_type": "code",
   "execution_count": 5,
   "id": "40813c7a",
   "metadata": {
    "execution": {
     "iopub.execute_input": "2024-02-05T13:19:06.106322Z",
     "iopub.status.busy": "2024-02-05T13:19:06.106322Z",
     "iopub.status.idle": "2024-02-05T13:19:06.120843Z",
     "shell.execute_reply": "2024-02-05T13:19:06.120843Z"
    },
    "papermill": {
     "duration": 0.014521,
     "end_time": "2024-02-05T13:19:06.120843",
     "exception": false,
     "start_time": "2024-02-05T13:19:06.106322",
     "status": "completed"
    },
    "tags": []
   },
   "outputs": [],
   "source": [
    "### The cofactor table can also be read directly from the hard drive:\n",
    "cofactors = fp.dt.CofactorTable(\"../Tutorials/spectral_dataset/cofactors.txt\")"
   ]
  },
  {
   "cell_type": "code",
   "execution_count": 6,
   "id": "e3c190a6",
   "metadata": {
    "execution": {
     "iopub.execute_input": "2024-02-05T13:19:06.120843Z",
     "iopub.status.busy": "2024-02-05T13:19:06.120843Z",
     "iopub.status.idle": "2024-02-05T13:19:06.136480Z",
     "shell.execute_reply": "2024-02-05T13:19:06.136480Z"
    },
    "papermill": {
     "duration": 0.015637,
     "end_time": "2024-02-05T13:19:06.136480",
     "exception": false,
     "start_time": "2024-02-05T13:19:06.120843",
     "status": "completed"
    },
    "tags": []
   },
   "outputs": [
    {
     "data": {
      "text/html": [
       "<div>\n",
       "<style scoped>\n",
       "    .dataframe tbody tr th:only-of-type {\n",
       "        vertical-align: middle;\n",
       "    }\n",
       "\n",
       "    .dataframe tbody tr th {\n",
       "        vertical-align: top;\n",
       "    }\n",
       "\n",
       "    .dataframe thead th {\n",
       "        text-align: right;\n",
       "    }\n",
       "</style>\n",
       "<table border=\"1\" class=\"dataframe\">\n",
       "  <thead>\n",
       "    <tr style=\"text-align: right;\">\n",
       "      <th></th>\n",
       "      <th>fcs_colname</th>\n",
       "      <th>cofactors</th>\n",
       "    </tr>\n",
       "  </thead>\n",
       "  <tbody>\n",
       "    <tr>\n",
       "      <th>0</th>\n",
       "      <td>CD38</td>\n",
       "      <td>3000</td>\n",
       "    </tr>\n",
       "    <tr>\n",
       "      <th>1</th>\n",
       "      <td>NKG2C_(CD159c)</td>\n",
       "      <td>5000</td>\n",
       "    </tr>\n",
       "    <tr>\n",
       "      <th>2</th>\n",
       "      <td>CD3</td>\n",
       "      <td>8000</td>\n",
       "    </tr>\n",
       "    <tr>\n",
       "      <th>3</th>\n",
       "      <td>CD16</td>\n",
       "      <td>3000</td>\n",
       "    </tr>\n",
       "    <tr>\n",
       "      <th>4</th>\n",
       "      <td>CD161</td>\n",
       "      <td>4000</td>\n",
       "    </tr>\n",
       "  </tbody>\n",
       "</table>\n",
       "</div>"
      ],
      "text/plain": [
       "      fcs_colname  cofactors\n",
       "0            CD38       3000\n",
       "1  NKG2C_(CD159c)       5000\n",
       "2             CD3       8000\n",
       "3            CD16       3000\n",
       "4           CD161       4000"
      ]
     },
     "execution_count": 6,
     "metadata": {},
     "output_type": "execute_result"
    }
   ],
   "source": [
    "### the underlying data are stored as a pandas dataframe and are accessed by the .dataframe attribute or the .to_df() method\n",
    "df = cofactors.dataframe\n",
    "df.head()"
   ]
  },
  {
   "cell_type": "code",
   "execution_count": 7,
   "id": "c3749a5d",
   "metadata": {
    "execution": {
     "iopub.execute_input": "2024-02-05T13:19:06.141914Z",
     "iopub.status.busy": "2024-02-05T13:19:06.141914Z",
     "iopub.status.idle": "2024-02-05T13:19:06.151532Z",
     "shell.execute_reply": "2024-02-05T13:19:06.151532Z"
    },
    "papermill": {
     "duration": 0.016065,
     "end_time": "2024-02-05T13:19:06.152545",
     "exception": false,
     "start_time": "2024-02-05T13:19:06.136480",
     "status": "completed"
    },
    "tags": []
   },
   "outputs": [
    {
     "data": {
      "text/html": [
       "<div>\n",
       "<style scoped>\n",
       "    .dataframe tbody tr th:only-of-type {\n",
       "        vertical-align: middle;\n",
       "    }\n",
       "\n",
       "    .dataframe tbody tr th {\n",
       "        vertical-align: top;\n",
       "    }\n",
       "\n",
       "    .dataframe thead th {\n",
       "        text-align: right;\n",
       "    }\n",
       "</style>\n",
       "<table border=\"1\" class=\"dataframe\">\n",
       "  <thead>\n",
       "    <tr style=\"text-align: right;\">\n",
       "      <th></th>\n",
       "      <th>fcs_colname</th>\n",
       "      <th>cofactors</th>\n",
       "    </tr>\n",
       "  </thead>\n",
       "  <tbody>\n",
       "    <tr>\n",
       "      <th>0</th>\n",
       "      <td>CD38</td>\n",
       "      <td>3000</td>\n",
       "    </tr>\n",
       "    <tr>\n",
       "      <th>1</th>\n",
       "      <td>NKG2C_(CD159c)</td>\n",
       "      <td>5000</td>\n",
       "    </tr>\n",
       "    <tr>\n",
       "      <th>2</th>\n",
       "      <td>CD3</td>\n",
       "      <td>8000</td>\n",
       "    </tr>\n",
       "    <tr>\n",
       "      <th>3</th>\n",
       "      <td>CD16</td>\n",
       "      <td>3000</td>\n",
       "    </tr>\n",
       "    <tr>\n",
       "      <th>4</th>\n",
       "      <td>CD161</td>\n",
       "      <td>4000</td>\n",
       "    </tr>\n",
       "  </tbody>\n",
       "</table>\n",
       "</div>"
      ],
      "text/plain": [
       "      fcs_colname  cofactors\n",
       "0            CD38       3000\n",
       "1  NKG2C_(CD159c)       5000\n",
       "2             CD3       8000\n",
       "3            CD16       3000\n",
       "4           CD161       4000"
      ]
     },
     "execution_count": 7,
     "metadata": {},
     "output_type": "execute_result"
    }
   ],
   "source": [
    "df = cofactors.to_df()\n",
    "df.head()"
   ]
  },
  {
   "cell_type": "code",
   "execution_count": 8,
   "id": "b9678ea2",
   "metadata": {
    "execution": {
     "iopub.execute_input": "2024-02-05T13:19:06.154003Z",
     "iopub.status.busy": "2024-02-05T13:19:06.154003Z",
     "iopub.status.idle": "2024-02-05T13:19:06.169756Z",
     "shell.execute_reply": "2024-02-05T13:19:06.169756Z"
    },
    "papermill": {
     "duration": 0.015753,
     "end_time": "2024-02-05T13:19:06.169756",
     "exception": false,
     "start_time": "2024-02-05T13:19:06.154003",
     "status": "completed"
    },
    "tags": []
   },
   "outputs": [
    {
     "data": {
      "text/html": [
       "<div>\n",
       "<style scoped>\n",
       "    .dataframe tbody tr th:only-of-type {\n",
       "        vertical-align: middle;\n",
       "    }\n",
       "\n",
       "    .dataframe tbody tr th {\n",
       "        vertical-align: top;\n",
       "    }\n",
       "\n",
       "    .dataframe thead th {\n",
       "        text-align: right;\n",
       "    }\n",
       "</style>\n",
       "<table border=\"1\" class=\"dataframe\">\n",
       "  <thead>\n",
       "    <tr style=\"text-align: right;\">\n",
       "      <th></th>\n",
       "      <th>fcs_colname</th>\n",
       "      <th>cofactors</th>\n",
       "    </tr>\n",
       "  </thead>\n",
       "  <tbody>\n",
       "    <tr>\n",
       "      <th>0</th>\n",
       "      <td>CD38</td>\n",
       "      <td>5000</td>\n",
       "    </tr>\n",
       "    <tr>\n",
       "      <th>1</th>\n",
       "      <td>NKG2C_(CD159c)</td>\n",
       "      <td>5000</td>\n",
       "    </tr>\n",
       "    <tr>\n",
       "      <th>2</th>\n",
       "      <td>CD3</td>\n",
       "      <td>8000</td>\n",
       "    </tr>\n",
       "    <tr>\n",
       "      <th>3</th>\n",
       "      <td>CD16</td>\n",
       "      <td>3000</td>\n",
       "    </tr>\n",
       "    <tr>\n",
       "      <th>4</th>\n",
       "      <td>CD161</td>\n",
       "      <td>4000</td>\n",
       "    </tr>\n",
       "  </tbody>\n",
       "</table>\n",
       "</div>"
      ],
      "text/plain": [
       "      fcs_colname  cofactors\n",
       "0            CD38       5000\n",
       "1  NKG2C_(CD159c)       5000\n",
       "2             CD3       8000\n",
       "3            CD16       3000\n",
       "4           CD161       4000"
      ]
     },
     "execution_count": 8,
     "metadata": {},
     "output_type": "execute_result"
    }
   ],
   "source": [
    "### cofactors can be set\n",
    "cofactors.set_cofactor(\"CD38\", 5000)\n",
    "cofactors.dataframe.head()"
   ]
  },
  {
   "cell_type": "code",
   "execution_count": 9,
   "id": "9bec2fe3",
   "metadata": {
    "execution": {
     "iopub.execute_input": "2024-02-05T13:19:06.169756Z",
     "iopub.status.busy": "2024-02-05T13:19:06.169756Z",
     "iopub.status.idle": "2024-02-05T13:19:06.185476Z",
     "shell.execute_reply": "2024-02-05T13:19:06.185476Z"
    },
    "papermill": {
     "duration": 0.016981,
     "end_time": "2024-02-05T13:19:06.186737",
     "exception": false,
     "start_time": "2024-02-05T13:19:06.169756",
     "status": "completed"
    },
    "tags": []
   },
   "outputs": [
    {
     "data": {
      "text/plain": [
       "5000"
      ]
     },
     "execution_count": 9,
     "metadata": {},
     "output_type": "execute_result"
    }
   ],
   "source": [
    "### cofactors can be extracted\n",
    "cofactors.get_cofactor(\"CD38\")"
   ]
  },
  {
   "cell_type": "code",
   "execution_count": 10,
   "id": "aaac8e6e",
   "metadata": {
    "execution": {
     "iopub.execute_input": "2024-02-05T13:19:06.186737Z",
     "iopub.status.busy": "2024-02-05T13:19:06.186737Z",
     "iopub.status.idle": "2024-02-05T13:19:06.200820Z",
     "shell.execute_reply": "2024-02-05T13:19:06.200820Z"
    },
    "papermill": {
     "duration": 0.015132,
     "end_time": "2024-02-05T13:19:06.201869",
     "exception": false,
     "start_time": "2024-02-05T13:19:06.186737",
     "status": "completed"
    },
    "tags": []
   },
   "outputs": [],
   "source": [
    "### cofactor tables can be written to the hard drive\n",
    "cofactors.write(\"../Tutorials/spectral_dataset/vignette_cofactors.csv\")"
   ]
  }
 ],
 "metadata": {
  "kernelspec": {
   "display_name": "Python 3 (ipykernel)",
   "language": "python",
   "name": "python3"
  },
  "language_info": {
   "codemirror_mode": {
    "name": "ipython",
    "version": 3
   },
   "file_extension": ".py",
   "mimetype": "text/x-python",
   "name": "python",
   "nbconvert_exporter": "python",
   "pygments_lexer": "ipython3",
   "version": "3.10.13"
  },
  "papermill": {
   "default_parameters": {},
   "duration": 7.087967,
   "end_time": "2024-02-05T13:19:06.657606",
   "environment_variables": {},
   "exception": null,
   "input_path": "C:\\Users\\tarik\\Python\\FACSPy\\vignettes\\cofactor_table_vignette.ipynb",
   "output_path": "C:\\Users\\tarik\\Python\\FACSPy\\vignettes\\cofactor_table_vignette.ipynb",
   "parameters": {},
   "start_time": "2024-02-05T13:18:59.569639",
   "version": "2.5.0"
  }
 },
 "nbformat": 4,
 "nbformat_minor": 5
}