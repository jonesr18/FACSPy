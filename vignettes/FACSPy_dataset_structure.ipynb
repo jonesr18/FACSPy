{
 "cells": [
  {
   "cell_type": "markdown",
   "id": "5f0a594f",
   "metadata": {
    "execution": {
     "iopub.execute_input": "2024-02-05T13:19:07.921567Z",
     "iopub.status.busy": "2024-02-05T13:19:07.921567Z",
     "iopub.status.idle": "2024-02-05T13:19:12.424384Z",
     "shell.execute_reply": "2024-02-05T13:19:12.424384Z"
    },
    "papermill": {
     "duration": 4.502817,
     "end_time": "2024-02-05T13:19:12.424384",
     "exception": false,
     "start_time": "2024-02-05T13:19:07.921567",
     "status": "completed"
    },
    "tags": []
   },
   "source": [
    "# The FACSPy dataset: Structure\n",
    "\n",
    "This vignette is supposed to explain the structure of a FACSPy dataset.\n",
    "\n",
    "FACSPy is built around the `AnnData` object. For further information on AnnData objects,\n",
    "please refer to their official documentation.\n",
    "\n",
    "This notebook covers a brief explanation of the AnnData slots and where essential information\n",
    "is stored.\n",
    "\n",
    "Later on, FACSPy-specific features will be introduced that enable the user to analyze specific\n",
    "populations from within the same AnnData object.\n",
    "\n"
   ]
  },
  {
   "cell_type": "markdown",
   "id": "b515a5b7",
   "metadata": {},
   "source": [
    "## A quick overview:\n",
    "\n",
    "1) The `.obs` slot contains all cell-specific metadata.  \n",
    "2) The `.var` slot contains all panel-related information.  \n",
    "3) The `.layers` slot contains different versions of the data.  \n",
    "4) The `.obsm` slot contains the gating matrix as well as dimensionality reduction coordinates.  \n",
    "5) The `.uns` slot contains unstructured metadata, user-supplied information and sample-wise analyses.  "
   ]
  },
  {
   "cell_type": "code",
   "execution_count": 1,
   "id": "6bd5eb5f",
   "metadata": {},
   "outputs": [],
   "source": [
    "import FACSPy as fp"
   ]
  },
  {
   "cell_type": "markdown",
   "id": "afa8ba2e",
   "metadata": {},
   "source": [
    "First, we read in a dataset via the `fp.read_dataset()` function. This dataset has been pre-assembled\n",
    "and saved to the hard drive.\n",
    "\n",
    "As we can see, the dataset consists of 3103969 cells and 36 channels."
   ]
  },
  {
   "cell_type": "code",
   "execution_count": 2,
   "id": "d9b4a86d",
   "metadata": {
    "execution": {
     "iopub.execute_input": "2024-02-05T13:19:12.449997Z",
     "iopub.status.busy": "2024-02-05T13:19:12.449009Z",
     "iopub.status.idle": "2024-02-05T13:19:15.633609Z",
     "shell.execute_reply": "2024-02-05T13:19:15.633609Z"
    },
    "papermill": {
     "duration": 3.209225,
     "end_time": "2024-02-05T13:19:15.633609",
     "exception": false,
     "start_time": "2024-02-05T13:19:12.424384",
     "status": "completed"
    },
    "tags": []
   },
   "outputs": [
    {
     "data": {
      "text/plain": [
       "AnnData object with n_obs × n_vars = 3103969 × 36\n",
       "    obs: 'sample_ID', 'file_name', 'group_fd', 'internal_id', 'organ', 'staining', 'diag_main', 'diag_fine', 'donor_id', 'material', 'batch'\n",
       "    var: 'pns', 'png', 'pne', 'type', 'pnn', 'cofactors'\n",
       "    uns: 'metadata', 'panel', 'workspace', 'gating_cols', 'dataset_status_hash', 'cofactors', 'raw_cofactors', 'cofactor_table'\n",
       "    obsm: 'gating'\n",
       "    layers: 'compensated', 'transformed'"
      ]
     },
     "execution_count": 2,
     "metadata": {},
     "output_type": "execute_result"
    }
   ],
   "source": [
    "dataset = fp.read_dataset(input_dir = \"../Tutorials/spectral_dataset/\",\n",
    "                          file_name = \"raw_dataset\")\n",
    "dataset"
   ]
  },
  {
   "cell_type": "markdown",
   "id": "0a6d39e0",
   "metadata": {},
   "source": [
    "## The `.obs` slot - cell metadata\n",
    "\n",
    "`.obs` stores the observation's characteristics, in this case the metadata. The metadata that \n",
    "were provided during dataset assembly are copied for each cell of the respective sample.\n",
    "\n",
    "The `.obs` slot contains a `pandas.DataFrame` that can be modified using conventional pandas methods."
   ]
  },
  {
   "cell_type": "code",
   "execution_count": 3,
   "id": "c0ebbab4",
   "metadata": {
    "execution": {
     "iopub.execute_input": "2024-02-05T13:19:15.674891Z",
     "iopub.status.busy": "2024-02-05T13:19:15.674891Z",
     "iopub.status.idle": "2024-02-05T13:19:15.705391Z",
     "shell.execute_reply": "2024-02-05T13:19:15.705391Z"
    },
    "papermill": {
     "duration": 0.0305,
     "end_time": "2024-02-05T13:19:15.705391",
     "exception": false,
     "start_time": "2024-02-05T13:19:15.674891",
     "status": "completed"
    },
    "tags": []
   },
   "outputs": [
    {
     "data": {
      "text/html": [
       "<div>\n",
       "<style scoped>\n",
       "    .dataframe tbody tr th:only-of-type {\n",
       "        vertical-align: middle;\n",
       "    }\n",
       "\n",
       "    .dataframe tbody tr th {\n",
       "        vertical-align: top;\n",
       "    }\n",
       "\n",
       "    .dataframe thead th {\n",
       "        text-align: right;\n",
       "    }\n",
       "</style>\n",
       "<table border=\"1\" class=\"dataframe\">\n",
       "  <thead>\n",
       "    <tr style=\"text-align: right;\">\n",
       "      <th></th>\n",
       "      <th>sample_ID</th>\n",
       "      <th>file_name</th>\n",
       "      <th>group_fd</th>\n",
       "      <th>internal_id</th>\n",
       "      <th>organ</th>\n",
       "      <th>staining</th>\n",
       "      <th>diag_main</th>\n",
       "      <th>diag_fine</th>\n",
       "      <th>donor_id</th>\n",
       "      <th>material</th>\n",
       "      <th>batch</th>\n",
       "    </tr>\n",
       "  </thead>\n",
       "  <tbody>\n",
       "    <tr>\n",
       "      <th>0-0</th>\n",
       "      <td>1</td>\n",
       "      <td>3742.fcs</td>\n",
       "      <td>healthy</td>\n",
       "      <td>3742</td>\n",
       "      <td>PB</td>\n",
       "      <td>stained</td>\n",
       "      <td>healthy</td>\n",
       "      <td>healthy</td>\n",
       "      <td>3742</td>\n",
       "      <td>PBMC</td>\n",
       "      <td>1</td>\n",
       "    </tr>\n",
       "    <tr>\n",
       "      <th>1-0</th>\n",
       "      <td>1</td>\n",
       "      <td>3742.fcs</td>\n",
       "      <td>healthy</td>\n",
       "      <td>3742</td>\n",
       "      <td>PB</td>\n",
       "      <td>stained</td>\n",
       "      <td>healthy</td>\n",
       "      <td>healthy</td>\n",
       "      <td>3742</td>\n",
       "      <td>PBMC</td>\n",
       "      <td>1</td>\n",
       "    </tr>\n",
       "    <tr>\n",
       "      <th>2-0</th>\n",
       "      <td>1</td>\n",
       "      <td>3742.fcs</td>\n",
       "      <td>healthy</td>\n",
       "      <td>3742</td>\n",
       "      <td>PB</td>\n",
       "      <td>stained</td>\n",
       "      <td>healthy</td>\n",
       "      <td>healthy</td>\n",
       "      <td>3742</td>\n",
       "      <td>PBMC</td>\n",
       "      <td>1</td>\n",
       "    </tr>\n",
       "    <tr>\n",
       "      <th>3-0</th>\n",
       "      <td>1</td>\n",
       "      <td>3742.fcs</td>\n",
       "      <td>healthy</td>\n",
       "      <td>3742</td>\n",
       "      <td>PB</td>\n",
       "      <td>stained</td>\n",
       "      <td>healthy</td>\n",
       "      <td>healthy</td>\n",
       "      <td>3742</td>\n",
       "      <td>PBMC</td>\n",
       "      <td>1</td>\n",
       "    </tr>\n",
       "    <tr>\n",
       "      <th>4-0</th>\n",
       "      <td>1</td>\n",
       "      <td>3742.fcs</td>\n",
       "      <td>healthy</td>\n",
       "      <td>3742</td>\n",
       "      <td>PB</td>\n",
       "      <td>stained</td>\n",
       "      <td>healthy</td>\n",
       "      <td>healthy</td>\n",
       "      <td>3742</td>\n",
       "      <td>PBMC</td>\n",
       "      <td>1</td>\n",
       "    </tr>\n",
       "  </tbody>\n",
       "</table>\n",
       "</div>"
      ],
      "text/plain": [
       "    sample_ID file_name group_fd internal_id organ staining diag_main  \\\n",
       "0-0         1  3742.fcs  healthy        3742    PB  stained   healthy   \n",
       "1-0         1  3742.fcs  healthy        3742    PB  stained   healthy   \n",
       "2-0         1  3742.fcs  healthy        3742    PB  stained   healthy   \n",
       "3-0         1  3742.fcs  healthy        3742    PB  stained   healthy   \n",
       "4-0         1  3742.fcs  healthy        3742    PB  stained   healthy   \n",
       "\n",
       "    diag_fine donor_id material batch  \n",
       "0-0   healthy     3742     PBMC     1  \n",
       "1-0   healthy     3742     PBMC     1  \n",
       "2-0   healthy     3742     PBMC     1  \n",
       "3-0   healthy     3742     PBMC     1  \n",
       "4-0   healthy     3742     PBMC     1  "
      ]
     },
     "execution_count": 3,
     "metadata": {},
     "output_type": "execute_result"
    }
   ],
   "source": [
    "dataset.obs.head()"
   ]
  },
  {
   "cell_type": "markdown",
   "id": "8c9d26fe",
   "metadata": {},
   "source": [
    "## Indexing `.obs` - Selecting groups of cells\n",
    "\n",
    "In order to select specific subsets of the data that can be described in terms of their metadata \n",
    "we can use indexing similar to indexing numpy arrays and pandas dataframes.\n",
    "\n",
    "Here, we subset the dataset so that only cells from the sample with sample_ID 1 are kept."
   ]
  },
  {
   "cell_type": "code",
   "execution_count": 4,
   "id": "a6532dcb",
   "metadata": {
    "execution": {
     "iopub.execute_input": "2024-02-05T13:19:15.705391Z",
     "iopub.status.busy": "2024-02-05T13:19:15.705391Z",
     "iopub.status.idle": "2024-02-05T13:19:15.769745Z",
     "shell.execute_reply": "2024-02-05T13:19:15.769745Z"
    },
    "papermill": {
     "duration": 0.064354,
     "end_time": "2024-02-05T13:19:15.769745",
     "exception": false,
     "start_time": "2024-02-05T13:19:15.705391",
     "status": "completed"
    },
    "tags": []
   },
   "outputs": [
    {
     "data": {
      "text/plain": [
       "View of AnnData object with n_obs × n_vars = 183756 × 36\n",
       "    obs: 'sample_ID', 'file_name', 'group_fd', 'internal_id', 'organ', 'staining', 'diag_main', 'diag_fine', 'donor_id', 'material', 'batch'\n",
       "    var: 'pns', 'png', 'pne', 'type', 'pnn', 'cofactors'\n",
       "    uns: 'metadata', 'panel', 'workspace', 'gating_cols', 'dataset_status_hash', 'cofactors', 'raw_cofactors', 'cofactor_table'\n",
       "    obsm: 'gating'\n",
       "    layers: 'compensated', 'transformed'"
      ]
     },
     "execution_count": 4,
     "metadata": {},
     "output_type": "execute_result"
    }
   ],
   "source": [
    "sample_1_subset = dataset[dataset.obs[\"sample_ID\"] == \"1\",:]\n",
    "sample_1_subset"
   ]
  },
  {
   "cell_type": "markdown",
   "id": "25a242fc",
   "metadata": {},
   "source": [
    "## The `.var` slot - the cytometry panel\n",
    "\n",
    "`.var` stores the panel information. This information is concatenated from the .fcs file \n",
    "and the user supplied panel. Note that the index of the table contains the antigens and \n",
    "not the fluorochromes. That means that for all functions that perform visualization tasks, the antigen \n",
    "name is used.\n",
    "\n",
    "The type of a channel can be either 'time', 'scatter', 'fluo' and 'technical' and is automatically determined upon dataset creation. Channels of type 'fluo' correspond to channels that are neither recognized as 'time', 'scatter' or 'technical'."
   ]
  },
  {
   "cell_type": "code",
   "execution_count": 5,
   "id": "876925ce",
   "metadata": {},
   "outputs": [
    {
     "data": {
      "text/html": [
       "<div>\n",
       "<style scoped>\n",
       "    .dataframe tbody tr th:only-of-type {\n",
       "        vertical-align: middle;\n",
       "    }\n",
       "\n",
       "    .dataframe tbody tr th {\n",
       "        vertical-align: top;\n",
       "    }\n",
       "\n",
       "    .dataframe thead th {\n",
       "        text-align: right;\n",
       "    }\n",
       "</style>\n",
       "<table border=\"1\" class=\"dataframe\">\n",
       "  <thead>\n",
       "    <tr style=\"text-align: right;\">\n",
       "      <th></th>\n",
       "      <th>pns</th>\n",
       "      <th>png</th>\n",
       "      <th>pne</th>\n",
       "      <th>type</th>\n",
       "      <th>pnn</th>\n",
       "      <th>cofactors</th>\n",
       "    </tr>\n",
       "  </thead>\n",
       "  <tbody>\n",
       "    <tr>\n",
       "      <th>Time</th>\n",
       "      <td>Time</td>\n",
       "      <td>1.0</td>\n",
       "      <td>(0.0, 0.0)</td>\n",
       "      <td>time</td>\n",
       "      <td>Time</td>\n",
       "      <td>1.0</td>\n",
       "    </tr>\n",
       "    <tr>\n",
       "      <th>SSC-H</th>\n",
       "      <td>SSC-H</td>\n",
       "      <td>1.0</td>\n",
       "      <td>(0.0, 0.0)</td>\n",
       "      <td>scatter</td>\n",
       "      <td>SSC-H</td>\n",
       "      <td>1.0</td>\n",
       "    </tr>\n",
       "    <tr>\n",
       "      <th>SSC-A</th>\n",
       "      <td>SSC-A</td>\n",
       "      <td>1.0</td>\n",
       "      <td>(0.0, 0.0)</td>\n",
       "      <td>scatter</td>\n",
       "      <td>SSC-A</td>\n",
       "      <td>1.0</td>\n",
       "    </tr>\n",
       "    <tr>\n",
       "      <th>FSC-H</th>\n",
       "      <td>FSC-H</td>\n",
       "      <td>1.0</td>\n",
       "      <td>(0.0, 0.0)</td>\n",
       "      <td>scatter</td>\n",
       "      <td>FSC-H</td>\n",
       "      <td>1.0</td>\n",
       "    </tr>\n",
       "    <tr>\n",
       "      <th>FSC-A</th>\n",
       "      <td>FSC-A</td>\n",
       "      <td>1.0</td>\n",
       "      <td>(0.0, 0.0)</td>\n",
       "      <td>scatter</td>\n",
       "      <td>FSC-A</td>\n",
       "      <td>1.0</td>\n",
       "    </tr>\n",
       "    <tr>\n",
       "      <th>SSC-B-H</th>\n",
       "      <td>SSC-B-H</td>\n",
       "      <td>1.0</td>\n",
       "      <td>(0.0, 0.0)</td>\n",
       "      <td>scatter</td>\n",
       "      <td>SSC-B-H</td>\n",
       "      <td>1.0</td>\n",
       "    </tr>\n",
       "    <tr>\n",
       "      <th>SSC-B-A</th>\n",
       "      <td>SSC-B-A</td>\n",
       "      <td>1.0</td>\n",
       "      <td>(0.0, 0.0)</td>\n",
       "      <td>scatter</td>\n",
       "      <td>SSC-B-A</td>\n",
       "      <td>1.0</td>\n",
       "    </tr>\n",
       "    <tr>\n",
       "      <th>CD38</th>\n",
       "      <td>CD38</td>\n",
       "      <td>1.0</td>\n",
       "      <td>(0.0, 0.0)</td>\n",
       "      <td>fluo</td>\n",
       "      <td>BUV395-A</td>\n",
       "      <td>1298.1292</td>\n",
       "    </tr>\n",
       "    <tr>\n",
       "      <th>NKG2C_(CD159c)</th>\n",
       "      <td>NKG2C_(CD159c)</td>\n",
       "      <td>1.0</td>\n",
       "      <td>(0.0, 0.0)</td>\n",
       "      <td>fluo</td>\n",
       "      <td>BUV496-A</td>\n",
       "      <td>1132.2448</td>\n",
       "    </tr>\n",
       "    <tr>\n",
       "      <th>CD3</th>\n",
       "      <td>CD3</td>\n",
       "      <td>1.0</td>\n",
       "      <td>(0.0, 0.0)</td>\n",
       "      <td>fluo</td>\n",
       "      <td>BUV563-A</td>\n",
       "      <td>5287.9663</td>\n",
       "    </tr>\n",
       "  </tbody>\n",
       "</table>\n",
       "</div>"
      ],
      "text/plain": [
       "                           pns  png         pne     type       pnn  cofactors\n",
       "Time                      Time  1.0  (0.0, 0.0)     time      Time        1.0\n",
       "SSC-H                    SSC-H  1.0  (0.0, 0.0)  scatter     SSC-H        1.0\n",
       "SSC-A                    SSC-A  1.0  (0.0, 0.0)  scatter     SSC-A        1.0\n",
       "FSC-H                    FSC-H  1.0  (0.0, 0.0)  scatter     FSC-H        1.0\n",
       "FSC-A                    FSC-A  1.0  (0.0, 0.0)  scatter     FSC-A        1.0\n",
       "SSC-B-H                SSC-B-H  1.0  (0.0, 0.0)  scatter   SSC-B-H        1.0\n",
       "SSC-B-A                SSC-B-A  1.0  (0.0, 0.0)  scatter   SSC-B-A        1.0\n",
       "CD38                      CD38  1.0  (0.0, 0.0)     fluo  BUV395-A  1298.1292\n",
       "NKG2C_(CD159c)  NKG2C_(CD159c)  1.0  (0.0, 0.0)     fluo  BUV496-A  1132.2448\n",
       "CD3                        CD3  1.0  (0.0, 0.0)     fluo  BUV563-A  5287.9663"
      ]
     },
     "execution_count": 5,
     "metadata": {},
     "output_type": "execute_result"
    }
   ],
   "source": [
    "dataset.var.head(10)"
   ]
  },
  {
   "cell_type": "markdown",
   "id": "5e905e40",
   "metadata": {},
   "source": [
    "The individual channels can be accessed by the .var_names attributes"
   ]
  },
  {
   "cell_type": "code",
   "execution_count": 6,
   "id": "8fd46564",
   "metadata": {
    "execution": {
     "iopub.execute_input": "2024-02-05T13:19:15.785852Z",
     "iopub.status.busy": "2024-02-05T13:19:15.785852Z",
     "iopub.status.idle": "2024-02-05T13:19:15.800645Z",
     "shell.execute_reply": "2024-02-05T13:19:15.800645Z"
    },
    "papermill": {
     "duration": 0.015789,
     "end_time": "2024-02-05T13:19:15.801641",
     "exception": false,
     "start_time": "2024-02-05T13:19:15.785852",
     "status": "completed"
    },
    "tags": []
   },
   "outputs": [
    {
     "data": {
      "text/plain": [
       "Index(['Time', 'SSC-H', 'SSC-A', 'FSC-H', 'FSC-A', 'SSC-B-H', 'SSC-B-A',\n",
       "       'CD38', 'NKG2C_(CD159c)', 'CD3', 'CD16', 'CD161', 'CD32', 'CD56',\n",
       "       '41BB_(CD137)', 'CD4', 'CD64', 'KLRG1', 'CD45', 'HLA_DR', 'CD19',\n",
       "       'NKp44', 'CD69', 'TIGIT', 'CD57', 'CD8', 'CD14', 'CD27',\n",
       "       'NKG2A_(CD159a)', 'CTLA-4_(CD152)', 'TRAIL_(CD253)', 'PD-1_(CD279) ',\n",
       "       'CD18', 'Zombie_NIR', 'CD66b', 'AF-A'],\n",
       "      dtype='object')"
      ]
     },
     "execution_count": 6,
     "metadata": {},
     "output_type": "execute_result"
    }
   ],
   "source": [
    "dataset.var_names"
   ]
  },
  {
   "cell_type": "markdown",
   "id": "8f8cf058",
   "metadata": {},
   "source": [
    "## Indexing `.var` - Selecting specific channels\n",
    "\n",
    "Similar to the `.obs` indexing, we use numpy/pandas indexing to subselect data corresponding to specific channels.\n",
    "\n",
    "Here, we subset the dataset so that only the channels corresponding to CD3 and CD19 are kept."
   ]
  },
  {
   "cell_type": "code",
   "execution_count": 7,
   "id": "5e7c2764",
   "metadata": {
    "execution": {
     "iopub.execute_input": "2024-02-05T13:19:15.808293Z",
     "iopub.status.busy": "2024-02-05T13:19:15.808293Z",
     "iopub.status.idle": "2024-02-05T13:19:16.489148Z",
     "shell.execute_reply": "2024-02-05T13:19:16.489148Z"
    },
    "papermill": {
     "duration": 0.6835,
     "end_time": "2024-02-05T13:19:16.489148",
     "exception": false,
     "start_time": "2024-02-05T13:19:15.805648",
     "status": "completed"
    },
    "tags": []
   },
   "outputs": [
    {
     "data": {
      "text/plain": [
       "View of AnnData object with n_obs × n_vars = 3103969 × 2\n",
       "    obs: 'sample_ID', 'file_name', 'group_fd', 'internal_id', 'organ', 'staining', 'diag_main', 'diag_fine', 'donor_id', 'material', 'batch'\n",
       "    var: 'pns', 'png', 'pne', 'type', 'pnn', 'cofactors'\n",
       "    uns: 'metadata', 'panel', 'workspace', 'gating_cols', 'dataset_status_hash', 'cofactors', 'raw_cofactors', 'cofactor_table'\n",
       "    obsm: 'gating'\n",
       "    layers: 'compensated', 'transformed'"
      ]
     },
     "execution_count": 7,
     "metadata": {},
     "output_type": "execute_result"
    }
   ],
   "source": [
    "channel_subset = dataset[:,dataset.var[\"pns\"].isin([\"CD3\", \"CD19\"])]\n",
    "channel_subset"
   ]
  },
  {
   "cell_type": "code",
   "execution_count": 8,
   "id": "6f1b963f",
   "metadata": {},
   "outputs": [
    {
     "data": {
      "text/html": [
       "<div>\n",
       "<style scoped>\n",
       "    .dataframe tbody tr th:only-of-type {\n",
       "        vertical-align: middle;\n",
       "    }\n",
       "\n",
       "    .dataframe tbody tr th {\n",
       "        vertical-align: top;\n",
       "    }\n",
       "\n",
       "    .dataframe thead th {\n",
       "        text-align: right;\n",
       "    }\n",
       "</style>\n",
       "<table border=\"1\" class=\"dataframe\">\n",
       "  <thead>\n",
       "    <tr style=\"text-align: right;\">\n",
       "      <th></th>\n",
       "      <th>pns</th>\n",
       "      <th>png</th>\n",
       "      <th>pne</th>\n",
       "      <th>type</th>\n",
       "      <th>pnn</th>\n",
       "      <th>cofactors</th>\n",
       "    </tr>\n",
       "  </thead>\n",
       "  <tbody>\n",
       "    <tr>\n",
       "      <th>CD3</th>\n",
       "      <td>CD3</td>\n",
       "      <td>1.0</td>\n",
       "      <td>(0.0, 0.0)</td>\n",
       "      <td>fluo</td>\n",
       "      <td>BUV563-A</td>\n",
       "      <td>5287.9663</td>\n",
       "    </tr>\n",
       "    <tr>\n",
       "      <th>CD19</th>\n",
       "      <td>CD19</td>\n",
       "      <td>1.0</td>\n",
       "      <td>(0.0, 0.0)</td>\n",
       "      <td>fluo</td>\n",
       "      <td>BV650-A</td>\n",
       "      <td>617.30945</td>\n",
       "    </tr>\n",
       "  </tbody>\n",
       "</table>\n",
       "</div>"
      ],
      "text/plain": [
       "       pns  png         pne  type       pnn  cofactors\n",
       "CD3    CD3  1.0  (0.0, 0.0)  fluo  BUV563-A  5287.9663\n",
       "CD19  CD19  1.0  (0.0, 0.0)  fluo   BV650-A  617.30945"
      ]
     },
     "execution_count": 8,
     "metadata": {},
     "output_type": "execute_result"
    }
   ],
   "source": [
    "channel_subset.var"
   ]
  },
  {
   "cell_type": "markdown",
   "id": "5f9effb0",
   "metadata": {},
   "source": [
    "FACSPy offers convenience functions in order to subset specific channels.\n",
    "\n",
    "Here, we only keep the channels of type 'fluo'.\n",
    "\n",
    "Note that in order to perform analysis, you can decide whether to include scatter/time/technical channels in the analysis in the respective functions. It is therefore not strictly necessary to subset fluo channels in advance."
   ]
  },
  {
   "cell_type": "code",
   "execution_count": 9,
   "id": "cf5d7366",
   "metadata": {
    "execution": {
     "iopub.execute_input": "2024-02-05T13:19:16.500321Z",
     "iopub.status.busy": "2024-02-05T13:19:16.500321Z",
     "iopub.status.idle": "2024-02-05T13:19:19.185660Z",
     "shell.execute_reply": "2024-02-05T13:19:19.185660Z"
    },
    "papermill": {
     "duration": 2.690339,
     "end_time": "2024-02-05T13:19:19.185660",
     "exception": false,
     "start_time": "2024-02-05T13:19:16.495321",
     "status": "completed"
    },
    "tags": []
   },
   "outputs": [
    {
     "data": {
      "text/html": [
       "<div>\n",
       "<style scoped>\n",
       "    .dataframe tbody tr th:only-of-type {\n",
       "        vertical-align: middle;\n",
       "    }\n",
       "\n",
       "    .dataframe tbody tr th {\n",
       "        vertical-align: top;\n",
       "    }\n",
       "\n",
       "    .dataframe thead th {\n",
       "        text-align: right;\n",
       "    }\n",
       "</style>\n",
       "<table border=\"1\" class=\"dataframe\">\n",
       "  <thead>\n",
       "    <tr style=\"text-align: right;\">\n",
       "      <th></th>\n",
       "      <th>pns</th>\n",
       "      <th>png</th>\n",
       "      <th>pne</th>\n",
       "      <th>type</th>\n",
       "      <th>pnn</th>\n",
       "      <th>cofactors</th>\n",
       "    </tr>\n",
       "  </thead>\n",
       "  <tbody>\n",
       "    <tr>\n",
       "      <th>CD38</th>\n",
       "      <td>CD38</td>\n",
       "      <td>1.0</td>\n",
       "      <td>(0.0, 0.0)</td>\n",
       "      <td>fluo</td>\n",
       "      <td>BUV395-A</td>\n",
       "      <td>1298.1292</td>\n",
       "    </tr>\n",
       "    <tr>\n",
       "      <th>NKG2C_(CD159c)</th>\n",
       "      <td>NKG2C_(CD159c)</td>\n",
       "      <td>1.0</td>\n",
       "      <td>(0.0, 0.0)</td>\n",
       "      <td>fluo</td>\n",
       "      <td>BUV496-A</td>\n",
       "      <td>1132.2448</td>\n",
       "    </tr>\n",
       "    <tr>\n",
       "      <th>CD3</th>\n",
       "      <td>CD3</td>\n",
       "      <td>1.0</td>\n",
       "      <td>(0.0, 0.0)</td>\n",
       "      <td>fluo</td>\n",
       "      <td>BUV563-A</td>\n",
       "      <td>5287.9663</td>\n",
       "    </tr>\n",
       "    <tr>\n",
       "      <th>CD16</th>\n",
       "      <td>CD16</td>\n",
       "      <td>1.0</td>\n",
       "      <td>(0.0, 0.0)</td>\n",
       "      <td>fluo</td>\n",
       "      <td>BUV615-A</td>\n",
       "      <td>14275.482</td>\n",
       "    </tr>\n",
       "    <tr>\n",
       "      <th>CD161</th>\n",
       "      <td>CD161</td>\n",
       "      <td>1.0</td>\n",
       "      <td>(0.0, 0.0)</td>\n",
       "      <td>fluo</td>\n",
       "      <td>BUV661-A</td>\n",
       "      <td>2890.5862</td>\n",
       "    </tr>\n",
       "  </tbody>\n",
       "</table>\n",
       "</div>"
      ],
      "text/plain": [
       "                           pns  png         pne  type       pnn  cofactors\n",
       "CD38                      CD38  1.0  (0.0, 0.0)  fluo  BUV395-A  1298.1292\n",
       "NKG2C_(CD159c)  NKG2C_(CD159c)  1.0  (0.0, 0.0)  fluo  BUV496-A  1132.2448\n",
       "CD3                        CD3  1.0  (0.0, 0.0)  fluo  BUV563-A  5287.9663\n",
       "CD16                      CD16  1.0  (0.0, 0.0)  fluo  BUV615-A  14275.482\n",
       "CD161                    CD161  1.0  (0.0, 0.0)  fluo  BUV661-A  2890.5862"
      ]
     },
     "execution_count": 9,
     "metadata": {},
     "output_type": "execute_result"
    }
   ],
   "source": [
    "fluo_only = fp.subset_fluo_channels(dataset,\n",
    "                                    copy = True)\n",
    "fluo_only.var.head()"
   ]
  },
  {
   "cell_type": "markdown",
   "id": "dd0f136c",
   "metadata": {},
   "source": [
    "In order to remove a specific channel, you can use the `fp.remove_channel()` function\n",
    "Here, we remove the channel corresponding to the antigen CD16."
   ]
  },
  {
   "cell_type": "code",
   "execution_count": 10,
   "id": "1c09d33f",
   "metadata": {
    "execution": {
     "iopub.execute_input": "2024-02-05T13:19:19.196246Z",
     "iopub.status.busy": "2024-02-05T13:19:19.196246Z",
     "iopub.status.idle": "2024-02-05T13:19:22.985794Z",
     "shell.execute_reply": "2024-02-05T13:19:22.985024Z"
    },
    "papermill": {
     "duration": 3.80064,
     "end_time": "2024-02-05T13:19:22.986300",
     "exception": false,
     "start_time": "2024-02-05T13:19:19.185660",
     "status": "completed"
    },
    "tags": []
   },
   "outputs": [],
   "source": [
    "without_CD16 = fp.remove_channel(dataset, \"CD16\",\n",
    "                                 copy = True)\n",
    "assert \"CD16\" not in without_CD16.var_names"
   ]
  },
  {
   "cell_type": "markdown",
   "id": "7c5289af",
   "metadata": {},
   "source": [
    "## The `.obsm slot` - gating matrix\n",
    "\n",
    "By default, the `.obsm` slot stores the gating information retrieved from a workspace or added by the user as a sparse matrix."
   ]
  },
  {
   "cell_type": "code",
   "execution_count": 11,
   "id": "d9f5b8c9",
   "metadata": {
    "execution": {
     "iopub.execute_input": "2024-02-05T13:19:22.996224Z",
     "iopub.status.busy": "2024-02-05T13:19:22.996224Z",
     "iopub.status.idle": "2024-02-05T13:19:23.000233Z",
     "shell.execute_reply": "2024-02-05T13:19:23.000233Z"
    },
    "papermill": {
     "duration": 0.013427,
     "end_time": "2024-02-05T13:19:23.001232",
     "exception": false,
     "start_time": "2024-02-05T13:19:22.987805",
     "status": "completed"
    },
    "tags": []
   },
   "outputs": [
    {
     "data": {
      "text/plain": [
       "scipy.sparse._csr.csr_matrix"
      ]
     },
     "execution_count": 11,
     "metadata": {},
     "output_type": "execute_result"
    }
   ],
   "source": [
    "type(dataset.obsm[\"gating\"])"
   ]
  },
  {
   "cell_type": "markdown",
   "id": "0b4e434b",
   "metadata": {},
   "source": [
    "This matrix is a boolean matrix where 'True' means that a cell is within the gate and False means the opposite.\n",
    "\n",
    "The gate names are stored in `.uns['gating_cols']`. We assemble the matrix, the index and the gate-names into a \n",
    "pandas dataframe:"
   ]
  },
  {
   "cell_type": "code",
   "execution_count": 12,
   "id": "5dd425f3",
   "metadata": {
    "execution": {
     "iopub.execute_input": "2024-02-05T13:19:23.008655Z",
     "iopub.status.busy": "2024-02-05T13:19:23.008655Z",
     "iopub.status.idle": "2024-02-05T13:19:23.054838Z",
     "shell.execute_reply": "2024-02-05T13:19:23.054838Z"
    },
    "papermill": {
     "duration": 0.052151,
     "end_time": "2024-02-05T13:19:23.056840",
     "exception": false,
     "start_time": "2024-02-05T13:19:23.004689",
     "status": "completed"
    },
    "tags": []
   },
   "outputs": [
    {
     "data": {
      "text/html": [
       "<div>\n",
       "<style scoped>\n",
       "    .dataframe tbody tr th:only-of-type {\n",
       "        vertical-align: middle;\n",
       "    }\n",
       "\n",
       "    .dataframe tbody tr th {\n",
       "        vertical-align: top;\n",
       "    }\n",
       "\n",
       "    .dataframe thead th {\n",
       "        text-align: right;\n",
       "    }\n",
       "</style>\n",
       "<table border=\"1\" class=\"dataframe\">\n",
       "  <thead>\n",
       "    <tr style=\"text-align: right;\">\n",
       "      <th></th>\n",
       "      <th>root/all_cells</th>\n",
       "      <th>root/all_cells/FSC_singlets</th>\n",
       "      <th>root/all_cells/FSC_singlets/live</th>\n",
       "      <th>root/all_cells/FSC_singlets/live/CD45+</th>\n",
       "      <th>root/all_cells/FSC_singlets/live/CD45+/PBMC</th>\n",
       "      <th>root/all_cells/FSC_singlets/live/CD45+/PBMC/CD19neg,_CD14neg</th>\n",
       "      <th>root/all_cells/FSC_singlets/live/CD45+/PBMC/CD19neg,_CD14neg/NK</th>\n",
       "      <th>root/all_cells/FSC_singlets/live/CD45+/PBMC/CD19neg,_CD14neg/T</th>\n",
       "      <th>root/all_cells/FSC_singlets/live/CD45+/PBMC/CD19neg,_CD14neg/T/CD8+T</th>\n",
       "    </tr>\n",
       "  </thead>\n",
       "  <tbody>\n",
       "    <tr>\n",
       "      <th>0-0</th>\n",
       "      <td>True</td>\n",
       "      <td>True</td>\n",
       "      <td>True</td>\n",
       "      <td>True</td>\n",
       "      <td>True</td>\n",
       "      <td>True</td>\n",
       "      <td>False</td>\n",
       "      <td>True</td>\n",
       "      <td>False</td>\n",
       "    </tr>\n",
       "    <tr>\n",
       "      <th>1-0</th>\n",
       "      <td>True</td>\n",
       "      <td>True</td>\n",
       "      <td>True</td>\n",
       "      <td>True</td>\n",
       "      <td>True</td>\n",
       "      <td>True</td>\n",
       "      <td>False</td>\n",
       "      <td>False</td>\n",
       "      <td>False</td>\n",
       "    </tr>\n",
       "    <tr>\n",
       "      <th>2-0</th>\n",
       "      <td>True</td>\n",
       "      <td>True</td>\n",
       "      <td>True</td>\n",
       "      <td>True</td>\n",
       "      <td>True</td>\n",
       "      <td>True</td>\n",
       "      <td>False</td>\n",
       "      <td>True</td>\n",
       "      <td>False</td>\n",
       "    </tr>\n",
       "    <tr>\n",
       "      <th>3-0</th>\n",
       "      <td>True</td>\n",
       "      <td>True</td>\n",
       "      <td>True</td>\n",
       "      <td>False</td>\n",
       "      <td>False</td>\n",
       "      <td>False</td>\n",
       "      <td>False</td>\n",
       "      <td>False</td>\n",
       "      <td>False</td>\n",
       "    </tr>\n",
       "    <tr>\n",
       "      <th>4-0</th>\n",
       "      <td>True</td>\n",
       "      <td>True</td>\n",
       "      <td>True</td>\n",
       "      <td>True</td>\n",
       "      <td>True</td>\n",
       "      <td>True</td>\n",
       "      <td>False</td>\n",
       "      <td>True</td>\n",
       "      <td>True</td>\n",
       "    </tr>\n",
       "  </tbody>\n",
       "</table>\n",
       "</div>"
      ],
      "text/plain": [
       "     root/all_cells  root/all_cells/FSC_singlets  \\\n",
       "0-0            True                         True   \n",
       "1-0            True                         True   \n",
       "2-0            True                         True   \n",
       "3-0            True                         True   \n",
       "4-0            True                         True   \n",
       "\n",
       "     root/all_cells/FSC_singlets/live  root/all_cells/FSC_singlets/live/CD45+  \\\n",
       "0-0                              True                                    True   \n",
       "1-0                              True                                    True   \n",
       "2-0                              True                                    True   \n",
       "3-0                              True                                   False   \n",
       "4-0                              True                                    True   \n",
       "\n",
       "     root/all_cells/FSC_singlets/live/CD45+/PBMC  \\\n",
       "0-0                                         True   \n",
       "1-0                                         True   \n",
       "2-0                                         True   \n",
       "3-0                                        False   \n",
       "4-0                                         True   \n",
       "\n",
       "     root/all_cells/FSC_singlets/live/CD45+/PBMC/CD19neg,_CD14neg  \\\n",
       "0-0                                               True              \n",
       "1-0                                               True              \n",
       "2-0                                               True              \n",
       "3-0                                              False              \n",
       "4-0                                               True              \n",
       "\n",
       "     root/all_cells/FSC_singlets/live/CD45+/PBMC/CD19neg,_CD14neg/NK  \\\n",
       "0-0                                              False                 \n",
       "1-0                                              False                 \n",
       "2-0                                              False                 \n",
       "3-0                                              False                 \n",
       "4-0                                              False                 \n",
       "\n",
       "     root/all_cells/FSC_singlets/live/CD45+/PBMC/CD19neg,_CD14neg/T  \\\n",
       "0-0                                               True                \n",
       "1-0                                              False                \n",
       "2-0                                               True                \n",
       "3-0                                              False                \n",
       "4-0                                               True                \n",
       "\n",
       "     root/all_cells/FSC_singlets/live/CD45+/PBMC/CD19neg,_CD14neg/T/CD8+T  \n",
       "0-0                                              False                     \n",
       "1-0                                              False                     \n",
       "2-0                                              False                     \n",
       "3-0                                              False                     \n",
       "4-0                                               True                     "
      ]
     },
     "execution_count": 12,
     "metadata": {},
     "output_type": "execute_result"
    }
   ],
   "source": [
    "import pandas as pd\n",
    "gating = pd.DataFrame(data = dataset.obsm[\"gating\"].toarray(),\n",
    "                      index = dataset.obs_names,\n",
    "                      columns = dataset.uns[\"gating_cols\"])\n",
    "gating.head()"
   ]
  },
  {
   "cell_type": "markdown",
   "id": "888940dc",
   "metadata": {},
   "source": [
    "The user is not supposed to access this matrix directly. Instead, we can use FACSPy functions to access specific gates.\n",
    "\n",
    "Here, we subset only live cells.\n",
    "\n",
    "Note that we are using the copy parameter to copy the live cells into the variable live_cells."
   ]
  },
  {
   "cell_type": "code",
   "execution_count": 13,
   "id": "f15f921e",
   "metadata": {
    "execution": {
     "iopub.execute_input": "2024-02-05T13:19:23.057905Z",
     "iopub.status.busy": "2024-02-05T13:19:23.057905Z",
     "iopub.status.idle": "2024-02-05T13:19:25.904629Z",
     "shell.execute_reply": "2024-02-05T13:19:25.903628Z"
    },
    "papermill": {
     "duration": 2.847272,
     "end_time": "2024-02-05T13:19:25.905177",
     "exception": false,
     "start_time": "2024-02-05T13:19:23.057905",
     "status": "completed"
    },
    "tags": []
   },
   "outputs": [
    {
     "data": {
      "text/plain": [
       "AnnData object with n_obs × n_vars = 2367839 × 36\n",
       "    obs: 'sample_ID', 'file_name', 'group_fd', 'internal_id', 'organ', 'staining', 'diag_main', 'diag_fine', 'donor_id', 'material', 'batch'\n",
       "    var: 'pns', 'png', 'pne', 'type', 'pnn', 'cofactors'\n",
       "    uns: 'metadata', 'panel', 'workspace', 'gating_cols', 'dataset_status_hash', 'cofactors', 'raw_cofactors', 'cofactor_table'\n",
       "    obsm: 'gating'\n",
       "    layers: 'compensated', 'transformed'"
      ]
     },
     "execution_count": 13,
     "metadata": {},
     "output_type": "execute_result"
    }
   ],
   "source": [
    "live_cells = fp.subset_gate(dataset,\n",
    "                            \"live\",\n",
    "                            copy = True)\n",
    "live_cells"
   ]
  },
  {
   "cell_type": "markdown",
   "id": "6e908abc",
   "metadata": {},
   "source": [
    "If instead of copying we want to discard all other cells that are not within the live cells, we set the parameter copy to False or leave it as default by not explicitly passing it.\n",
    "\n",
    "For the rest of the vignette, we only keep live cells."
   ]
  },
  {
   "cell_type": "code",
   "execution_count": 14,
   "id": "a6c55745",
   "metadata": {
    "execution": {
     "iopub.execute_input": "2024-02-05T13:19:25.905177Z",
     "iopub.status.busy": "2024-02-05T13:19:25.905177Z",
     "iopub.status.idle": "2024-02-05T13:19:31.584131Z",
     "shell.execute_reply": "2024-02-05T13:19:31.584131Z"
    },
    "papermill": {
     "duration": 5.678954,
     "end_time": "2024-02-05T13:19:31.584131",
     "exception": false,
     "start_time": "2024-02-05T13:19:25.905177",
     "status": "completed"
    },
    "tags": []
   },
   "outputs": [],
   "source": [
    "fp.subset_gate(dataset, \"live\")"
   ]
  },
  {
   "cell_type": "markdown",
   "id": "4d083690",
   "metadata": {},
   "source": [
    "## The `.obsm` slot - dimensionality reduction coordinates\n",
    "\n",
    "The `.obsm` slot also stores coordinates for dimensionality reductions.\n",
    "\n",
    "Here, we calculate a PCA on the transformed data for CD45+ cells."
   ]
  },
  {
   "cell_type": "code",
   "execution_count": 15,
   "id": "cd3d3864",
   "metadata": {},
   "outputs": [
    {
     "data": {
      "text/plain": [
       "AnnData object with n_obs × n_vars = 2367839 × 36\n",
       "    obs: 'sample_ID', 'file_name', 'group_fd', 'internal_id', 'organ', 'staining', 'diag_main', 'diag_fine', 'donor_id', 'material', 'batch'\n",
       "    var: 'pns', 'png', 'pne', 'type', 'pnn', 'cofactors'\n",
       "    uns: 'metadata', 'panel', 'workspace', 'gating_cols', 'dataset_status_hash', 'cofactors', 'raw_cofactors', 'cofactor_table', 'settings', 'pca_CD45+_transformed'\n",
       "    obsm: 'gating', 'X_pca_CD45+_transformed'\n",
       "    varm: 'pca_CD45+_transformed'\n",
       "    layers: 'compensated', 'transformed'"
      ]
     },
     "execution_count": 15,
     "metadata": {},
     "output_type": "execute_result"
    }
   ],
   "source": [
    "fp.tl.pca(dataset,\n",
    "          layer = \"transformed\",\n",
    "          gate = \"CD45+\")\n",
    "\n",
    "dataset"
   ]
  },
  {
   "cell_type": "markdown",
   "id": "4c4731d3",
   "metadata": {},
   "source": [
    "Similar to the mfi dataframe, we store the dimensionality reduction, the gate and the data layer within the slot entry name.\n",
    "That way, we can store dimensionality reductions, neighbors information etc. for multiple gates at the same time and easily access them.\n",
    "\n",
    "The plotting utility will use the corresponding information to access the correct slots."
   ]
  },
  {
   "cell_type": "code",
   "execution_count": 16,
   "id": "ff87181e",
   "metadata": {},
   "outputs": [
    {
     "name": "stderr",
     "output_type": "stream",
     "text": [
      "C:\\Users\\tarik\\anaconda3\\envs\\FACSPypeline\\lib\\site-packages\\scanpy\\plotting\\_tools\\scatterplots.py:1208: FutureWarning: is_categorical_dtype is deprecated and will be removed in a future version. Use isinstance(dtype, CategoricalDtype) instead\n",
      "  if not is_categorical_dtype(values):\n",
      "C:\\Users\\tarik\\anaconda3\\envs\\FACSPypeline\\lib\\site-packages\\scanpy\\plotting\\_tools\\scatterplots.py:1217: FutureWarning: The default value of 'ignore' for the `na_action` parameter in pandas.Categorical.map is deprecated and will be changed to 'None' in a future version. Please set na_action to the desired value to avoid seeing this warning\n",
      "  color_vector = pd.Categorical(values.map(color_map))\n",
      "C:\\Users\\tarik\\anaconda3\\envs\\FACSPypeline\\lib\\site-packages\\scanpy\\plotting\\_tools\\scatterplots.py:392: UserWarning: No data for colormapping provided via 'c'. Parameters 'cmap' will be ignored\n",
      "  cax = scatter(\n"
     ]
    },
    {
     "data": {
      "image/png": "[encoded data removed]",
      "text/plain": [
       "<Figure size 300x300 with 1 Axes>"
      ]
     },
     "metadata": {},
     "output_type": "display_data"
    }
   ],
   "source": [
    "fp.pl.pca(dataset,\n",
    "          layer = \"transformed\",\n",
    "          gate = \"CD45+\",\n",
    "          color = \"organ\")"
   ]
  },
  {
   "cell_type": "markdown",
   "id": "765db44c",
   "metadata": {},
   "source": [
    "## The `.layers` slot - data storage\n",
    "\n",
    "The `.layers` slot contains different versions of the data. By default, we have compensated data that are created from the .fcs file and a compensation matrix.\n",
    "\n",
    "Here, we also have transformed data that were created by `fp.dt.transform()`. Since we use both data formats for different analysis types, we keep them both readily available in the same dataset."
   ]
  },
  {
   "cell_type": "code",
   "execution_count": 17,
   "id": "3d9004a1",
   "metadata": {},
   "outputs": [
    {
     "data": {
      "text/plain": [
       "AnnData object with n_obs × n_vars = 2367839 × 36\n",
       "    obs: 'sample_ID', 'file_name', 'group_fd', 'internal_id', 'organ', 'staining', 'diag_main', 'diag_fine', 'donor_id', 'material', 'batch'\n",
       "    var: 'pns', 'png', 'pne', 'type', 'pnn', 'cofactors'\n",
       "    uns: 'metadata', 'panel', 'workspace', 'gating_cols', 'dataset_status_hash', 'cofactors', 'raw_cofactors', 'cofactor_table', 'settings', 'pca_CD45+_transformed', 'organ_colors'\n",
       "    obsm: 'gating', 'X_pca_CD45+_transformed'\n",
       "    varm: 'pca_CD45+_transformed'\n",
       "    layers: 'compensated', 'transformed'"
      ]
     },
     "execution_count": 17,
     "metadata": {},
     "output_type": "execute_result"
    }
   ],
   "source": [
    "dataset"
   ]
  },
  {
   "cell_type": "markdown",
   "id": "05cfa940",
   "metadata": {},
   "source": [
    "We can access these layers by using anndata's `.to_df()` method. Here, we convert the layer 'compensated' to a pandas dataframe."
   ]
  },
  {
   "cell_type": "code",
   "execution_count": 18,
   "id": "8a868efe",
   "metadata": {
    "execution": {
     "iopub.execute_input": "2024-02-05T13:19:31.599111Z",
     "iopub.status.busy": "2024-02-05T13:19:31.599111Z",
     "iopub.status.idle": "2024-02-05T13:19:31.624195Z",
     "shell.execute_reply": "2024-02-05T13:19:31.624195Z"
    },
    "papermill": {
     "duration": 0.040064,
     "end_time": "2024-02-05T13:19:31.624195",
     "exception": false,
     "start_time": "2024-02-05T13:19:31.584131",
     "status": "completed"
    },
    "tags": []
   },
   "outputs": [
    {
     "data": {
      "text/html": [
       "<div>\n",
       "<style scoped>\n",
       "    .dataframe tbody tr th:only-of-type {\n",
       "        vertical-align: middle;\n",
       "    }\n",
       "\n",
       "    .dataframe tbody tr th {\n",
       "        vertical-align: top;\n",
       "    }\n",
       "\n",
       "    .dataframe thead th {\n",
       "        text-align: right;\n",
       "    }\n",
       "</style>\n",
       "<table border=\"1\" class=\"dataframe\">\n",
       "  <thead>\n",
       "    <tr style=\"text-align: right;\">\n",
       "      <th></th>\n",
       "      <th>Time</th>\n",
       "      <th>SSC-H</th>\n",
       "      <th>SSC-A</th>\n",
       "      <th>FSC-H</th>\n",
       "      <th>FSC-A</th>\n",
       "      <th>SSC-B-H</th>\n",
       "      <th>SSC-B-A</th>\n",
       "      <th>CD38</th>\n",
       "      <th>NKG2C_(CD159c)</th>\n",
       "      <th>CD3</th>\n",
       "      <th>...</th>\n",
       "      <th>CD14</th>\n",
       "      <th>CD27</th>\n",
       "      <th>NKG2A_(CD159a)</th>\n",
       "      <th>CTLA-4_(CD152)</th>\n",
       "      <th>TRAIL_(CD253)</th>\n",
       "      <th>PD-1_(CD279)</th>\n",
       "      <th>CD18</th>\n",
       "      <th>Zombie_NIR</th>\n",
       "      <th>CD66b</th>\n",
       "      <th>AF-A</th>\n",
       "    </tr>\n",
       "  </thead>\n",
       "  <tbody>\n",
       "    <tr>\n",
       "      <th>0-0</th>\n",
       "      <td>0.0000</td>\n",
       "      <td>280669.0</td>\n",
       "      <td>2.964933e+05</td>\n",
       "      <td>1294084.0</td>\n",
       "      <td>1501242.750</td>\n",
       "      <td>239248.0</td>\n",
       "      <td>2.784677e+05</td>\n",
       "      <td>3733.869629</td>\n",
       "      <td>2428.832031</td>\n",
       "      <td>83645.859375</td>\n",
       "      <td>...</td>\n",
       "      <td>2196.446045</td>\n",
       "      <td>11616.447266</td>\n",
       "      <td>-6762.053223</td>\n",
       "      <td>228.966385</td>\n",
       "      <td>33.528599</td>\n",
       "      <td>94.960457</td>\n",
       "      <td>7313.366211</td>\n",
       "      <td>350.470825</td>\n",
       "      <td>275.108398</td>\n",
       "      <td>8161.391113</td>\n",
       "    </tr>\n",
       "    <tr>\n",
       "      <th>1-0</th>\n",
       "      <td>0.0034</td>\n",
       "      <td>408956.0</td>\n",
       "      <td>4.385952e+05</td>\n",
       "      <td>1095373.0</td>\n",
       "      <td>1253709.375</td>\n",
       "      <td>331308.0</td>\n",
       "      <td>3.864948e+05</td>\n",
       "      <td>-81.559128</td>\n",
       "      <td>-1160.806519</td>\n",
       "      <td>104297.421875</td>\n",
       "      <td>...</td>\n",
       "      <td>1770.571655</td>\n",
       "      <td>-821.060364</td>\n",
       "      <td>-8796.852539</td>\n",
       "      <td>-1698.822144</td>\n",
       "      <td>369.262634</td>\n",
       "      <td>488.935730</td>\n",
       "      <td>28683.802734</td>\n",
       "      <td>-980.601562</td>\n",
       "      <td>758.078125</td>\n",
       "      <td>9775.565430</td>\n",
       "    </tr>\n",
       "    <tr>\n",
       "      <th>2-0</th>\n",
       "      <td>0.0043</td>\n",
       "      <td>456595.0</td>\n",
       "      <td>4.995947e+05</td>\n",
       "      <td>1037646.0</td>\n",
       "      <td>1191190.000</td>\n",
       "      <td>346673.0</td>\n",
       "      <td>4.079460e+05</td>\n",
       "      <td>3523.129639</td>\n",
       "      <td>1337.915161</td>\n",
       "      <td>97211.875000</td>\n",
       "      <td>...</td>\n",
       "      <td>151.382462</td>\n",
       "      <td>3082.001221</td>\n",
       "      <td>1003.328857</td>\n",
       "      <td>67.463631</td>\n",
       "      <td>748.273804</td>\n",
       "      <td>3780.447021</td>\n",
       "      <td>40503.281250</td>\n",
       "      <td>-1788.460205</td>\n",
       "      <td>-21.585938</td>\n",
       "      <td>8605.550781</td>\n",
       "    </tr>\n",
       "    <tr>\n",
       "      <th>3-0</th>\n",
       "      <td>0.0055</td>\n",
       "      <td>1145342.0</td>\n",
       "      <td>1.912832e+06</td>\n",
       "      <td>1896447.0</td>\n",
       "      <td>3095241.500</td>\n",
       "      <td>1068368.0</td>\n",
       "      <td>1.890969e+06</td>\n",
       "      <td>-2893.820557</td>\n",
       "      <td>-66354.523438</td>\n",
       "      <td>117631.554688</td>\n",
       "      <td>...</td>\n",
       "      <td>66223.476562</td>\n",
       "      <td>-27051.164062</td>\n",
       "      <td>-201888.609375</td>\n",
       "      <td>-44016.957031</td>\n",
       "      <td>1557.418945</td>\n",
       "      <td>-10924.555664</td>\n",
       "      <td>127950.484375</td>\n",
       "      <td>12481.312500</td>\n",
       "      <td>7094.832031</td>\n",
       "      <td>88197.375000</td>\n",
       "    </tr>\n",
       "    <tr>\n",
       "      <th>4-0</th>\n",
       "      <td>0.0058</td>\n",
       "      <td>566604.0</td>\n",
       "      <td>6.517887e+05</td>\n",
       "      <td>1006409.0</td>\n",
       "      <td>1248624.875</td>\n",
       "      <td>414126.0</td>\n",
       "      <td>4.997060e+05</td>\n",
       "      <td>-10.057960</td>\n",
       "      <td>3012.665771</td>\n",
       "      <td>23707.751953</td>\n",
       "      <td>...</td>\n",
       "      <td>-1838.767578</td>\n",
       "      <td>5670.687500</td>\n",
       "      <td>4823.494141</td>\n",
       "      <td>3098.549561</td>\n",
       "      <td>717.823181</td>\n",
       "      <td>10720.612305</td>\n",
       "      <td>20161.494141</td>\n",
       "      <td>-860.871826</td>\n",
       "      <td>392.693848</td>\n",
       "      <td>3137.052734</td>\n",
       "    </tr>\n",
       "  </tbody>\n",
       "</table>\n",
       "<p>5 rows × 36 columns</p>\n",
       "</div>"
      ],
      "text/plain": [
       "       Time      SSC-H         SSC-A      FSC-H        FSC-A    SSC-B-H  \\\n",
       "0-0  0.0000   280669.0  2.964933e+05  1294084.0  1501242.750   239248.0   \n",
       "1-0  0.0034   408956.0  4.385952e+05  1095373.0  1253709.375   331308.0   \n",
       "2-0  0.0043   456595.0  4.995947e+05  1037646.0  1191190.000   346673.0   \n",
       "3-0  0.0055  1145342.0  1.912832e+06  1896447.0  3095241.500  1068368.0   \n",
       "4-0  0.0058   566604.0  6.517887e+05  1006409.0  1248624.875   414126.0   \n",
       "\n",
       "          SSC-B-A         CD38  NKG2C_(CD159c)            CD3  ...  \\\n",
       "0-0  2.784677e+05  3733.869629     2428.832031   83645.859375  ...   \n",
       "1-0  3.864948e+05   -81.559128    -1160.806519  104297.421875  ...   \n",
       "2-0  4.079460e+05  3523.129639     1337.915161   97211.875000  ...   \n",
       "3-0  1.890969e+06 -2893.820557   -66354.523438  117631.554688  ...   \n",
       "4-0  4.997060e+05   -10.057960     3012.665771   23707.751953  ...   \n",
       "\n",
       "             CD14          CD27  NKG2A_(CD159a)  CTLA-4_(CD152)  \\\n",
       "0-0   2196.446045  11616.447266    -6762.053223      228.966385   \n",
       "1-0   1770.571655   -821.060364    -8796.852539    -1698.822144   \n",
       "2-0    151.382462   3082.001221     1003.328857       67.463631   \n",
       "3-0  66223.476562 -27051.164062  -201888.609375   -44016.957031   \n",
       "4-0  -1838.767578   5670.687500     4823.494141     3098.549561   \n",
       "\n",
       "     TRAIL_(CD253)  PD-1_(CD279)            CD18    Zombie_NIR        CD66b  \\\n",
       "0-0      33.528599      94.960457    7313.366211    350.470825   275.108398   \n",
       "1-0     369.262634     488.935730   28683.802734   -980.601562   758.078125   \n",
       "2-0     748.273804    3780.447021   40503.281250  -1788.460205   -21.585938   \n",
       "3-0    1557.418945  -10924.555664  127950.484375  12481.312500  7094.832031   \n",
       "4-0     717.823181   10720.612305   20161.494141   -860.871826   392.693848   \n",
       "\n",
       "             AF-A  \n",
       "0-0   8161.391113  \n",
       "1-0   9775.565430  \n",
       "2-0   8605.550781  \n",
       "3-0  88197.375000  \n",
       "4-0   3137.052734  \n",
       "\n",
       "[5 rows x 36 columns]"
      ]
     },
     "execution_count": 18,
     "metadata": {},
     "output_type": "execute_result"
    }
   ],
   "source": [
    "dataset.to_df(layer = \"compensated\").head()"
   ]
  },
  {
   "cell_type": "markdown",
   "id": "af0542ec",
   "metadata": {},
   "source": [
    "## The `.uns` slot - unstructured metadata\n",
    "\n",
    "The `.uns` slot contains all data that do not fit the original shape (n_cells x n_channels) of the dataset.\n",
    "\n",
    "By default, a `Metadata` object, a `Panel` object, a `FlowJoWorkspace` object, the gate names and a dataset status hash are stored here."
   ]
  },
  {
   "cell_type": "code",
   "execution_count": 19,
   "id": "4da280ae",
   "metadata": {
    "execution": {
     "iopub.execute_input": "2024-02-05T13:19:31.656818Z",
     "iopub.status.busy": "2024-02-05T13:19:31.656818Z",
     "iopub.status.idle": "2024-02-05T13:19:31.688069Z",
     "shell.execute_reply": "2024-02-05T13:19:31.688069Z"
    },
    "papermill": {
     "duration": 0.031251,
     "end_time": "2024-02-05T13:19:31.688069",
     "exception": false,
     "start_time": "2024-02-05T13:19:31.656818",
     "status": "completed"
    },
    "tags": []
   },
   "outputs": [
    {
     "name": "stdout",
     "output_type": "stream",
     "text": [
      "Metadata(36 entries with factors ['group_fd', 'internal_id', 'organ', 'diag_main', 'diag_fine', 'donor_id', 'material', 'batch'])\n",
      "\n",
      "Panel(28 channels, loaded as provided file)\n",
      "\n",
      "CofactorTable(28 channels, loaded as provided dataframe)\n",
      "\n"
     ]
    },
    {
     "data": {
      "text/plain": [
       "AnnData object with n_obs × n_vars = 2367839 × 36\n",
       "    obs: 'sample_ID', 'file_name', 'group_fd', 'internal_id', 'organ', 'staining', 'diag_main', 'diag_fine', 'donor_id', 'material', 'batch'\n",
       "    var: 'pns', 'png', 'pne', 'type', 'pnn', 'cofactors'\n",
       "    uns: 'metadata', 'panel', 'workspace', 'gating_cols', 'dataset_status_hash', 'cofactors', 'raw_cofactors', 'cofactor_table', 'settings', 'pca_CD45+_transformed', 'organ_colors'\n",
       "    obsm: 'gating', 'X_pca_CD45+_transformed'\n",
       "    varm: 'pca_CD45+_transformed'\n",
       "    layers: 'compensated', 'transformed'"
      ]
     },
     "execution_count": 19,
     "metadata": {},
     "output_type": "execute_result"
    }
   ],
   "source": [
    "print(dataset.uns[\"metadata\"], end = \"\\n\\n\")\n",
    "print(dataset.uns[\"panel\"], end = \"\\n\\n\")\n",
    "print(dataset.uns[\"cofactors\"], end = \"\\n\\n\")\n",
    "dataset"
   ]
  },
  {
   "cell_type": "markdown",
   "id": "75034a58",
   "metadata": {},
   "source": [
    "After calculating samplewise analyses (for example MFI/FOPs), the corresponding dataframes are also stored here.\n",
    "\n",
    "Here, we calculate the MFI on the compensated data and in turn create a `.uns` entry with the name 'mfi_sample_ID_compensated'. The entry is a pandas dataframe."
   ]
  },
  {
   "cell_type": "code",
   "execution_count": 20,
   "id": "9bebf83e",
   "metadata": {
    "execution": {
     "iopub.execute_input": "2024-02-05T13:19:31.704526Z",
     "iopub.status.busy": "2024-02-05T13:19:31.703526Z",
     "iopub.status.idle": "2024-02-05T13:19:48.239032Z",
     "shell.execute_reply": "2024-02-05T13:19:48.239032Z"
    },
    "papermill": {
     "duration": 16.542037,
     "end_time": "2024-02-05T13:19:48.239032",
     "exception": false,
     "start_time": "2024-02-05T13:19:31.696995",
     "status": "completed"
    },
    "tags": []
   },
   "outputs": [
    {
     "data": {
      "text/plain": [
       "AnnData object with n_obs × n_vars = 2367839 × 36\n",
       "    obs: 'sample_ID', 'file_name', 'group_fd', 'internal_id', 'organ', 'staining', 'diag_main', 'diag_fine', 'donor_id', 'material', 'batch'\n",
       "    var: 'pns', 'png', 'pne', 'type', 'pnn', 'cofactors'\n",
       "    uns: 'metadata', 'panel', 'workspace', 'gating_cols', 'dataset_status_hash', 'cofactors', 'raw_cofactors', 'cofactor_table', 'settings', 'pca_CD45+_transformed', 'organ_colors', 'mfi_sample_ID_compensated'\n",
       "    obsm: 'gating', 'X_pca_CD45+_transformed'\n",
       "    varm: 'pca_CD45+_transformed'\n",
       "    layers: 'compensated', 'transformed'"
      ]
     },
     "execution_count": 20,
     "metadata": {},
     "output_type": "execute_result"
    }
   ],
   "source": [
    "fp.tl.mfi(dataset,\n",
    "          layer = \"compensated\")\n",
    "\n",
    "dataset"
   ]
  },
  {
   "cell_type": "markdown",
   "id": "3ba8efe8",
   "metadata": {},
   "source": [
    "When we inspect the dataframe, we see that for every gate, the MFI values have been calculated per channel."
   ]
  },
  {
   "cell_type": "code",
   "execution_count": 21,
   "id": "3231a7bf",
   "metadata": {
    "execution": {
     "iopub.execute_input": "2024-02-05T13:19:48.256278Z",
     "iopub.status.busy": "2024-02-05T13:19:48.256278Z",
     "iopub.status.idle": "2024-02-05T13:19:48.287556Z",
     "shell.execute_reply": "2024-02-05T13:19:48.287556Z"
    },
    "papermill": {
     "duration": 0.031278,
     "end_time": "2024-02-05T13:19:48.287556",
     "exception": false,
     "start_time": "2024-02-05T13:19:48.256278",
     "status": "completed"
    },
    "tags": []
   },
   "outputs": [
    {
     "data": {
      "text/html": [
       "<div>\n",
       "<style scoped>\n",
       "    .dataframe tbody tr th:only-of-type {\n",
       "        vertical-align: middle;\n",
       "    }\n",
       "\n",
       "    .dataframe tbody tr th {\n",
       "        vertical-align: top;\n",
       "    }\n",
       "\n",
       "    .dataframe thead th {\n",
       "        text-align: right;\n",
       "    }\n",
       "</style>\n",
       "<table border=\"1\" class=\"dataframe\">\n",
       "  <thead>\n",
       "    <tr style=\"text-align: right;\">\n",
       "      <th></th>\n",
       "      <th></th>\n",
       "      <th>Time</th>\n",
       "      <th>SSC-H</th>\n",
       "      <th>SSC-A</th>\n",
       "      <th>FSC-H</th>\n",
       "      <th>FSC-A</th>\n",
       "      <th>SSC-B-H</th>\n",
       "      <th>SSC-B-A</th>\n",
       "      <th>CD38</th>\n",
       "      <th>NKG2C_(CD159c)</th>\n",
       "      <th>CD3</th>\n",
       "      <th>...</th>\n",
       "      <th>CD14</th>\n",
       "      <th>CD27</th>\n",
       "      <th>NKG2A_(CD159a)</th>\n",
       "      <th>CTLA-4_(CD152)</th>\n",
       "      <th>TRAIL_(CD253)</th>\n",
       "      <th>PD-1_(CD279)</th>\n",
       "      <th>CD18</th>\n",
       "      <th>Zombie_NIR</th>\n",
       "      <th>CD66b</th>\n",
       "      <th>AF-A</th>\n",
       "    </tr>\n",
       "    <tr>\n",
       "      <th>sample_ID</th>\n",
       "      <th>gate</th>\n",
       "      <th></th>\n",
       "      <th></th>\n",
       "      <th></th>\n",
       "      <th></th>\n",
       "      <th></th>\n",
       "      <th></th>\n",
       "      <th></th>\n",
       "      <th></th>\n",
       "      <th></th>\n",
       "      <th></th>\n",
       "      <th></th>\n",
       "      <th></th>\n",
       "      <th></th>\n",
       "      <th></th>\n",
       "      <th></th>\n",
       "      <th></th>\n",
       "      <th></th>\n",
       "      <th></th>\n",
       "      <th></th>\n",
       "      <th></th>\n",
       "      <th></th>\n",
       "    </tr>\n",
       "  </thead>\n",
       "  <tbody>\n",
       "    <tr>\n",
       "      <th>1</th>\n",
       "      <th>root/all_cells</th>\n",
       "      <td>92.338799</td>\n",
       "      <td>426979.0</td>\n",
       "      <td>483348.156250</td>\n",
       "      <td>1280046.0</td>\n",
       "      <td>1.525810e+06</td>\n",
       "      <td>343562.0</td>\n",
       "      <td>416366.468750</td>\n",
       "      <td>3096.480225</td>\n",
       "      <td>421.562561</td>\n",
       "      <td>4260.855957</td>\n",
       "      <td>...</td>\n",
       "      <td>326.190948</td>\n",
       "      <td>2415.716309</td>\n",
       "      <td>-2186.655518</td>\n",
       "      <td>113.783081</td>\n",
       "      <td>567.933838</td>\n",
       "      <td>476.055206</td>\n",
       "      <td>21647.068359</td>\n",
       "      <td>64.106445</td>\n",
       "      <td>382.719727</td>\n",
       "      <td>8249.457031</td>\n",
       "    </tr>\n",
       "    <tr>\n",
       "      <th>2</th>\n",
       "      <th>root/all_cells</th>\n",
       "      <td>91.307152</td>\n",
       "      <td>461467.5</td>\n",
       "      <td>528586.281250</td>\n",
       "      <td>1314374.5</td>\n",
       "      <td>1.597389e+06</td>\n",
       "      <td>370216.0</td>\n",
       "      <td>454101.234375</td>\n",
       "      <td>3649.359985</td>\n",
       "      <td>752.088287</td>\n",
       "      <td>27555.433594</td>\n",
       "      <td>...</td>\n",
       "      <td>49.189646</td>\n",
       "      <td>4699.732422</td>\n",
       "      <td>-2126.341431</td>\n",
       "      <td>354.737915</td>\n",
       "      <td>765.017456</td>\n",
       "      <td>763.312592</td>\n",
       "      <td>19111.833008</td>\n",
       "      <td>380.439178</td>\n",
       "      <td>394.168945</td>\n",
       "      <td>7477.313477</td>\n",
       "    </tr>\n",
       "    <tr>\n",
       "      <th>3</th>\n",
       "      <th>root/all_cells</th>\n",
       "      <td>100.621799</td>\n",
       "      <td>458393.0</td>\n",
       "      <td>523310.906250</td>\n",
       "      <td>1203675.5</td>\n",
       "      <td>1.438810e+06</td>\n",
       "      <td>374794.0</td>\n",
       "      <td>456158.156250</td>\n",
       "      <td>2338.043701</td>\n",
       "      <td>541.534790</td>\n",
       "      <td>28436.040039</td>\n",
       "      <td>...</td>\n",
       "      <td>1491.264160</td>\n",
       "      <td>1293.785889</td>\n",
       "      <td>-2469.103516</td>\n",
       "      <td>-16.103633</td>\n",
       "      <td>844.625580</td>\n",
       "      <td>579.380524</td>\n",
       "      <td>17958.804688</td>\n",
       "      <td>694.674988</td>\n",
       "      <td>371.653076</td>\n",
       "      <td>6341.876709</td>\n",
       "    </tr>\n",
       "    <tr>\n",
       "      <th>4</th>\n",
       "      <th>root/all_cells</th>\n",
       "      <td>98.125847</td>\n",
       "      <td>412581.0</td>\n",
       "      <td>460528.484375</td>\n",
       "      <td>1208110.0</td>\n",
       "      <td>1.420063e+06</td>\n",
       "      <td>336580.0</td>\n",
       "      <td>401097.625000</td>\n",
       "      <td>3147.915283</td>\n",
       "      <td>1111.765991</td>\n",
       "      <td>43195.044922</td>\n",
       "      <td>...</td>\n",
       "      <td>1263.234619</td>\n",
       "      <td>4732.218994</td>\n",
       "      <td>-2937.132690</td>\n",
       "      <td>5.521069</td>\n",
       "      <td>671.986633</td>\n",
       "      <td>344.843430</td>\n",
       "      <td>11126.077637</td>\n",
       "      <td>737.335571</td>\n",
       "      <td>271.416504</td>\n",
       "      <td>6536.433105</td>\n",
       "    </tr>\n",
       "    <tr>\n",
       "      <th>5</th>\n",
       "      <th>root/all_cells</th>\n",
       "      <td>90.351402</td>\n",
       "      <td>442781.0</td>\n",
       "      <td>505627.750000</td>\n",
       "      <td>1265257.0</td>\n",
       "      <td>1.513078e+06</td>\n",
       "      <td>356986.0</td>\n",
       "      <td>436810.468750</td>\n",
       "      <td>2581.451660</td>\n",
       "      <td>1372.416504</td>\n",
       "      <td>4461.762695</td>\n",
       "      <td>...</td>\n",
       "      <td>5.471334</td>\n",
       "      <td>2372.531494</td>\n",
       "      <td>-1844.797852</td>\n",
       "      <td>191.291962</td>\n",
       "      <td>702.836304</td>\n",
       "      <td>584.618591</td>\n",
       "      <td>16370.416016</td>\n",
       "      <td>529.221924</td>\n",
       "      <td>345.144775</td>\n",
       "      <td>7698.866211</td>\n",
       "    </tr>\n",
       "  </tbody>\n",
       "</table>\n",
       "<p>5 rows × 36 columns</p>\n",
       "</div>"
      ],
      "text/plain": [
       "                                Time     SSC-H          SSC-A      FSC-H  \\\n",
       "sample_ID gate                                                             \n",
       "1         root/all_cells   92.338799  426979.0  483348.156250  1280046.0   \n",
       "2         root/all_cells   91.307152  461467.5  528586.281250  1314374.5   \n",
       "3         root/all_cells  100.621799  458393.0  523310.906250  1203675.5   \n",
       "4         root/all_cells   98.125847  412581.0  460528.484375  1208110.0   \n",
       "5         root/all_cells   90.351402  442781.0  505627.750000  1265257.0   \n",
       "\n",
       "                                 FSC-A   SSC-B-H        SSC-B-A         CD38  \\\n",
       "sample_ID gate                                                                 \n",
       "1         root/all_cells  1.525810e+06  343562.0  416366.468750  3096.480225   \n",
       "2         root/all_cells  1.597389e+06  370216.0  454101.234375  3649.359985   \n",
       "3         root/all_cells  1.438810e+06  374794.0  456158.156250  2338.043701   \n",
       "4         root/all_cells  1.420063e+06  336580.0  401097.625000  3147.915283   \n",
       "5         root/all_cells  1.513078e+06  356986.0  436810.468750  2581.451660   \n",
       "\n",
       "                          NKG2C_(CD159c)           CD3  ...         CD14  \\\n",
       "sample_ID gate                                          ...                \n",
       "1         root/all_cells      421.562561   4260.855957  ...   326.190948   \n",
       "2         root/all_cells      752.088287  27555.433594  ...    49.189646   \n",
       "3         root/all_cells      541.534790  28436.040039  ...  1491.264160   \n",
       "4         root/all_cells     1111.765991  43195.044922  ...  1263.234619   \n",
       "5         root/all_cells     1372.416504   4461.762695  ...     5.471334   \n",
       "\n",
       "                                 CD27  NKG2A_(CD159a)  CTLA-4_(CD152)  \\\n",
       "sample_ID gate                                                          \n",
       "1         root/all_cells  2415.716309    -2186.655518      113.783081   \n",
       "2         root/all_cells  4699.732422    -2126.341431      354.737915   \n",
       "3         root/all_cells  1293.785889    -2469.103516      -16.103633   \n",
       "4         root/all_cells  4732.218994    -2937.132690        5.521069   \n",
       "5         root/all_cells  2372.531494    -1844.797852      191.291962   \n",
       "\n",
       "                          TRAIL_(CD253)  PD-1_(CD279)           CD18  \\\n",
       "sample_ID gate                                                         \n",
       "1         root/all_cells     567.933838     476.055206  21647.068359   \n",
       "2         root/all_cells     765.017456     763.312592  19111.833008   \n",
       "3         root/all_cells     844.625580     579.380524  17958.804688   \n",
       "4         root/all_cells     671.986633     344.843430  11126.077637   \n",
       "5         root/all_cells     702.836304     584.618591  16370.416016   \n",
       "\n",
       "                          Zombie_NIR       CD66b         AF-A  \n",
       "sample_ID gate                                                 \n",
       "1         root/all_cells   64.106445  382.719727  8249.457031  \n",
       "2         root/all_cells  380.439178  394.168945  7477.313477  \n",
       "3         root/all_cells  694.674988  371.653076  6341.876709  \n",
       "4         root/all_cells  737.335571  271.416504  6536.433105  \n",
       "5         root/all_cells  529.221924  345.144775  7698.866211  \n",
       "\n",
       "[5 rows x 36 columns]"
      ]
     },
     "execution_count": 21,
     "metadata": {},
     "output_type": "execute_result"
    }
   ],
   "source": [
    "dataset.uns[\"mfi_sample_ID_compensated\"].head()"
   ]
  },
  {
   "cell_type": "markdown",
   "id": "acb103b0",
   "metadata": {},
   "source": [
    "Similarly, if we calculate the fop using the same settings we create an entry called 'fop_sample_ID_compensated'"
   ]
  },
  {
   "cell_type": "code",
   "execution_count": 22,
   "id": "81486a5d",
   "metadata": {
    "execution": {
     "iopub.execute_input": "2024-02-05T13:19:48.300721Z",
     "iopub.status.busy": "2024-02-05T13:19:48.299711Z",
     "iopub.status.idle": "2024-02-05T13:19:54.287516Z",
     "shell.execute_reply": "2024-02-05T13:19:54.287516Z"
    },
    "papermill": {
     "duration": 5.992823,
     "end_time": "2024-02-05T13:19:54.287516",
     "exception": false,
     "start_time": "2024-02-05T13:19:48.294693",
     "status": "completed"
    },
    "tags": []
   },
   "outputs": [
    {
     "data": {
      "text/plain": [
       "AnnData object with n_obs × n_vars = 2367839 × 36\n",
       "    obs: 'sample_ID', 'file_name', 'group_fd', 'internal_id', 'organ', 'staining', 'diag_main', 'diag_fine', 'donor_id', 'material', 'batch'\n",
       "    var: 'pns', 'png', 'pne', 'type', 'pnn', 'cofactors'\n",
       "    uns: 'metadata', 'panel', 'workspace', 'gating_cols', 'dataset_status_hash', 'cofactors', 'raw_cofactors', 'cofactor_table', 'settings', 'pca_CD45+_transformed', 'organ_colors', 'mfi_sample_ID_compensated', 'fop_sample_ID_compensated'\n",
       "    obsm: 'gating', 'X_pca_CD45+_transformed'\n",
       "    varm: 'pca_CD45+_transformed'\n",
       "    layers: 'compensated', 'transformed'"
      ]
     },
     "execution_count": 22,
     "metadata": {},
     "output_type": "execute_result"
    }
   ],
   "source": [
    "fp.tl.fop(dataset,\n",
    "          layer = \"compensated\")\n",
    "dataset"
   ]
  },
  {
   "cell_type": "markdown",
   "id": "2a6b91cb",
   "metadata": {},
   "source": [
    "We also store analysis settings that were used for the respective function parameters in the `.uns['settings']` slot."
   ]
  },
  {
   "cell_type": "code",
   "execution_count": 23,
   "id": "772067c9",
   "metadata": {
    "execution": {
     "iopub.execute_input": "2024-02-05T13:19:54.301656Z",
     "iopub.status.busy": "2024-02-05T13:19:54.301656Z",
     "iopub.status.idle": "2024-02-05T13:19:54.319843Z",
     "shell.execute_reply": "2024-02-05T13:19:54.319843Z"
    },
    "papermill": {
     "duration": 0.024155,
     "end_time": "2024-02-05T13:19:54.319843",
     "exception": false,
     "start_time": "2024-02-05T13:19:54.295688",
     "status": "completed"
    },
    "tags": []
   },
   "outputs": [
    {
     "data": {
      "text/plain": [
       "{'_pca_CD45+_transformed': {'gate': 'CD45+',\n",
       "  'layer': 'transformed',\n",
       "  'use_only_fluo': True,\n",
       "  'exclude': [],\n",
       "  'scaling': None},\n",
       " '_mfi_sample_ID_compensated': {'groupby': 'sample_ID',\n",
       "  'method': 'median',\n",
       "  'use_only_fluo': False,\n",
       "  'layer': 'compensated'},\n",
       " '_fop_sample_ID_compensated': {'groupby': 'sample_ID',\n",
       "  'cutoff': array([1.0000000e+00, 1.0000000e+00, 1.0000000e+00, 1.0000000e+00,\n",
       "         1.0000000e+00, 1.0000000e+00, 1.0000000e+00, 1.2981292e+03,\n",
       "         1.1322448e+03, 5.2879663e+03, 1.4275482e+04, 2.8905862e+03,\n",
       "         5.5698975e+03, 2.7737961e+03, 2.1693916e+03, 4.2989844e+03,\n",
       "         2.0747034e+03, 2.4437014e+03, 5.0000000e+03, 7.1690107e+03,\n",
       "         6.1730945e+02, 1.3852777e+03, 1.4649585e+03, 4.0099905e+03,\n",
       "         1.3888629e+03, 4.0046506e+03, 4.8489380e+03, 4.0826614e+02,\n",
       "         7.7138184e+02, 1.3791636e+03, 2.5787056e+03, 1.2436598e+03,\n",
       "         6.2204258e+03, 4.2631496e+04, 8.8387695e+03, 1.0000000e+00],\n",
       "        dtype=float32),\n",
       "  'use_only_fluo': False,\n",
       "  'layer': 'compensated'}}"
      ]
     },
     "execution_count": 23,
     "metadata": {},
     "output_type": "execute_result"
    }
   ],
   "source": [
    "dataset.uns[\"settings\"]"
   ]
  }
 ],
 "metadata": {
  "kernelspec": {
   "display_name": "Python 3 (ipykernel)",
   "language": "python",
   "name": "python3"
  },
  "language_info": {
   "codemirror_mode": {
    "name": "ipython",
    "version": 3
   },
   "file_extension": ".py",
   "mimetype": "text/x-python",
   "name": "python",
   "nbconvert_exporter": "python",
   "pygments_lexer": "ipython3",
   "version": "3.10.13"
  },
  "papermill": {
   "default_parameters": {},
   "duration": 77.427489,
   "end_time": "2024-02-05T13:20:24.088112",
   "environment_variables": {},
   "exception": null,
   "input_path": "C:\\Users\\tarik\\Python\\FACSPy\\vignettes\\FACSPy_dataset_vignette.ipynb",
   "output_path": "C:\\Users\\tarik\\Python\\FACSPy\\vignettes\\FACSPy_dataset_vignette.ipynb",
   "parameters": {},
   "start_time": "2024-02-05T13:19:06.660623",
   "version": "2.5.0"
  }
 },
 "nbformat": 4,
 "nbformat_minor": 5
}
